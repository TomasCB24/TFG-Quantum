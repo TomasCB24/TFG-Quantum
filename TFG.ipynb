{
 "cells": [
  {
   "cell_type": "markdown",
   "id": "22eca57e",
   "metadata": {},
   "source": [
    "# TFG Tomás Camero"
   ]
  },
  {
   "cell_type": "markdown",
   "id": "ece88be8",
   "metadata": {},
   "source": [
    "* [MLP](#MLP)\n",
    "    * [Inicialización de variables](#Inicialización)\n",
    "    * [Búsqueda de hiperparámetros](#Búsqueda)\n",
    "    * [Entrenamiento](#Entrenamiento)\n",
    "    * [Resultados](#Resultados)\n",
    "    * [Algunas gráficas](#Gráficas)\n",
    "* [Keras](#Keras)\n",
    "    * [Inicialización de variables](#Inicialización2)\n",
    "    * [Creación del modelo](#Modelo2)\n",
    "    * [Entrenamiento](#Entrenamiento2)\n",
    "    * [Resultados](#Resultados2)\n",
    "* [TensorFlow Quantum](#TensorFlow)\n",
    "    * [Inicialización de variables](#Inicialización3)\n",
    "    * [Clases](#Clases)\n",
    "    * [Creación del modelo híbrido](#Modelo3)\n",
    "    * [Entrenamiento](#Entrenamiento3)\n",
    "    * [Resultados](#Resultados3)\n",
    "* [Qiskit](#qiskit)\n",
    "    * [Inicialización de variables](#Inicialización4)\n",
    "    * [Funciones necesarias](#Funciones4)\n",
    "    * [Creación de la red híbrido](#Modelo4)\n",
    "    * [Entrenamiento](#Entrenamiento4)\n",
    "    * [Resultados](#Resultados4)\n",
    "* [Comparaciones](#comparaciones)"
   ]
  },
  {
   "cell_type": "markdown",
   "id": "ec2c20f0",
   "metadata": {},
   "source": [
    "# MLP<a class=\"anchor\" id=\"MLP\"></a>"
   ]
  },
  {
   "cell_type": "code",
   "execution_count": 1,
   "id": "2e12a668",
   "metadata": {},
   "outputs": [
    {
     "data": {
      "text/html": [
       "        <script type=\"text/javascript\">\n",
       "        window.PlotlyConfig = {MathJaxConfig: 'local'};\n",
       "        if (window.MathJax && window.MathJax.Hub && window.MathJax.Hub.Config) {window.MathJax.Hub.Config({SVG: {font: \"STIX-Web\"}});}\n",
       "        if (typeof require !== 'undefined') {\n",
       "        require.undef(\"plotly\");\n",
       "        requirejs.config({\n",
       "            paths: {\n",
       "                'plotly': ['https://cdn.plot.ly/plotly-2.18.2.min']\n",
       "            }\n",
       "        });\n",
       "        require(['plotly'], function(Plotly) {\n",
       "            window._Plotly = Plotly;\n",
       "        });\n",
       "        }\n",
       "        </script>\n",
       "        "
      ]
     },
     "metadata": {},
     "output_type": "display_data"
    }
   ],
   "source": [
    "import matplotlib as mpl\n",
    "import matplotlib.pyplot as plt\n",
    "import multiprocessing as mp\n",
    "from matplotlib.patches import Wedge, Circle\n",
    "\n",
    "%matplotlib inline\n",
    "import numpy as np\n",
    "import pandas as pd \n",
    "from sklearn import datasets, metrics\n",
    "import time as time\n",
    "from sklearn import svm\n",
    "from sklearn.experimental import enable_halving_search_cv \n",
    "from sklearn.model_selection import HalvingGridSearchCV\n",
    "from sklearn.exceptions import ConvergenceWarning\n",
    "from sklearn.neural_network import MLPClassifier\n",
    "import seaborn\n",
    "import cProfile\n",
    "from io import StringIO\n",
    "import pstats\n",
    "import psutil\n",
    "import threading\n",
    "cores = psutil.cpu_count()\n",
    "from sklearn import metrics\n",
    "import chart_studio.plotly as py\n",
    "import plotly.graph_objs as go\n",
    "from plotly import tools\n",
    "from plotly.offline import init_notebook_mode, iplot\n",
    "init_notebook_mode(connected=True)\n",
    "from keras.datasets import mnist\n",
    "from skimage.transform import resize"
   ]
  },
  {
   "cell_type": "markdown",
   "id": "4fda7c64",
   "metadata": {},
   "source": [
    "## 1. Inicialización de variables <a class=\"anchor\" id=\"Inicialización\"></a>"
   ]
  },
  {
   "cell_type": "code",
   "execution_count": 2,
   "id": "91800f93",
   "metadata": {},
   "outputs": [],
   "source": [
    "cpu_percent_list_train_mlp = []\n",
    "memory_usage_list_train_mlp= []\n",
    "cpu_percent_list_test_mlp= []\n",
    "memory_usage_list_test_mlp= []\n"
   ]
  },
  {
   "cell_type": "code",
   "execution_count": 3,
   "id": "5e13be0d",
   "metadata": {},
   "outputs": [],
   "source": [
    "(train_x, train_y), (test_x, test_y) = mnist.load_data()\n",
    "\n",
    "train_x = train_x.reshape(60000, 784)\n",
    "test_x = test_x.reshape(10000, 784)\n",
    "\n",
    "indices_train = np.where((train_y == 3) | (train_y == 4) | (train_y == 5))\n",
    "x_train_filtered = train_x[indices_train]\n",
    "y_train_filtered = train_y[indices_train]\n",
    "\n",
    "\n",
    "indices_test = np.where((test_y == 3) | (test_y == 4) | (test_y == 5))\n",
    "x_test_filtered = test_x[indices_test]\n",
    "y_test_filtered = test_y[indices_test]\n",
    "\n",
    "\n",
    "train_y = y_train_filtered\n",
    "test_y = y_test_filtered\n",
    "\n",
    "train_x = np.array([resize(image, (4, 4)) for image in x_train_filtered])\n",
    "test_x = np.array([resize(image, (4, 4)) for image in x_test_filtered])\n",
    "\n",
    "train_x = train_x.reshape(train_x.shape[0], -1)\n",
    "test_x = test_x.reshape(test_x.shape[0], -1)\n",
    "\n",
    "train_x = train_x.astype('float32')\n",
    "test_x = test_x.astype('float32')\n",
    "train_x /= 255\n",
    "test_x /= 255"
   ]
  },
  {
   "cell_type": "code",
   "execution_count": 4,
   "id": "5a8461ca",
   "metadata": {},
   "outputs": [],
   "source": [
    "def lists_cpu_and_ram_mlp_train():\n",
    "    global running\n",
    "    running = True\n",
    "\n",
    "    currentProcess = psutil.Process()\n",
    "    while running:\n",
    "        cpu_percent_list_train_mlp.append(currentProcess.cpu_percent(interval=1)/cores)\n",
    "        memory_usage_list_train_mlp.append(currentProcess.memory_percent())\n",
    "        \n",
    "def start_mlp_train():\n",
    "    global t\n",
    "\n",
    "    # create thread and start it\n",
    "    t = threading.Thread(target=lists_cpu_and_ram_mlp_train)\n",
    "    t.start()\n",
    "\n",
    "def stop_mlp_train():\n",
    "    global running\n",
    "    global t\n",
    "\n",
    "    # use `running` to stop loop in thread so thread will end\n",
    "    running = False\n",
    "\n",
    "    # wait for thread's end\n",
    "    t.join()"
   ]
  },
  {
   "cell_type": "code",
   "execution_count": 5,
   "id": "42174f09",
   "metadata": {},
   "outputs": [],
   "source": [
    "def lists_cpu_and_ram_mlp_test():\n",
    "    global running\n",
    "    running = True\n",
    "    currentProcess = psutil.Process()\n",
    "\n",
    "    while running:\n",
    "        cpu_percent_list_test_mlp.append(currentProcess.cpu_percent(interval=1)/cores)\n",
    "        memory_usage_list_test_mlp.append(currentProcess.memory_percent())\n",
    "        \n",
    "def start_mlp_test():\n",
    "    global t\n",
    "\n",
    "    # create thread and start it\n",
    "    t = threading.Thread(target=lists_cpu_and_ram_mlp_test)\n",
    "    t.start()\n",
    "\n",
    "def stop_mlp_test():\n",
    "    global running\n",
    "    global t\n",
    "\n",
    "    # use `running` to stop loop in thread so thread will end\n",
    "    running = False\n",
    "\n",
    "    # wait for thread's end\n",
    "    t.join()"
   ]
  },
  {
   "cell_type": "markdown",
   "id": "7fb3fcc3",
   "metadata": {},
   "source": [
    "## 2. Funcion para buscar los mejores hiperparámetros <a class=\"anchor\" id=\"Búsqueda\"></a>"
   ]
  },
  {
   "cell_type": "code",
   "execution_count": 6,
   "id": "8edbc671",
   "metadata": {},
   "outputs": [],
   "source": [
    "def busqueda_de_atributos_mlp(modelo):\n",
    "    scoring = 'accuracy'\n",
    "    param_grid = {\n",
    "        'hidden_layer_sizes': [(50,), (100,), (50, 50), (100, 100), (50, 100), (100, 50), \n",
    "                               (50, 50, 50), (100, 100, 100), (50, 100, 50), (100, 50, 100),\n",
    "                               (50, 100, 50, 100), (100, 50, 100, 50)],\n",
    "        'activation': ['identity', 'logistic', 'tanh', 'relu'],\n",
    "        'solver': ['lbfgs', 'sgd', 'adam'],\n",
    "        'alpha': [0.00001, 0.0001, 0.001, 0.01, 0.1],\n",
    "        'learning_rate': ['constant', 'invscaling', 'adaptive'],\n",
    "        'max_iter': [15000,20000,25000]\n",
    "    }\n",
    "    \n",
    "    grid_search_mlp = HalvingGridSearchCV(estimator=modelo, param_grid=param_grid, scoring=scoring, cv=10)\n",
    "    grid_search_mlp.fit(train_x, train_y)\n",
    "\n",
    "    return [grid_search_mlp.best_estimator_,grid_search_mlp.best_params_]"
   ]
  },
  {
   "cell_type": "markdown",
   "id": "c8ee2ad7",
   "metadata": {},
   "source": [
    "## 3. Entrenamiento <a class=\"anchor\" id=\"Entrenamiento\"></a>"
   ]
  },
  {
   "cell_type": "code",
   "execution_count": 7,
   "id": "7d993663",
   "metadata": {},
   "outputs": [],
   "source": [
    "def entrenamientoyresultados_mlp(modelo):\n",
    "    \n",
    "    clf_mlp = modelo\n",
    "    #Empezamos a contar el tiempo de entrenamiento\n",
    "    startTrainingTime_mlp = time.time()\n",
    "    \n",
    "    # Entrenamiento\n",
    "    start_mlp_train()\n",
    "    try:\n",
    "        clf_mlp.fit(train_x, train_y)\n",
    "    finally:\n",
    "        stop_mlp_train()\n",
    "\n",
    "\n",
    "    #Terminamos de contar el tiempo de entrenamiento\n",
    "    endTrainingTime_mlp = time.time()\n",
    "\n",
    "    #Calculamos el tiempo de entrenamiento\n",
    "    trainingTime_mlp = endTrainingTime_mlp - startTrainingTime_mlp  \n",
    "\n",
    "    validResults_mlp = 0\n",
    "\n",
    "    #Empezamos a contar el tiempo de testeo\n",
    "    \n",
    "    startTestingTime_mlp = time.time()\n",
    "    \n",
    "    start_mlp_test()\n",
    "    try:\n",
    "        \n",
    "        predicted_mlp = clf_mlp.predict(test_x)\n",
    "        precision_mlp = metrics.accuracy_score(test_y, predicted_mlp)\n",
    "        \n",
    "    finally:\n",
    "        stop_mlp_test()\n",
    "    \n",
    "    #Terminamos de contar el tiempo de testeo\n",
    "    endTestingTime_mlp = time.time()\n",
    "\n",
    "    #Calculamos el tiempo de testeo\n",
    "    testingTime_mlp = endTestingTime_mlp - startTestingTime_mlp  # Calculation of testing time\n",
    "    \n",
    "    #precision_mlp = round((validResults_mlp / testingSamples) * 100, 2)\n",
    "    \n",
    "    return precision_mlp*100,trainingTime_mlp, testingTime_mlp,clf_mlp,predicted_mlp"
   ]
  },
  {
   "cell_type": "markdown",
   "id": "f6cb3ba1",
   "metadata": {},
   "source": [
    "## 4. Resultados <a class=\"anchor\" id=\"Resultados2\"></a>"
   ]
  },
  {
   "cell_type": "code",
   "execution_count": 10,
   "id": "b9eec532",
   "metadata": {},
   "outputs": [],
   "source": [
    "parametros_mlp = busqueda_de_atributos_mlp(MLPClassifier())"
   ]
  },
  {
   "cell_type": "code",
   "execution_count": 11,
   "id": "84bb0974",
   "metadata": {},
   "outputs": [
    {
     "name": "stdout",
     "output_type": "stream",
     "text": [
      "MLPClassifier(activation='identity', alpha=0.001, max_iter=25000)\n"
     ]
    }
   ],
   "source": [
    "print(parametros_mlp[0])"
   ]
  },
  {
   "cell_type": "code",
   "execution_count": 12,
   "id": "d4dc1ea6",
   "metadata": {},
   "outputs": [
    {
     "name": "stdout",
     "output_type": "stream",
     "text": [
      "{'activation': 'identity', 'alpha': 0.001, 'hidden_layer_sizes': (100,), 'learning_rate': 'constant', 'max_iter': 25000, 'solver': 'adam'}\n"
     ]
    }
   ],
   "source": [
    "print(parametros_mlp[1])"
   ]
  },
  {
   "cell_type": "code",
   "execution_count": 13,
   "id": "52aade9c",
   "metadata": {},
   "outputs": [],
   "source": [
    "#modelo_mlp = MLPClassifier(alpha=0.05, max_iter=7000,activation = 'relu', hidden_layer_sizes= (100,100,), solver = 'adam', learning_rate = 'adaptive')\n",
    "modelo_mlp = MLPClassifier(activation='identity', alpha=0.001, hidden_layer_sizes=(100,), learning_rate='constant', max_iter=25000, solver='adam')\n",
    "resultados_mlp = entrenamientoyresultados_mlp(modelo_mlp)"
   ]
  },
  {
   "cell_type": "code",
   "execution_count": 14,
   "id": "726e88ae",
   "metadata": {},
   "outputs": [
    {
     "name": "stdout",
     "output_type": "stream",
     "text": [
      "-------------------------------\n",
      "Tiempo de entrenamiento:  22.04  s\n",
      "Tiempo de testeo:  1.0  s\n",
      "Precisión:  68.48127600554785 %\n",
      "-------------------------------\n",
      "Uso de CPU en entrenamiento:  [91.89999999999999, 99.58333333333333, 99.96666666666665, 99.97500000000001, 99.85000000000001, 99.97500000000001, 99.96666666666665, 99.99166666666667, 99.97500000000001, 98.63333333333333, 97.575, 99.97500000000001, 98.22500000000001, 99.83333333333333, 99.14166666666667, 99.96666666666665, 99.825, 99.97500000000001, 99.96666666666665, 99.96666666666665, 99.97500000000001, 99.8, 99.98333333333333, 99.97500000000001, 100.05833333333334, 99.97500000000001, 99.89166666666667, 100.05833333333334, 99.47500000000001, 99.88333333333333, 99.97500000000001, 100.0, 99.89166666666667, 99.89166666666667, 99.97500000000001, 100.05, 99.88333333333333, 99.91666666666667, 99.97500000000001, 99.88333333333333, 99.98333333333333, 99.97500000000001, 99.96666666666665, 99.71666666666665, 99.89166666666667, 99.89166666666667, 99.99166666666667, 99.88333333333333, 99.89166666666667, 99.55833333333334, 95.16666666666667, 97.64166666666667, 95.72500000000001, 97.15833333333335, 98.39166666666667, 97.80833333333334, 98.23333333333333, 98.30833333333334, 98.22500000000001, 98.39999999999999, 97.30833333333334, 98.3, 97.84166666666665, 98.55833333333334, 98.39166666666667, 97.325, 97.05833333333334, 96.80833333333334, 97.65833333333335, 96.89166666666667, 97.55833333333334, 55.84166666666667]\n",
      "-------------------------------\n",
      "Uso de CPU en test:  [11.15, 11.233333333333334]\n",
      "-------------------------------\n",
      "Uso de RAM en entrenamiento:  [2.8094205805858037, 2.8094205805858037, 2.8094205805858037, 2.8094205805858037, 2.8094205805858037, 2.8094205805858037, 2.8094205805858037, 2.8094205805858037, 2.8094205805858037, 2.8094205805858037, 2.8094205805858037, 2.8094205805858037, 2.8094205805858037, 2.8094205805858037, 2.8094205805858037, 2.8094205805858037, 2.8094205805858037, 2.8094205805858037, 2.8094205805858037, 2.8094205805858037, 2.8094205805858037, 2.8094205805858037, 2.8094205805858037, 2.8094205805858037, 2.8094205805858037, 2.8094205805858037, 2.8094205805858037, 2.8094205805858037, 2.8094205805858037, 2.8094205805858037, 2.8094205805858037, 2.8094205805858037, 2.8094205805858037, 2.8094205805858037, 2.8094205805858037, 2.8094205805858037, 2.8094205805858037, 2.8094205805858037, 2.8094205805858037, 2.8094205805858037, 2.8094205805858037, 2.8094205805858037, 2.8094205805858037, 2.8094205805858037, 2.8094205805858037, 2.8094205805858037, 2.8094205805858037, 2.8094205805858037, 2.8094205805858037, 2.8094205805858037, 3.0544610207659257, 3.0544610207659257, 3.0544610207659257, 3.0544610207659257, 3.0544610207659257, 3.0544610207659257, 3.0544610207659257, 3.0544610207659257, 3.0544610207659257, 3.0544610207659257, 3.0544610207659257, 3.0544610207659257, 3.0544610207659257, 3.0544610207659257, 3.0544610207659257, 3.0544610207659257, 3.0544610207659257, 3.05606388165067, 3.05606388165067, 3.05606388165067, 3.05606388165067, 3.05606388165067]\n",
      "-------------------------------\n",
      "Uso de RAM en test:  [2.811837201612034, 3.05606388165067]\n"
     ]
    }
   ],
   "source": [
    "#print(\"Resultados con parametros: \" + str(modelo[1]))\n",
    "print(\"-------------------------------\")\n",
    "#print(\"Muestras de entrenamiento: \", trainingSamples)\n",
    "print(\"Tiempo de entrenamiento: \", round(resultados_mlp[1], 2), \" s\")\n",
    "#print(\"Muestras de testeo: \", testingSamples)\n",
    "print(\"Tiempo de testeo: \", round(resultados_mlp[2], 2), \" s\")\n",
    "print(\"Precisión: \", resultados_mlp[0], \"%\")\n",
    "print(\"-------------------------------\")\n",
    "print(\"Uso de CPU en entrenamiento: \", cpu_percent_list_train_mlp)\n",
    "print(\"-------------------------------\")\n",
    "print(\"Uso de CPU en test: \", cpu_percent_list_test_mlp)\n",
    "print(\"-------------------------------\")\n",
    "print(\"Uso de RAM en entrenamiento: \", memory_usage_list_train_mlp)\n",
    "print(\"-------------------------------\")\n",
    "print(\"Uso de RAM en test: \", memory_usage_list_test_mlp)"
   ]
  },
  {
   "cell_type": "markdown",
   "id": "d2c18f4c",
   "metadata": {},
   "source": [
    "## 5. Algunas gráficas <a class=\"anchor\" id=\"Gráficas\"></a>"
   ]
  },
  {
   "cell_type": "code",
   "execution_count": 15,
   "id": "19eab7b5",
   "metadata": {},
   "outputs": [],
   "source": [
    "predicion_mlp = resultados_mlp[4]"
   ]
  },
  {
   "cell_type": "code",
   "execution_count": 16,
   "id": "cd5823ba",
   "metadata": {},
   "outputs": [
    {
     "data": {
      "image/png": "[encoded data removed]",
      "text/plain": [
       "<Figure size 1000x1000 with 2 Axes>"
      ]
     },
     "metadata": {},
     "output_type": "display_data"
    }
   ],
   "source": [
    "cm = metrics.confusion_matrix(test_y, predicion_mlp)\n",
    "plt.figure(figsize=(10,10))\n",
    "seaborn.heatmap(cm, annot=True, linewidths=.25, square = True, cmap = 'Blues_r')\n",
    "plt.ylabel('Actual label');\n",
    "plt.xlabel('Predicted label');\n",
    "all_sample_title = 'Accuracy Score: {0}%'.format(resultados_mlp[0])\n",
    "plt.title(all_sample_title, size = 15);"
   ]
  },
  {
   "cell_type": "code",
   "execution_count": 17,
   "id": "6ea6a6cc",
   "metadata": {},
   "outputs": [
    {
     "data": {
      "image/png": "[encoded data removed]",
      "text/plain": [
       "<Figure size 600x300 with 1 Axes>"
      ]
     },
     "metadata": {},
     "output_type": "display_data"
    }
   ],
   "source": [
    "fig, ax = plt.subplots(figsize=(6,3))\n",
    "modelo = resultados_mlp[3]\n",
    "ax.plot(modelo.loss_curve_)\n",
    "\n",
    "plt.xlabel(\"number of steps\") \n",
    "plt.ylabel(\"Loss\")\n",
    "plt.title(\"loss function\")\n",
    "plt.show()"
   ]
  },
  {
   "cell_type": "markdown",
   "id": "8a48b721",
   "metadata": {},
   "source": [
    "# Keras CNN<a class=\"anchor\" id=\"Keras\"></a>"
   ]
  },
  {
   "cell_type": "code",
   "execution_count": 2,
   "id": "5570cb62",
   "metadata": {},
   "outputs": [],
   "source": [
    "from tensorflow.keras.utils import to_categorical\n",
    "from sklearn.model_selection import train_test_split\n",
    "from tensorflow.keras.datasets import mnist\n",
    "import torch.nn.functional as F\n",
    "from torch import cat, no_grad, manual_seed\n",
    "from torch.utils.data import DataLoader\n",
    "from sklearn.metrics import classification_report\n",
    "from sklearn.model_selection import train_test_split\n",
    "from keras import Sequential\n",
    "from keras.layers import Dense, Conv2D, Flatten,MaxPooling2D,BatchNormalization,Dropout\n",
    "\n",
    "from tensorflow.keras.optimizers import Adam\n",
    "from tensorflow.keras import datasets, layers, models"
   ]
  },
  {
   "cell_type": "markdown",
   "id": "7415f300",
   "metadata": {},
   "source": [
    "## 1.  Inicialización de variables <a class=\"anchor\" id=\"Inicialización2\"></a>"
   ]
  },
  {
   "cell_type": "code",
   "execution_count": 19,
   "id": "7d38c2d1",
   "metadata": {},
   "outputs": [],
   "source": [
    "cpu_percent_list_train_keras = []\n",
    "memory_usage_list_train_keras = []\n",
    "cpu_percent_list_test_keras = []\n",
    "memory_usage_list_test_keras = []"
   ]
  },
  {
   "cell_type": "code",
   "execution_count": 20,
   "id": "18964986",
   "metadata": {},
   "outputs": [],
   "source": [
    "(train_x, train_y), (test_x, test_y) = mnist.load_data()"
   ]
  },
  {
   "cell_type": "code",
   "execution_count": 21,
   "id": "c9caec65",
   "metadata": {},
   "outputs": [],
   "source": [
    "def lists_cpu_and_ram_keras_train():\n",
    "    global running\n",
    "    running = True\n",
    "\n",
    "    currentProcess = psutil.Process()\n",
    "    while running:\n",
    "        cpu_percent_list_train_keras.append(currentProcess.cpu_percent(interval=1)/cores)\n",
    "        memory_usage_list_train_keras.append(currentProcess.memory_percent())\n",
    "        \n",
    "def start_keras_train():\n",
    "    global t\n",
    "\n",
    "    # create thread and start it\n",
    "    t = threading.Thread(target=lists_cpu_and_ram_keras_train)\n",
    "    t.start()\n",
    "\n",
    "def stop_keras_train():\n",
    "    global running\n",
    "    global t\n",
    "\n",
    "    # use `running` to stop loop in thread so thread will end\n",
    "    running = False\n",
    "\n",
    "    # wait for thread's end\n",
    "    t.join()"
   ]
  },
  {
   "cell_type": "code",
   "execution_count": 22,
   "id": "1d45df33",
   "metadata": {},
   "outputs": [],
   "source": [
    "def lists_cpu_and_ram_keras_test():\n",
    "    global running\n",
    "    running = True\n",
    "    currentProcess = psutil.Process()\n",
    "\n",
    "    while running:\n",
    "        cpu_percent_list_test_keras.append(currentProcess.cpu_percent(interval=1)/cores)\n",
    "        memory_usage_list_test_keras.append(currentProcess.memory_percent())\n",
    "        \n",
    "def start_keras_test():\n",
    "    global t\n",
    "\n",
    "    # create thread and start it\n",
    "    t = threading.Thread(target=lists_cpu_and_ram_keras_test)\n",
    "    t.start()\n",
    "\n",
    "def stop_keras_test():\n",
    "    global running\n",
    "    global t\n",
    "\n",
    "    # use `running` to stop loop in thread so thread will end\n",
    "    running = False\n",
    "\n",
    "    # wait for thread's end\n",
    "    t.join()"
   ]
  },
  {
   "cell_type": "code",
   "execution_count": 23,
   "id": "3b85dda2",
   "metadata": {},
   "outputs": [],
   "source": [
    "train_indices = np.where((train_y == 3) | (train_y == 4) | (train_y == 5))\n",
    "x_train_filtered = train_x[train_indices]\n",
    "y_train_filtered = train_y[train_indices]\n",
    "test_indices = np.where((test_y == 3) | (test_y == 4) | (test_y == 5))\n",
    "x_test_filtered = test_x[test_indices]\n",
    "y_test_filtered = test_y[test_indices]\n",
    "\n",
    "y_train_filtered[y_train_filtered == 3] = 0\n",
    "y_train_filtered[y_train_filtered == 4] = 1\n",
    "y_train_filtered[y_train_filtered == 5] = 2\n",
    "y_test_filtered[y_test_filtered == 3] = 0\n",
    "y_test_filtered[y_test_filtered == 4] = 1\n",
    "y_test_filtered[y_test_filtered == 5] = 2\n",
    "\n",
    "train_y = y_train_filtered\n",
    "test_y = y_test_filtered\n",
    "\n",
    "train_x = np.array([resize(image, (4, 4)) for image in x_train_filtered])\n",
    "test_x = np.array([resize(image, (4, 4)) for image in x_test_filtered])\n",
    "\n",
    "train_x = np.expand_dims(train_x, axis=3)\n",
    "test_x = np.expand_dims(test_x, axis=3)\n",
    "\n",
    "train_x = train_x.astype('float32')\n",
    "test_x = test_x.astype('float32')\n",
    "train_x /= 255\n",
    "test_x /= 255"
   ]
  },
  {
   "cell_type": "code",
   "execution_count": 24,
   "id": "6560c805",
   "metadata": {},
   "outputs": [],
   "source": [
    "num_classes = 3"
   ]
  },
  {
   "cell_type": "code",
   "execution_count": 25,
   "id": "c2b1e4ec",
   "metadata": {},
   "outputs": [],
   "source": [
    "train_y = to_categorical(train_y, num_classes)\n",
    "test_y = to_categorical(test_y, num_classes)"
   ]
  },
  {
   "cell_type": "markdown",
   "id": "252bc776",
   "metadata": {},
   "source": [
    "## 2. Creacion del modelo <a class=\"anchor\" id=\"Modelo2\"></a>"
   ]
  },
  {
   "cell_type": "code",
   "execution_count": 26,
   "id": "2d8f65e3",
   "metadata": {},
   "outputs": [],
   "source": [
    "model_keras = Sequential()\n",
    "model_keras.add(Conv2D(input_shape=(4, 4, 1), filters=32, strides=(2, 2), padding='same', activation='relu', kernel_size=(3, 3)))\n",
    "model_keras.add(Conv2D(filters=64, strides=(2, 2), padding='same', activation='relu', kernel_size=(3, 3)))\n",
    "model_keras.add(Conv2D(filters=128, strides=(2, 2), padding='same', activation='relu', kernel_size=(3, 3)))\n",
    "model_keras.add(Flatten())\n",
    "model_keras.add(Dense(128, activation='relu'))\n",
    "model_keras.add(Dropout(0.5))\n",
    "model_keras.add(BatchNormalization())\n",
    "model_keras.add(Dense(32, activation='relu'))\n",
    "model_keras.add(Dense(3, activation='softmax'))"
   ]
  },
  {
   "cell_type": "code",
   "execution_count": 27,
   "id": "29e1e23f",
   "metadata": {},
   "outputs": [
    {
     "name": "stdout",
     "output_type": "stream",
     "text": [
      "Model: \"sequential\"\n",
      "_________________________________________________________________\n",
      " Layer (type)                Output Shape              Param #   \n",
      "=================================================================\n",
      " conv2d (Conv2D)             (None, 2, 2, 32)          320       \n",
      "                                                                 \n",
      " conv2d_1 (Conv2D)           (None, 1, 1, 64)          18496     \n",
      "                                                                 \n",
      " conv2d_2 (Conv2D)           (None, 1, 1, 128)         73856     \n",
      "                                                                 \n",
      " flatten (Flatten)           (None, 128)               0         \n",
      "                                                                 \n",
      " dense (Dense)               (None, 128)               16512     \n",
      "                                                                 \n",
      " dropout (Dropout)           (None, 128)               0         \n",
      "                                                                 \n",
      " batch_normalization (BatchN  (None, 128)              512       \n",
      " ormalization)                                                   \n",
      "                                                                 \n",
      " dense_1 (Dense)             (None, 32)                4128      \n",
      "                                                                 \n",
      " dense_2 (Dense)             (None, 3)                 99        \n",
      "                                                                 \n",
      "=================================================================\n",
      "Total params: 113,923\n",
      "Trainable params: 113,667\n",
      "Non-trainable params: 256\n",
      "_________________________________________________________________\n",
      "None\n"
     ]
    }
   ],
   "source": [
    "print(model_keras.summary())"
   ]
  },
  {
   "cell_type": "markdown",
   "id": "be4cfb84",
   "metadata": {},
   "source": [
    "## 3. Entrenamiento <a class=\"anchor\" id=\"Entrenamiento2\"></a>"
   ]
  },
  {
   "cell_type": "code",
   "execution_count": 29,
   "id": "299598f6",
   "metadata": {},
   "outputs": [
    {
     "name": "stdout",
     "output_type": "stream",
     "text": [
      "Epoch 1/20\n",
      "490/490 [==============================] - 1s 2ms/step - loss: 0.5371 - accuracy: 0.7763 - val_loss: 0.4738 - val_accuracy: 0.8121\n",
      "Epoch 2/20\n",
      "490/490 [==============================] - 1s 2ms/step - loss: 0.5285 - accuracy: 0.7822 - val_loss: 0.4753 - val_accuracy: 0.8098\n",
      "Epoch 3/20\n",
      "490/490 [==============================] - 1s 2ms/step - loss: 0.5296 - accuracy: 0.7795 - val_loss: 0.4761 - val_accuracy: 0.8023\n",
      "Epoch 4/20\n",
      "490/490 [==============================] - 1s 2ms/step - loss: 0.5292 - accuracy: 0.7772 - val_loss: 0.4578 - val_accuracy: 0.8247\n",
      "Epoch 5/20\n",
      "490/490 [==============================] - 1s 2ms/step - loss: 0.5287 - accuracy: 0.7779 - val_loss: 0.4401 - val_accuracy: 0.8351\n",
      "Epoch 6/20\n",
      "490/490 [==============================] - 1s 2ms/step - loss: 0.5245 - accuracy: 0.7810 - val_loss: 0.4808 - val_accuracy: 0.8126\n",
      "Epoch 7/20\n",
      "490/490 [==============================] - 1s 2ms/step - loss: 0.5191 - accuracy: 0.7839 - val_loss: 0.4296 - val_accuracy: 0.8264\n",
      "Epoch 8/20\n",
      "490/490 [==============================] - 1s 2ms/step - loss: 0.5109 - accuracy: 0.7914 - val_loss: 0.5113 - val_accuracy: 0.7902\n",
      "Epoch 9/20\n",
      "490/490 [==============================] - 1s 2ms/step - loss: 0.5054 - accuracy: 0.7905 - val_loss: 0.5007 - val_accuracy: 0.7879\n",
      "Epoch 10/20\n",
      "490/490 [==============================] - 1s 2ms/step - loss: 0.5049 - accuracy: 0.7942 - val_loss: 0.4524 - val_accuracy: 0.8121\n",
      "Epoch 11/20\n",
      "490/490 [==============================] - 1s 2ms/step - loss: 0.5019 - accuracy: 0.7935 - val_loss: 0.5699 - val_accuracy: 0.7540\n",
      "Epoch 12/20\n",
      "490/490 [==============================] - 1s 2ms/step - loss: 0.4958 - accuracy: 0.7965 - val_loss: 0.7204 - val_accuracy: 0.6730\n",
      "Epoch 13/20\n",
      "490/490 [==============================] - 1s 2ms/step - loss: 0.5042 - accuracy: 0.7956 - val_loss: 0.4139 - val_accuracy: 0.8385\n",
      "Epoch 14/20\n",
      "490/490 [==============================] - 1s 2ms/step - loss: 0.4865 - accuracy: 0.8038 - val_loss: 0.7621 - val_accuracy: 0.6695\n",
      "Epoch 15/20\n",
      "490/490 [==============================] - 1s 2ms/step - loss: 0.4860 - accuracy: 0.8023 - val_loss: 0.4040 - val_accuracy: 0.8443\n",
      "Epoch 16/20\n",
      "490/490 [==============================] - 1s 2ms/step - loss: 0.4843 - accuracy: 0.8038 - val_loss: 0.4117 - val_accuracy: 0.8397\n",
      "Epoch 17/20\n",
      "490/490 [==============================] - 1s 2ms/step - loss: 0.4862 - accuracy: 0.8016 - val_loss: 0.3940 - val_accuracy: 0.8569\n",
      "Epoch 18/20\n",
      "490/490 [==============================] - 1s 2ms/step - loss: 0.4807 - accuracy: 0.8068 - val_loss: 0.3943 - val_accuracy: 0.8632\n",
      "Epoch 19/20\n",
      "490/490 [==============================] - 1s 2ms/step - loss: 0.4832 - accuracy: 0.8067 - val_loss: 0.4245 - val_accuracy: 0.8316\n",
      "Epoch 20/20\n",
      "490/490 [==============================] - 1s 2ms/step - loss: 0.4789 - accuracy: 0.8112 - val_loss: 0.3935 - val_accuracy: 0.8529\n"
     ]
    }
   ],
   "source": [
    "adam = Adam(learning_rate=0.0001) # ajustar la tasa de aprendizaje\n",
    "epochs = 20\n",
    "batch_size = 32\n",
    "model_keras.compile(optimizer=adam, loss='categorical_crossentropy', metrics=['accuracy'])\n",
    "start_keras_train()\n",
    "startTrainingTime_keras = time.time()\n",
    "history_keras = model_keras.fit(train_x, train_y, batch_size=batch_size, epochs=epochs, validation_split=0.1)\n",
    "stop_keras_train()\n",
    "stopTrainingTime_keras = time.time()\n",
    "endTrainingTime_keras = stopTrainingTime_keras - startTrainingTime_keras "
   ]
  },
  {
   "cell_type": "markdown",
   "id": "28ab03b0",
   "metadata": {},
   "source": [
    "## 4. Resultados <a class=\"anchor\" id=\"Resultados\"></a>"
   ]
  },
  {
   "cell_type": "code",
   "execution_count": 31,
   "id": "2706e404",
   "metadata": {},
   "outputs": [
    {
     "name": "stdout",
     "output_type": "stream",
     "text": [
      "Test loss: 0.4454084634780884\n",
      "Test accuracy: 0.8242024779319763\n"
     ]
    }
   ],
   "source": [
    "start_keras_test()\n",
    "starTestingTime_keras = time.time()\n",
    "score = model_keras.evaluate(test_x, test_y, verbose=0)\n",
    "stop_keras_test()\n",
    "stopTestingTime_keras = time.time()\n",
    "endTestingTime_keras = stopTestingTime_keras - starTestingTime_keras\n",
    "print(\"Test loss:\", score[0])\n",
    "print(\"Test accuracy:\", score[1])"
   ]
  },
  {
   "cell_type": "markdown",
   "id": "cfd83e88",
   "metadata": {},
   "source": [
    "# TensorFlow Quantum <a class=\"anchor\" id=\"TensorFlow\"></a>"
   ]
  },
  {
   "cell_type": "code",
   "execution_count": 67,
   "id": "049bde7c",
   "metadata": {},
   "outputs": [],
   "source": [
    "import tensorflow as tf\n",
    "import tensorflow_quantum as tfq\n",
    "import cirq\n",
    "import sympy"
   ]
  },
  {
   "cell_type": "markdown",
   "id": "dbb2b17d",
   "metadata": {},
   "source": [
    "## 1.  Inicialización de variables <a class=\"anchor\" id=\"Inicialización3\"></a>"
   ]
  },
  {
   "cell_type": "code",
   "execution_count": 101,
   "id": "16dcde50",
   "metadata": {},
   "outputs": [],
   "source": [
    "cpu_percent_list_train_tfq = []\n",
    "memory_usage_list_train_tfq= []\n",
    "cpu_percent_list_test_tfq= []\n",
    "memory_usage_list_test_tfq= []\n",
    "\n",
    "num_quantum_layers = 5  # Aumenta el número de capas en la red cuántica\n",
    "dense_layer_sizes = [64, 32]  # Ajusta el número de neuronas en las capas densas\n",
    "learning_rate = 0.0001  # Ajusta la tasa de aprendizaje del optimizador\n",
    "num_epochs = 20  # Aumenta el número de épocas\n",
    "batch_size = 16  # Ajusta el tamaño del lote\n",
    "dropout_rate = 0.4  # Ajusta la tasa de dropout\n",
    "l1_reg = 0  # Regularización L1\n",
    "l2_reg = 0  # Regularización L2"
   ]
  },
  {
   "cell_type": "code",
   "execution_count": 102,
   "id": "8530179f",
   "metadata": {},
   "outputs": [],
   "source": [
    "def lists_cpu_and_ram_tfq_train():\n",
    "    global running\n",
    "    running = True\n",
    "\n",
    "    currentProcess = psutil.Process()\n",
    "    while running:\n",
    "        cpu_percent_list_train_tfq.append(currentProcess.cpu_percent(interval=1)/cores)\n",
    "        memory_usage_list_train_tfq.append(currentProcess.memory_percent())\n",
    "        \n",
    "def start_tfq_train():\n",
    "    global t\n",
    "\n",
    "    # create thread and start it\n",
    "    t = threading.Thread(target=lists_cpu_and_ram_tfq_train)\n",
    "    t.start()\n",
    "\n",
    "def stop_tfq_train():\n",
    "    global running\n",
    "    global t\n",
    "\n",
    "    # use `running` to stop loop in thread so thread will end\n",
    "    running = False\n",
    "\n",
    "    # wait for thread's end\n",
    "    t.join()"
   ]
  },
  {
   "cell_type": "code",
   "execution_count": 103,
   "id": "cc753e83",
   "metadata": {},
   "outputs": [],
   "source": [
    "def lists_cpu_and_ram_tfq_test():\n",
    "    global running\n",
    "    running = True\n",
    "    currentProcess = psutil.Process()\n",
    "\n",
    "    while running:\n",
    "        cpu_percent_list_test_tfq.append(currentProcess.cpu_percent(interval=1)/cores)\n",
    "        memory_usage_list_test_tfq.append(currentProcess.memory_percent())\n",
    "        \n",
    "def start_tfq_test():\n",
    "    global t\n",
    "\n",
    "    # create thread and start it\n",
    "    t = threading.Thread(target=lists_cpu_and_ram_tfq_test)\n",
    "    t.start()\n",
    "\n",
    "def stop_tfq_test():\n",
    "    global running\n",
    "    global t\n",
    "\n",
    "    # use `running` to stop loop in thread so thread will end\n",
    "    running = False\n",
    "\n",
    "    # wait for thread's end\n",
    "    t.join()"
   ]
  },
  {
   "cell_type": "code",
   "execution_count": 104,
   "id": "fa2e7694",
   "metadata": {},
   "outputs": [],
   "source": [
    "(x_train, y_train), (x_test, y_test) = mnist.load_data()\n",
    "x_train, x_test = x_train[..., np.newaxis], x_test[..., np.newaxis]\n",
    "\n",
    "train_filter = np.where((y_train == 3) | (y_train == 4) | (y_train == 5))\n",
    "test_filter = np.where((y_test == 3) | (y_test == 4) | (y_test == 5))\n",
    "x_train, y_train = x_train[train_filter], y_train[train_filter]\n",
    "x_test, y_test = x_test[test_filter], y_test[test_filter]\n",
    "\n",
    "x_train = x_train.astype(\"float32\") / 255\n",
    "x_test = x_test.astype(\"float32\") / 255"
   ]
  },
  {
   "cell_type": "code",
   "execution_count": 105,
   "id": "483221cc",
   "metadata": {},
   "outputs": [],
   "source": [
    "num_classes = 3\n",
    "def map_labels(y):\n",
    "    label_mapping = {3: 0, 4: 1, 5: 2}\n",
    "    return np.array([label_mapping[label] for label in y])"
   ]
  },
  {
   "cell_type": "code",
   "execution_count": 106,
   "id": "bd6a78f5",
   "metadata": {},
   "outputs": [],
   "source": [
    "y_train_mapped = map_labels(y_train)\n",
    "y_test_mapped = map_labels(y_test)\n",
    "\n",
    "y_train = to_categorical(y_train_mapped, num_classes)\n",
    "y_test = to_categorical(y_test_mapped, num_classes)\n",
    "\n",
    "# Asegurar que el tamaño del conjunto de entrenamiento sea divisible por batch_size\n",
    "x_train, x_val, y_train, y_val = train_test_split(x_train, y_train, test_size=0.2, random_state=42, stratify=y_train)\n",
    "num_train_batches = len(x_train) // batch_size\n",
    "num_val_batches = len(x_val) // batch_size\n",
    "\n",
    "x_train = x_train[:num_train_batches * batch_size]\n",
    "y_train = y_train[:num_train_batches * batch_size]\n",
    "\n",
    "x_val = x_val[:num_val_batches * batch_size]\n",
    "y_val = y_val[:num_val_batches * batch_size]\n",
    "\n",
    "# Asegurar que el tamaño del conjunto de prueba sea divisible por batch_size\n",
    "num_test_batches = len(x_test) // batch_size\n",
    "x_test = x_test[:num_test_batches * batch_size]\n",
    "y_test = y_test[:num_test_batches * batch_size]\n",
    "\n",
    "x_test_tfcirc = tfq.convert_to_tensor(x_test_circuits[:num_test_batches * batch_size])"
   ]
  },
  {
   "cell_type": "code",
   "execution_count": 107,
   "id": "00506606",
   "metadata": {},
   "outputs": [],
   "source": [
    "def downsample(image, size=(4, 4)):\n",
    "    return tf.image.resize(image, size)"
   ]
  },
  {
   "cell_type": "code",
   "execution_count": 108,
   "id": "66642365",
   "metadata": {},
   "outputs": [],
   "source": [
    "qubits = cirq.GridQubit.rect(4, 4)\n",
    "readout_operators = [cirq.Z(qubits[-1])]"
   ]
  },
  {
   "cell_type": "markdown",
   "id": "34eb6505",
   "metadata": {},
   "source": [
    "## 2. Clases necesarias <a class=\"anchor\" id=\"Clases\"></a>"
   ]
  },
  {
   "cell_type": "code",
   "execution_count": 109,
   "id": "fb7b6946",
   "metadata": {},
   "outputs": [],
   "source": [
    "def generate_data_circuit(x):\n",
    "    circuit = cirq.Circuit()\n",
    "    qubits = cirq.GridQubit.rect(4, 4)\n",
    "    \n",
    "    for i, pixel in enumerate(x.flatten()):\n",
    "        if pixel:\n",
    "            circuit.append(cirq.ry(np.pi * pixel).on(qubits[i]))\n",
    "            circuit.append(cirq.rz(np.pi * pixel).on(qubits[i]))\n",
    "    \n",
    "    return circuit"
   ]
  },
  {
   "cell_type": "code",
   "execution_count": 110,
   "id": "57da4d30",
   "metadata": {},
   "outputs": [],
   "source": [
    "x_train_downsampled = np.array([downsample(x) for x in x_train])\n",
    "x_val_downsampled = np.array([downsample(x) for x in x_val])\n",
    "x_test_downsampled = np.array([downsample(x) for x in x_test])\n",
    "x_test_downsampled = x_test_downsampled[:num_test_batches * batch_size]\n",
    "\n",
    "x_train_circuits = [generate_data_circuit(x) for x in x_train_downsampled]\n",
    "x_val_circuits = [generate_data_circuit(x) for x in x_val_downsampled]\n",
    "x_test_circuits = [generate_data_circuit(x) for x in x_test_downsampled]\n",
    "\n",
    "x_train_tfcirc = tfq.convert_to_tensor(x_train_circuits)\n",
    "x_val_tfcirc = tfq.convert_to_tensor(x_val_circuits)\n",
    "x_test_tfcirc = tfq.convert_to_tensor(x_test_circuits)"
   ]
  },
  {
   "cell_type": "code",
   "execution_count": 111,
   "id": "d92e426d",
   "metadata": {},
   "outputs": [],
   "source": [
    "def generate_modified_model_circuit_v2(qubits, num_layers):\n",
    "    model_circuit = cirq.Circuit()\n",
    "    symbols = sympy.symbols(f\"theta(0:{16 * num_layers})\")\n",
    "\n",
    "    for layer in range(num_layers):\n",
    "        for i in range(0, 16, 4):\n",
    "            model_circuit += cirq.Circuit(\n",
    "                cirq.rx(symbols[16 * layer + i]).on(qubits[i]),\n",
    "                cirq.rz(symbols[16 * layer + i + 1]).on(qubits[i + 1]),\n",
    "                cirq.rx(symbols[16 * layer + i + 2]).on(qubits[i + 2]),\n",
    "                cirq.rz(symbols[16 * layer + i + 3]).on(qubits[i + 3]),\n",
    "            )\n",
    "\n",
    "            model_circuit += cirq.Circuit(\n",
    "                cirq.CZ(qubits[i], qubits[i + 1]),\n",
    "                cirq.CZ(qubits[i + 1], qubits[i + 2]),\n",
    "                cirq.CZ(qubits[i + 2], qubits[i + 3]),\n",
    "            )\n",
    "\n",
    "        model_circuit += cirq.Circuit(\n",
    "            cirq.CZ(qubits[0], qubits[3]),\n",
    "            cirq.CZ(qubits[12], qubits[15]),\n",
    "        )\n",
    "\n",
    "    return model_circuit"
   ]
  },
  {
   "cell_type": "markdown",
   "id": "fcfca70f",
   "metadata": {},
   "source": [
    "## 3. Modelo Híbrido <a class=\"anchor\" id=\"Modelo3\"></a>"
   ]
  },
  {
   "cell_type": "code",
   "execution_count": 112,
   "id": "be22c486",
   "metadata": {},
   "outputs": [],
   "source": [
    "model_circuit = generate_modified_model_circuit_v2(qubits, num_quantum_layers)\n",
    "quantum_model = tfq.layers.PQC(model_circuit, readout_operators)"
   ]
  },
  {
   "cell_type": "code",
   "execution_count": 113,
   "id": "bf37fbe5",
   "metadata": {},
   "outputs": [],
   "source": [
    "# Entradas\n",
    "dense_input = tf.keras.Input(shape=(4, 4, 1), name='dense_input')\n",
    "quantum_input = tf.keras.Input(shape=(), dtype=tf.dtypes.string, name='quantum_input', batch_size=batch_size)\n",
    "\n",
    "# Circuito cuántico\n",
    "flatten = Flatten()(dense_input)\n",
    "dense_classic_1 = tf.keras.layers.Dense(32, activation=tf.keras.activations.relu)(flatten)\n",
    "dense_classic_2 = tf.keras.layers.Dense(16, activation=tf.keras.activations.relu)(dense_classic_1)\n",
    "reshaped = tf.keras.layers.Reshape((4, 4, 1))(dense_classic_2)\n",
    "downsampled = downsample(reshaped)\n",
    "\n",
    "# Aplanar la salida de downsampled\n",
    "flat_downsampled = Flatten()(downsampled)\n",
    "\n",
    "# Red cuántica\n",
    "quantum = quantum_model(quantum_input)\n",
    "\n",
    "# Modelo híbrido\n",
    "concat = tf.keras.layers.Concatenate()([flat_downsampled, quantum])\n",
    "dense_1 = tf.keras.layers.Dense(64, activation=tf.keras.activations.relu)(concat)\n",
    "dense_2 = tf.keras.layers.Dense(32, activation=tf.keras.activations.relu)(dense_1)\n",
    "dropout = tf.keras.layers.Dropout(dropout_rate)(dense_2)\n",
    "outputs = tf.keras.layers.Dense(num_classes, activation=tf.keras.activations.softmax)(dropout)\n",
    "\n",
    "# Crea el modelo\n",
    "model_tfq = tf.keras.Model(inputs=[dense_input, quantum_input], outputs=outputs)"
   ]
  },
  {
   "cell_type": "code",
   "execution_count": 114,
   "id": "9d1b6268",
   "metadata": {},
   "outputs": [],
   "source": [
    "model_tfq = tf.keras.Model(inputs=[dense_input, quantum_input], outputs=outputs)\n",
    "model_tfq.compile(optimizer=tf.keras.optimizers.Adam(learning_rate=learning_rate),\n",
    "                  loss=tf.keras.losses.CategoricalCrossentropy(),\n",
    "                  metrics=['accuracy'])"
   ]
  },
  {
   "cell_type": "markdown",
   "id": "7330bafd",
   "metadata": {},
   "source": [
    "## 4. Entrenamiento  <a class=\"anchor\" id=\"Entrenamiento3\"></a>"
   ]
  },
  {
   "cell_type": "code",
   "execution_count": 115,
   "id": "65264aa9",
   "metadata": {},
   "outputs": [
    {
     "name": "stdout",
     "output_type": "stream",
     "text": [
      "Epoch 1/20\n",
      "869/869 [==============================] - 202s 232ms/step - loss: 1.0218 - accuracy: 0.5167 - val_loss: 0.9067 - val_accuracy: 0.6408\n",
      "Epoch 2/20\n",
      "869/869 [==============================] - 183s 211ms/step - loss: 0.8616 - accuracy: 0.6351 - val_loss: 0.7802 - val_accuracy: 0.6737\n",
      "Epoch 3/20\n",
      "869/869 [==============================] - 185s 213ms/step - loss: 0.8081 - accuracy: 0.6574 - val_loss: 0.7466 - val_accuracy: 0.6806\n",
      "Epoch 4/20\n",
      "869/869 [==============================] - 184s 211ms/step - loss: 0.7871 - accuracy: 0.6646 - val_loss: 0.7336 - val_accuracy: 0.6835\n",
      "Epoch 5/20\n",
      "869/869 [==============================] - 182s 210ms/step - loss: 0.7783 - accuracy: 0.6723 - val_loss: 0.7263 - val_accuracy: 0.6912\n",
      "Epoch 6/20\n",
      "869/869 [==============================] - 181s 208ms/step - loss: 0.7683 - accuracy: 0.6765 - val_loss: 0.7197 - val_accuracy: 0.6938\n",
      "Epoch 7/20\n",
      "869/869 [==============================] - 182s 209ms/step - loss: 0.7589 - accuracy: 0.6822 - val_loss: 0.7117 - val_accuracy: 0.6982\n",
      "Epoch 8/20\n",
      "869/869 [==============================] - 182s 209ms/step - loss: 0.7578 - accuracy: 0.6835 - val_loss: 0.7074 - val_accuracy: 0.7019\n",
      "Epoch 9/20\n",
      "869/869 [==============================] - 182s 210ms/step - loss: 0.7528 - accuracy: 0.6867 - val_loss: 0.7030 - val_accuracy: 0.7031\n",
      "Epoch 10/20\n",
      "869/869 [==============================] - 182s 210ms/step - loss: 0.7439 - accuracy: 0.6908 - val_loss: 0.6984 - val_accuracy: 0.7028\n",
      "Epoch 11/20\n",
      "869/869 [==============================] - 182s 209ms/step - loss: 0.7414 - accuracy: 0.6903 - val_loss: 0.6962 - val_accuracy: 0.7056\n",
      "Epoch 12/20\n",
      "869/869 [==============================] - 184s 212ms/step - loss: 0.7399 - accuracy: 0.6936 - val_loss: 0.6918 - val_accuracy: 0.7079\n",
      "Epoch 13/20\n",
      "869/869 [==============================] - 184s 212ms/step - loss: 0.7323 - accuracy: 0.6960 - val_loss: 0.6908 - val_accuracy: 0.7085\n",
      "Epoch 14/20\n",
      "869/869 [==============================] - 184s 212ms/step - loss: 0.7281 - accuracy: 0.6974 - val_loss: 0.6885 - val_accuracy: 0.7079\n",
      "Epoch 15/20\n",
      "869/869 [==============================] - 184s 212ms/step - loss: 0.7282 - accuracy: 0.6988 - val_loss: 0.6837 - val_accuracy: 0.7077\n",
      "Epoch 16/20\n",
      "869/869 [==============================] - 184s 211ms/step - loss: 0.7226 - accuracy: 0.6984 - val_loss: 0.6828 - val_accuracy: 0.7085\n",
      "Epoch 17/20\n",
      "869/869 [==============================] - 184s 212ms/step - loss: 0.7233 - accuracy: 0.6991 - val_loss: 0.6804 - val_accuracy: 0.7077\n",
      "Epoch 18/20\n",
      "869/869 [==============================] - 184s 212ms/step - loss: 0.7202 - accuracy: 0.7002 - val_loss: 0.6817 - val_accuracy: 0.7077\n",
      "Epoch 19/20\n",
      "869/869 [==============================] - 183s 211ms/step - loss: 0.7176 - accuracy: 0.7025 - val_loss: 0.6794 - val_accuracy: 0.7094\n",
      "Epoch 20/20\n",
      "869/869 [==============================] - 184s 211ms/step - loss: 0.7179 - accuracy: 0.7037 - val_loss: 0.6773 - val_accuracy: 0.7094\n"
     ]
    }
   ],
   "source": [
    "start_tfq_train()\n",
    "startTrainingTime_tfq = time.time()\n",
    "history_tfq = model_tfq.fit(\n",
    "    [x_train_downsampled, x_train_tfcirc], y_train, \n",
    "    batch_size=batch_size, epochs=num_epochs, verbose=1, \n",
    "    validation_data=([x_val_downsampled, x_val_tfcirc], y_val)\n",
    ")\n",
    "stop_tfq_train()\n",
    "stopTrainingTime_tfq = time.time()\n",
    "endTrainingTime_tfq = stopTrainingTime_tfq - startTrainingTime_tfq"
   ]
  },
  {
   "cell_type": "markdown",
   "id": "a4ed5211",
   "metadata": {},
   "source": [
    "## 5. Resultados <a class=\"anchor\" id=\"Resultados3\"></a>"
   ]
  },
  {
   "cell_type": "code",
   "execution_count": 116,
   "id": "523e234d",
   "metadata": {},
   "outputs": [
    {
     "name": "stdout",
     "output_type": "stream",
     "text": [
      "180/180 [==============================] - 7s 40ms/step - loss: 0.6710 - accuracy: 0.7191\n",
      "Test accuracy: 0.7190971970558167\n"
     ]
    }
   ],
   "source": [
    "start_tfq_test()\n",
    "startTestingTime_tfq = time.time()\n",
    "test_loss, test_acc = model_tfq.evaluate([x_test_downsampled, x_test_tfcirc], y_test, batch_size=batch_size, verbose=1)\n",
    "stop_tfq_test()\n",
    "stopTestingTime_tfq = time.time()\n",
    "endTestingTime_tfq = stopTestingTime_tfq - startTestingTime_tfq\n",
    "print(\"Test accuracy:\", test_acc)"
   ]
  },
  {
   "cell_type": "markdown",
   "id": "c2fd2901",
   "metadata": {},
   "source": [
    "# Qiskit <a class=\"anchor\" id=\"qiskit\"></a>"
   ]
  },
  {
   "cell_type": "code",
   "execution_count": 50,
   "id": "4f92f340",
   "metadata": {},
   "outputs": [],
   "source": [
    "from torchvision import datasets, transforms\n",
    "from qiskit import QuantumCircuit\n",
    "from qiskit.utils import algorithm_globals\n",
    "from qiskit.circuit import Parameter\n",
    "from qiskit.circuit.library import RealAmplitudes, ZZFeatureMap\n",
    "from qiskit_machine_learning.neural_networks import SamplerQNN, EstimatorQNN\n",
    "from qiskit_machine_learning.connectors import TorchConnector\n",
    "import torch\n",
    "from torch.autograd import Function\n",
    "import torch.optim as optim\n",
    "import torch.nn as nn\n",
    "import torch.nn.functional as F\n",
    "\n",
    "import qiskit\n",
    "from qiskit import transpile, assemble\n",
    "from qiskit.visualization import *\n",
    "from torch.nn import (\n",
    "    Module,\n",
    "    Conv2d,\n",
    "    Linear,\n",
    "    Dropout2d,\n",
    "    NLLLoss,\n",
    "    MaxPool2d,\n",
    "    Flatten,\n",
    "    Sequential,\n",
    "    ReLU,\n",
    ")"
   ]
  },
  {
   "cell_type": "markdown",
   "id": "5266a29f",
   "metadata": {},
   "source": [
    "## 1.  Inicialización de variables <a class=\"anchor\" id=\"Inicialización4\"></a>"
   ]
  },
  {
   "cell_type": "code",
   "execution_count": 51,
   "id": "066a8e46",
   "metadata": {},
   "outputs": [],
   "source": [
    "cpu_percent_list_train_q= []\n",
    "memory_usage_list_train_q= []\n",
    "cpu_percent_list_test_q= []\n",
    "memory_usage_list_test_q= []\n",
    "n_samples = None\n",
    "batch_size = 32\n",
    "\n",
    "def lists_cpu_and_ram_q_train():\n",
    "    global running\n",
    "    running = True\n",
    "\n",
    "    currentProcess = psutil.Process()\n",
    "    while running:\n",
    "        cpu_percent_list_train_q.append(currentProcess.cpu_percent(interval=1)/cores)\n",
    "        memory_usage_list_train_q.append(currentProcess.memory_percent())\n",
    "        \n",
    "def start_q_train():\n",
    "    global t\n",
    "\n",
    "    # create thread and start it\n",
    "    t = threading.Thread(target=lists_cpu_and_ram_q_train)\n",
    "    t.start()\n",
    "\n",
    "def stop_q_train():\n",
    "    global running\n",
    "    global t\n",
    "\n",
    "    # use `running` to stop loop in thread so thread will end\n",
    "    running = False\n",
    "\n",
    "    # wait for thread's end\n",
    "    t.join()\n",
    "    \n",
    "def lists_cpu_and_ram_q_test():\n",
    "    global running\n",
    "    running = True\n",
    "    currentProcess = psutil.Process()\n",
    "\n",
    "    while running:\n",
    "        cpu_percent_list_test_q.append(currentProcess.cpu_percent(interval=1)/cores)\n",
    "        memory_usage_list_test_q.append(currentProcess.memory_percent())\n",
    "        \n",
    "def start_q_test():\n",
    "    global t\n",
    "\n",
    "    # create thread and start it\n",
    "    t = threading.Thread(target=lists_cpu_and_ram_q_test)\n",
    "    t.start()\n",
    "\n",
    "def stop_q_test():\n",
    "    global running\n",
    "    global t\n",
    "\n",
    "    # use `running` to stop loop in thread so thread will end\n",
    "    running = False\n",
    "\n",
    "    # wait for thread's end\n",
    "    t.join()"
   ]
  },
  {
   "cell_type": "code",
   "execution_count": 52,
   "id": "1a247f9f",
   "metadata": {},
   "outputs": [],
   "source": [
    "X_train = datasets.MNIST(root='./data', train=True, download=True,\n",
    "                         transform=transforms.Compose([transforms.ToTensor()]))\n",
    "\n",
    "idx_3 = np.where(X_train.targets == 3)[0][:n_samples]\n",
    "idx_6 = np.where(X_train.targets == 4)[0][:n_samples]\n",
    "idx_9 = np.where(X_train.targets == 5)[0][:n_samples]\n",
    "idx = np.concatenate((idx_3, idx_6, idx_9), axis=0)\n",
    "\n",
    "X_train.data = X_train.data[idx]\n",
    "X_train.targets = X_train.targets[idx]\n",
    "X_train.targets[X_train.targets == 3] = 0\n",
    "X_train.targets[X_train.targets == 4] = 1\n",
    "X_train.targets[X_train.targets == 5] = 2\n",
    "\n",
    "X_train.data = torch.nn.functional.interpolate(X_train.data.unsqueeze(1).float(), size=(4,4)).squeeze()\n",
    "\n",
    "X_train.data = X_train.data/255.0\n",
    "\n",
    "train_loader = torch.utils.data.DataLoader(X_train, batch_size=batch_size, shuffle=True)"
   ]
  },
  {
   "cell_type": "code",
   "execution_count": 53,
   "id": "7f68f2b9",
   "metadata": {},
   "outputs": [],
   "source": [
    "X_test = datasets.MNIST(root='./data', train=False, download=True,\n",
    "                        transform=transforms.Compose([transforms.ToTensor()]))\n",
    "\n",
    "idy_3 = np.where(X_test.targets == 3)[0][:n_samples]\n",
    "idy_6 = np.where(X_test.targets == 4)[0][:n_samples]\n",
    "idy_9 = np.where(X_test.targets == 5)[0][:n_samples]\n",
    "idy = np.concatenate((idy_3, idy_6, idy_9), axis=0)\n",
    "\n",
    "X_test.data = X_test.data[idy]\n",
    "X_test.targets = X_test.targets[idy]\n",
    "X_test.targets[X_test.targets == 3] = 0\n",
    "X_test.targets[X_test.targets == 4] = 1\n",
    "X_test.targets[X_test.targets == 5] = 2\n",
    "\n",
    "X_test.data = torch.nn.functional.interpolate(X_test.data.unsqueeze(1).float(), size=(4,4)).squeeze()\n",
    "\n",
    "X_test.data = X_test.data/255.0\n",
    "\n",
    "test_loader = torch.utils.data.DataLoader(X_test, batch_size=batch_size, shuffle=True)"
   ]
  },
  {
   "cell_type": "code",
   "execution_count": 54,
   "id": "792a35ee",
   "metadata": {},
   "outputs": [],
   "source": [
    "X_train_numpy = np.array(X_train.data)\n",
    "y_train_numpy = np.array(X_train.targets)\n",
    "X_train = torch.from_numpy(X_train_numpy).float()\n",
    "y_train = torch.from_numpy(y_train_numpy)\n",
    "\n",
    "X_test_numpy = np.array(X_test.data)\n",
    "y_test_numpy = np.array(X_test.targets)\n",
    "X_test = torch.from_numpy(X_test_numpy).float()\n",
    "y_test = torch.from_numpy(y_test_numpy)"
   ]
  },
  {
   "cell_type": "markdown",
   "id": "52a10080",
   "metadata": {},
   "source": [
    "## 2. Funciones necesarias <a class=\"anchor\" id=\"Funciones4\"></a>"
   ]
  },
  {
   "cell_type": "code",
   "execution_count": 55,
   "id": "6d5f8dcd",
   "metadata": {},
   "outputs": [],
   "source": [
    "class QuantumCircuit:\n",
    "    \n",
    "    def __init__(self, n_qubits, backend, shots):\n",
    "        self._circuit = qiskit.QuantumCircuit(n_qubits)\n",
    "        \n",
    "        all_qubits = [i for i in range(n_qubits)]\n",
    "        self.theta = qiskit.circuit.Parameter('theta')\n",
    "        \n",
    "        self._circuit.h(all_qubits)\n",
    "        self._circuit.barrier()\n",
    "        self._circuit.ry(self.theta, all_qubits)\n",
    "        \n",
    "        self._circuit.measure_all()\n",
    "\n",
    "        self.backend = backend\n",
    "        self.shots = shots\n",
    "    \n",
    "    def run(self, thetas):\n",
    "        t_qc = transpile(self._circuit,\n",
    "                         self.backend)\n",
    "        qobj = assemble(t_qc,\n",
    "                        shots=self.shots,\n",
    "                        parameter_binds = [{self.theta: theta} for theta in thetas])\n",
    "        job = self.backend.run(qobj)\n",
    "        result = job.result().get_counts()\n",
    "        \n",
    "        counts = np.array(list(result.values()))\n",
    "        states = np.array(list(result.keys())).astype(float)\n",
    "        probabilities = counts / self.shots\n",
    "        expectation = np.sum(states * probabilities)\n",
    "        \n",
    "        return np.array([expectation])\n"
   ]
  },
  {
   "cell_type": "code",
   "execution_count": 56,
   "id": "fb717743",
   "metadata": {},
   "outputs": [],
   "source": [
    "class HybridFunction(Function):\n",
    "    \n",
    "    @staticmethod\n",
    "    def forward(ctx, inputs, quantum_circuit, shift):\n",
    "        ctx.shift = shift\n",
    "        ctx.quantum_circuit = quantum_circuit\n",
    "\n",
    "        expectation_z = []\n",
    "        for input in inputs:\n",
    "            expectation_z.append(ctx.quantum_circuit.run(input.tolist()))\n",
    "        result = torch.tensor(expectation_z)\n",
    "        \n",
    "        ctx.save_for_backward(inputs, result)\n",
    "        return result\n",
    "        \n",
    "    @staticmethod\n",
    "    def backward(ctx, grad_output):\n",
    "        input, expectation_z = ctx.saved_tensors\n",
    "        input_list = np.array(input.tolist())\n",
    "        \n",
    "        shift_right = input_list + np.ones(input_list.shape) * ctx.shift\n",
    "        shift_left = input_list - np.ones(input_list.shape) * ctx.shift\n",
    "        \n",
    "        gradients = np.zeros_like(input_list)\n",
    "        for i in range(len(input_list)):\n",
    "            expectation_right = ctx.quantum_circuit.run(shift_right[i])\n",
    "            expectation_left  = ctx.quantum_circuit.run(shift_left[i])\n",
    "\n",
    "            gradient = torch.tensor([expectation_right]) - torch.tensor([expectation_left])\n",
    "            gradients[i] = gradient\n",
    "\n",
    "        return torch.tensor([gradients]).float() * grad_output.float(), None, None\n",
    "\n",
    "class Hybrid(nn.Module):\n",
    "    \n",
    "    def __init__(self, backend, shots, shift):\n",
    "        super(Hybrid, self).__init__()\n",
    "        self.quantum_circuit = QuantumCircuit(4, backend, shots)\n",
    "        self.shift = shift\n",
    "        \n",
    "    def forward(self, input):\n",
    "        return HybridFunction.apply(input, self.quantum_circuit, self.shift)\n"
   ]
  },
  {
   "cell_type": "markdown",
   "id": "36d54ae2",
   "metadata": {},
   "source": [
    "## 3. Red Híbrida <a class=\"anchor\" id=\"Modelo4\"></a>"
   ]
  },
  {
   "cell_type": "code",
   "execution_count": 57,
   "id": "cee54286",
   "metadata": {},
   "outputs": [],
   "source": [
    "class Net(nn.Module):\n",
    "    def __init__(self):\n",
    "        super(Net, self).__init__()\n",
    "        self.conv1 = nn.Conv2d(1, 12, kernel_size=2, padding=1)\n",
    "        self.conv2 = nn.Conv2d(12, 24, kernel_size=2, padding=1)\n",
    "        self.dropout = nn.Dropout2d()\n",
    "        self.fc1 = nn.Linear(24, 16)\n",
    "        self.fc2 = nn.Linear(16, 3)  # Cambiar a 3 neuronas de salida\n",
    "        self.hybrid = [Hybrid(qiskit.Aer.get_backend('qasm_simulator'), 100, np.pi / 2) for i in range(10)]\n",
    "\n",
    "    def forward(self, x):\n",
    "        x = F.relu(self.conv1(x))\n",
    "        x = F.max_pool2d(x, 2) # cambiar el tamaño de la agrupación máxima de 1 a 2\n",
    "        x = F.relu(self.conv2(x))\n",
    "        x = F.max_pool2d(x, 2) # cambiar el tamaño de la agrupación máxima de 1 a 2\n",
    "        x = self.dropout(x)\n",
    "        x = torch.flatten(x, start_dim=1)\n",
    "        x = F.relu(self.fc1(x))\n",
    "        x = self.fc2(x)\n",
    "        x = torch.chunk(x, 10, dim=1)\n",
    "        x = tuple([hy(x_) for hy, x_ in zip(self.hybrid, x)])\n",
    "        return torch.cat(x, -1)\n"
   ]
  },
  {
   "cell_type": "code",
   "execution_count": 58,
   "id": "235a21de",
   "metadata": {},
   "outputs": [],
   "source": [
    "model_q = Net()"
   ]
  },
  {
   "cell_type": "markdown",
   "id": "c1924540",
   "metadata": {},
   "source": [
    "## 4. Entrenamiento <a class=\"anchor\" id=\"Entrenamiento4\"></a>"
   ]
  },
  {
   "cell_type": "code",
   "execution_count": 59,
   "id": "9cf5d39c",
   "metadata": {
    "scrolled": false
   },
   "outputs": [
    {
     "name": "stderr",
     "output_type": "stream",
     "text": [
      "/tmp/ipykernel_3307/4047060668.py:11: UserWarning:\n",
      "\n",
      "Creating a tensor from a list of numpy.ndarrays is extremely slow. Please consider converting the list to a single numpy.ndarray with numpy.array() before converting to a tensor. (Triggered internally at ../torch/csrc/utils/tensor_new.cpp:230.)\n",
      "\n"
     ]
    },
    {
     "name": "stdout",
     "output_type": "stream",
     "text": [
      "Training [5%]\tLoss: 43.9550\n",
      "Training [10%]\tLoss: 43.1937\n",
      "Training [15%]\tLoss: 42.6348\n",
      "Training [20%]\tLoss: 43.0026\n",
      "Training [25%]\tLoss: 42.3643\n",
      "Training [30%]\tLoss: 42.0989\n",
      "Training [35%]\tLoss: 42.4098\n",
      "Training [40%]\tLoss: 43.0684\n",
      "Training [45%]\tLoss: 42.1906\n",
      "Training [50%]\tLoss: 42.2864\n"
     ]
    },
    {
     "ename": "KeyboardInterrupt",
     "evalue": "",
     "output_type": "error",
     "traceback": [
      "\u001b[0;31m---------------------------------------------------------------------------\u001b[0m",
      "\u001b[0;31mKeyboardInterrupt\u001b[0m                         Traceback (most recent call last)",
      "Cell \u001b[0;32mIn[59], line 17\u001b[0m\n\u001b[1;32m     15\u001b[0m output \u001b[38;5;241m=\u001b[39m model_q(data)\n\u001b[1;32m     16\u001b[0m loss \u001b[38;5;241m=\u001b[39m loss_func(output, target)\n\u001b[0;32m---> 17\u001b[0m \u001b[43mloss\u001b[49m\u001b[38;5;241;43m.\u001b[39;49m\u001b[43mbackward\u001b[49m\u001b[43m(\u001b[49m\u001b[43m)\u001b[49m\n\u001b[1;32m     18\u001b[0m optimizer\u001b[38;5;241m.\u001b[39mstep()\n\u001b[1;32m     20\u001b[0m total_loss\u001b[38;5;241m.\u001b[39mappend(loss\u001b[38;5;241m.\u001b[39mitem())\n",
      "File \u001b[0;32m~/Escritorio/TFG/quantum_env/lib/python3.8/site-packages/torch/_tensor.py:488\u001b[0m, in \u001b[0;36mTensor.backward\u001b[0;34m(self, gradient, retain_graph, create_graph, inputs)\u001b[0m\n\u001b[1;32m    478\u001b[0m \u001b[38;5;28;01mif\u001b[39;00m has_torch_function_unary(\u001b[38;5;28mself\u001b[39m):\n\u001b[1;32m    479\u001b[0m     \u001b[38;5;28;01mreturn\u001b[39;00m handle_torch_function(\n\u001b[1;32m    480\u001b[0m         Tensor\u001b[38;5;241m.\u001b[39mbackward,\n\u001b[1;32m    481\u001b[0m         (\u001b[38;5;28mself\u001b[39m,),\n\u001b[0;32m   (...)\u001b[0m\n\u001b[1;32m    486\u001b[0m         inputs\u001b[38;5;241m=\u001b[39minputs,\n\u001b[1;32m    487\u001b[0m     )\n\u001b[0;32m--> 488\u001b[0m \u001b[43mtorch\u001b[49m\u001b[38;5;241;43m.\u001b[39;49m\u001b[43mautograd\u001b[49m\u001b[38;5;241;43m.\u001b[39;49m\u001b[43mbackward\u001b[49m\u001b[43m(\u001b[49m\n\u001b[1;32m    489\u001b[0m \u001b[43m    \u001b[49m\u001b[38;5;28;43mself\u001b[39;49m\u001b[43m,\u001b[49m\u001b[43m \u001b[49m\u001b[43mgradient\u001b[49m\u001b[43m,\u001b[49m\u001b[43m \u001b[49m\u001b[43mretain_graph\u001b[49m\u001b[43m,\u001b[49m\u001b[43m \u001b[49m\u001b[43mcreate_graph\u001b[49m\u001b[43m,\u001b[49m\u001b[43m \u001b[49m\u001b[43minputs\u001b[49m\u001b[38;5;241;43m=\u001b[39;49m\u001b[43minputs\u001b[49m\n\u001b[1;32m    490\u001b[0m \u001b[43m\u001b[49m\u001b[43m)\u001b[49m\n",
      "File \u001b[0;32m~/Escritorio/TFG/quantum_env/lib/python3.8/site-packages/torch/autograd/__init__.py:197\u001b[0m, in \u001b[0;36mbackward\u001b[0;34m(tensors, grad_tensors, retain_graph, create_graph, grad_variables, inputs)\u001b[0m\n\u001b[1;32m    192\u001b[0m     retain_graph \u001b[38;5;241m=\u001b[39m create_graph\n\u001b[1;32m    194\u001b[0m \u001b[38;5;66;03m# The reason we repeat same the comment below is that\u001b[39;00m\n\u001b[1;32m    195\u001b[0m \u001b[38;5;66;03m# some Python versions print out the first line of a multi-line function\u001b[39;00m\n\u001b[1;32m    196\u001b[0m \u001b[38;5;66;03m# calls in the traceback and some print out the last line\u001b[39;00m\n\u001b[0;32m--> 197\u001b[0m \u001b[43mVariable\u001b[49m\u001b[38;5;241;43m.\u001b[39;49m\u001b[43m_execution_engine\u001b[49m\u001b[38;5;241;43m.\u001b[39;49m\u001b[43mrun_backward\u001b[49m\u001b[43m(\u001b[49m\u001b[43m  \u001b[49m\u001b[38;5;66;43;03m# Calls into the C++ engine to run the backward pass\u001b[39;49;00m\n\u001b[1;32m    198\u001b[0m \u001b[43m    \u001b[49m\u001b[43mtensors\u001b[49m\u001b[43m,\u001b[49m\u001b[43m \u001b[49m\u001b[43mgrad_tensors_\u001b[49m\u001b[43m,\u001b[49m\u001b[43m \u001b[49m\u001b[43mretain_graph\u001b[49m\u001b[43m,\u001b[49m\u001b[43m \u001b[49m\u001b[43mcreate_graph\u001b[49m\u001b[43m,\u001b[49m\u001b[43m \u001b[49m\u001b[43minputs\u001b[49m\u001b[43m,\u001b[49m\n\u001b[1;32m    199\u001b[0m \u001b[43m    \u001b[49m\u001b[43mallow_unreachable\u001b[49m\u001b[38;5;241;43m=\u001b[39;49m\u001b[38;5;28;43;01mTrue\u001b[39;49;00m\u001b[43m,\u001b[49m\u001b[43m \u001b[49m\u001b[43maccumulate_grad\u001b[49m\u001b[38;5;241;43m=\u001b[39;49m\u001b[38;5;28;43;01mTrue\u001b[39;49;00m\u001b[43m)\u001b[49m\n",
      "File \u001b[0;32m~/Escritorio/TFG/quantum_env/lib/python3.8/site-packages/torch/autograd/function.py:267\u001b[0m, in \u001b[0;36mBackwardCFunction.apply\u001b[0;34m(self, *args)\u001b[0m\n\u001b[1;32m    263\u001b[0m     \u001b[38;5;28;01mraise\u001b[39;00m \u001b[38;5;167;01mRuntimeError\u001b[39;00m(\u001b[38;5;124m\"\u001b[39m\u001b[38;5;124mImplementing both \u001b[39m\u001b[38;5;124m'\u001b[39m\u001b[38;5;124mbackward\u001b[39m\u001b[38;5;124m'\u001b[39m\u001b[38;5;124m and \u001b[39m\u001b[38;5;124m'\u001b[39m\u001b[38;5;124mvjp\u001b[39m\u001b[38;5;124m'\u001b[39m\u001b[38;5;124m for a custom \u001b[39m\u001b[38;5;124m\"\u001b[39m\n\u001b[1;32m    264\u001b[0m                        \u001b[38;5;124m\"\u001b[39m\u001b[38;5;124mFunction is not allowed. You should only implement one \u001b[39m\u001b[38;5;124m\"\u001b[39m\n\u001b[1;32m    265\u001b[0m                        \u001b[38;5;124m\"\u001b[39m\u001b[38;5;124mof them.\u001b[39m\u001b[38;5;124m\"\u001b[39m)\n\u001b[1;32m    266\u001b[0m user_fn \u001b[38;5;241m=\u001b[39m vjp_fn \u001b[38;5;28;01mif\u001b[39;00m vjp_fn \u001b[38;5;129;01mis\u001b[39;00m \u001b[38;5;129;01mnot\u001b[39;00m Function\u001b[38;5;241m.\u001b[39mvjp \u001b[38;5;28;01melse\u001b[39;00m backward_fn\n\u001b[0;32m--> 267\u001b[0m \u001b[38;5;28;01mreturn\u001b[39;00m \u001b[43muser_fn\u001b[49m\u001b[43m(\u001b[49m\u001b[38;5;28;43mself\u001b[39;49m\u001b[43m,\u001b[49m\u001b[43m \u001b[49m\u001b[38;5;241;43m*\u001b[39;49m\u001b[43margs\u001b[49m\u001b[43m)\u001b[49m\n",
      "Cell \u001b[0;32mIn[56], line 27\u001b[0m, in \u001b[0;36mHybridFunction.backward\u001b[0;34m(ctx, grad_output)\u001b[0m\n\u001b[1;32m     25\u001b[0m \u001b[38;5;28;01mfor\u001b[39;00m i \u001b[38;5;129;01min\u001b[39;00m \u001b[38;5;28mrange\u001b[39m(\u001b[38;5;28mlen\u001b[39m(input_list)):\n\u001b[1;32m     26\u001b[0m     expectation_right \u001b[38;5;241m=\u001b[39m ctx\u001b[38;5;241m.\u001b[39mquantum_circuit\u001b[38;5;241m.\u001b[39mrun(shift_right[i])\n\u001b[0;32m---> 27\u001b[0m     expectation_left  \u001b[38;5;241m=\u001b[39m \u001b[43mctx\u001b[49m\u001b[38;5;241;43m.\u001b[39;49m\u001b[43mquantum_circuit\u001b[49m\u001b[38;5;241;43m.\u001b[39;49m\u001b[43mrun\u001b[49m\u001b[43m(\u001b[49m\u001b[43mshift_left\u001b[49m\u001b[43m[\u001b[49m\u001b[43mi\u001b[49m\u001b[43m]\u001b[49m\u001b[43m)\u001b[49m\n\u001b[1;32m     29\u001b[0m     gradient \u001b[38;5;241m=\u001b[39m torch\u001b[38;5;241m.\u001b[39mtensor([expectation_right]) \u001b[38;5;241m-\u001b[39m torch\u001b[38;5;241m.\u001b[39mtensor([expectation_left])\n\u001b[1;32m     30\u001b[0m     gradients[i] \u001b[38;5;241m=\u001b[39m gradient\n",
      "Cell \u001b[0;32mIn[55], line 19\u001b[0m, in \u001b[0;36mQuantumCircuit.run\u001b[0;34m(self, thetas)\u001b[0m\n\u001b[1;32m     18\u001b[0m \u001b[38;5;28;01mdef\u001b[39;00m \u001b[38;5;21mrun\u001b[39m(\u001b[38;5;28mself\u001b[39m, thetas):\n\u001b[0;32m---> 19\u001b[0m     t_qc \u001b[38;5;241m=\u001b[39m \u001b[43mtranspile\u001b[49m\u001b[43m(\u001b[49m\u001b[38;5;28;43mself\u001b[39;49m\u001b[38;5;241;43m.\u001b[39;49m\u001b[43m_circuit\u001b[49m\u001b[43m,\u001b[49m\n\u001b[1;32m     20\u001b[0m \u001b[43m                     \u001b[49m\u001b[38;5;28;43mself\u001b[39;49m\u001b[38;5;241;43m.\u001b[39;49m\u001b[43mbackend\u001b[49m\u001b[43m)\u001b[49m\n\u001b[1;32m     21\u001b[0m     qobj \u001b[38;5;241m=\u001b[39m assemble(t_qc,\n\u001b[1;32m     22\u001b[0m                     shots\u001b[38;5;241m=\u001b[39m\u001b[38;5;28mself\u001b[39m\u001b[38;5;241m.\u001b[39mshots,\n\u001b[1;32m     23\u001b[0m                     parameter_binds \u001b[38;5;241m=\u001b[39m [{\u001b[38;5;28mself\u001b[39m\u001b[38;5;241m.\u001b[39mtheta: theta} \u001b[38;5;28;01mfor\u001b[39;00m theta \u001b[38;5;129;01min\u001b[39;00m thetas])\n\u001b[1;32m     24\u001b[0m     job \u001b[38;5;241m=\u001b[39m \u001b[38;5;28mself\u001b[39m\u001b[38;5;241m.\u001b[39mbackend\u001b[38;5;241m.\u001b[39mrun(qobj)\n",
      "File \u001b[0;32m~/Escritorio/TFG/quantum_env/lib/python3.8/site-packages/qiskit/compiler/transpiler.py:379\u001b[0m, in \u001b[0;36mtranspile\u001b[0;34m(circuits, backend, basis_gates, inst_map, coupling_map, backend_properties, initial_layout, layout_method, routing_method, translation_method, scheduling_method, instruction_durations, dt, approximation_degree, timing_constraints, seed_transpiler, optimization_level, callback, output_name, unitary_synthesis_method, unitary_synthesis_plugin_config, target, hls_config, init_method, optimization_method, ignore_backend_supplied_default_methods)\u001b[0m\n\u001b[1;32m    377\u001b[0m output_circuits \u001b[38;5;241m=\u001b[39m []\n\u001b[1;32m    378\u001b[0m \u001b[38;5;28;01mfor\u001b[39;00m circuit, unique_args \u001b[38;5;129;01min\u001b[39;00m \u001b[38;5;28mzip\u001b[39m(circuits, unique_transpile_args):\n\u001b[0;32m--> 379\u001b[0m     transpile_config, pass_manager \u001b[38;5;241m=\u001b[39m \u001b[43m_combine_args\u001b[49m\u001b[43m(\u001b[49m\u001b[43mshared_args\u001b[49m\u001b[43m,\u001b[49m\u001b[43m \u001b[49m\u001b[43munique_args\u001b[49m\u001b[43m)\u001b[49m\n\u001b[1;32m    380\u001b[0m     output_circuits\u001b[38;5;241m.\u001b[39mappend(\n\u001b[1;32m    381\u001b[0m         _serial_transpile_circuit(\n\u001b[1;32m    382\u001b[0m             circuit,\n\u001b[0;32m   (...)\u001b[0m\n\u001b[1;32m    389\u001b[0m         )\n\u001b[1;32m    390\u001b[0m     )\n\u001b[1;32m    391\u001b[0m circuits \u001b[38;5;241m=\u001b[39m output_circuits\n",
      "File \u001b[0;32m~/Escritorio/TFG/quantum_env/lib/python3.8/site-packages/qiskit/compiler/transpiler.py:455\u001b[0m, in \u001b[0;36m_combine_args\u001b[0;34m(shared_transpiler_args, unique_config)\u001b[0m\n\u001b[1;32m    453\u001b[0m     pass_manager \u001b[38;5;241m=\u001b[39m level_0_pass_manager(pass_manager_config)\n\u001b[1;32m    454\u001b[0m \u001b[38;5;28;01melif\u001b[39;00m level \u001b[38;5;241m==\u001b[39m \u001b[38;5;241m1\u001b[39m:\n\u001b[0;32m--> 455\u001b[0m     pass_manager \u001b[38;5;241m=\u001b[39m \u001b[43mlevel_1_pass_manager\u001b[49m\u001b[43m(\u001b[49m\u001b[43mpass_manager_config\u001b[49m\u001b[43m)\u001b[49m\n\u001b[1;32m    456\u001b[0m \u001b[38;5;28;01melif\u001b[39;00m level \u001b[38;5;241m==\u001b[39m \u001b[38;5;241m2\u001b[39m:\n\u001b[1;32m    457\u001b[0m     pass_manager \u001b[38;5;241m=\u001b[39m level_2_pass_manager(pass_manager_config)\n",
      "File \u001b[0;32m~/Escritorio/TFG/quantum_env/lib/python3.8/site-packages/qiskit/transpiler/preset_passmanagers/level1.py:173\u001b[0m, in \u001b[0;36mlevel_1_pass_manager\u001b[0;34m(pass_manager_config)\u001b[0m\n\u001b[1;32m    166\u001b[0m \u001b[38;5;28;01mif\u001b[39;00m routing_method \u001b[38;5;129;01mis\u001b[39;00m \u001b[38;5;28;01mNone\u001b[39;00m:\n\u001b[1;32m    167\u001b[0m     _stochastic_routing \u001b[38;5;241m=\u001b[39m plugin_manager\u001b[38;5;241m.\u001b[39mget_passmanager_stage(\n\u001b[1;32m    168\u001b[0m         \u001b[38;5;124m\"\u001b[39m\u001b[38;5;124mrouting\u001b[39m\u001b[38;5;124m\"\u001b[39m,\n\u001b[1;32m    169\u001b[0m         \u001b[38;5;124m\"\u001b[39m\u001b[38;5;124mstochastic\u001b[39m\u001b[38;5;124m\"\u001b[39m,\n\u001b[1;32m    170\u001b[0m         pass_manager_config,\n\u001b[1;32m    171\u001b[0m         optimization_level\u001b[38;5;241m=\u001b[39m\u001b[38;5;241m1\u001b[39m,\n\u001b[1;32m    172\u001b[0m     )\n\u001b[0;32m--> 173\u001b[0m     _sabre_routing \u001b[38;5;241m=\u001b[39m \u001b[43mplugin_manager\u001b[49m\u001b[38;5;241;43m.\u001b[39;49m\u001b[43mget_passmanager_stage\u001b[49m\u001b[43m(\u001b[49m\n\u001b[1;32m    174\u001b[0m \u001b[43m        \u001b[49m\u001b[38;5;124;43m\"\u001b[39;49m\u001b[38;5;124;43mrouting\u001b[39;49m\u001b[38;5;124;43m\"\u001b[39;49m\u001b[43m,\u001b[49m\n\u001b[1;32m    175\u001b[0m \u001b[43m        \u001b[49m\u001b[38;5;124;43m\"\u001b[39;49m\u001b[38;5;124;43msabre\u001b[39;49m\u001b[38;5;124;43m\"\u001b[39;49m\u001b[43m,\u001b[49m\n\u001b[1;32m    176\u001b[0m \u001b[43m        \u001b[49m\u001b[43mpass_manager_config\u001b[49m\u001b[43m,\u001b[49m\n\u001b[1;32m    177\u001b[0m \u001b[43m        \u001b[49m\u001b[43moptimization_level\u001b[49m\u001b[38;5;241;43m=\u001b[39;49m\u001b[38;5;241;43m1\u001b[39;49m\u001b[43m,\u001b[49m\n\u001b[1;32m    178\u001b[0m \u001b[43m    \u001b[49m\u001b[43m)\u001b[49m\n\u001b[1;32m    179\u001b[0m     routing_pm \u001b[38;5;241m=\u001b[39m common\u001b[38;5;241m.\u001b[39mif_has_control_flow_else(_stochastic_routing, _sabre_routing)\n\u001b[1;32m    180\u001b[0m \u001b[38;5;28;01melse\u001b[39;00m:\n",
      "File \u001b[0;32m~/Escritorio/TFG/quantum_env/lib/python3.8/site-packages/qiskit/transpiler/preset_passmanagers/plugin.py:245\u001b[0m, in \u001b[0;36mPassManagerStagePluginManager.get_passmanager_stage\u001b[0;34m(self, stage_name, plugin_name, pm_config, optimization_level)\u001b[0m\n\u001b[1;32m    241\u001b[0m     \u001b[38;5;28;01mreturn\u001b[39;00m \u001b[38;5;28mself\u001b[39m\u001b[38;5;241m.\u001b[39m_build_pm(\n\u001b[1;32m    242\u001b[0m         \u001b[38;5;28mself\u001b[39m\u001b[38;5;241m.\u001b[39mlayout_plugins, stage_name, plugin_name, pm_config, optimization_level\n\u001b[1;32m    243\u001b[0m     )\n\u001b[1;32m    244\u001b[0m \u001b[38;5;28;01melif\u001b[39;00m stage_name \u001b[38;5;241m==\u001b[39m \u001b[38;5;124m\"\u001b[39m\u001b[38;5;124mrouting\u001b[39m\u001b[38;5;124m\"\u001b[39m:\n\u001b[0;32m--> 245\u001b[0m     \u001b[38;5;28;01mreturn\u001b[39;00m \u001b[38;5;28;43mself\u001b[39;49m\u001b[38;5;241;43m.\u001b[39;49m\u001b[43m_build_pm\u001b[49m\u001b[43m(\u001b[49m\n\u001b[1;32m    246\u001b[0m \u001b[43m        \u001b[49m\u001b[38;5;28;43mself\u001b[39;49m\u001b[38;5;241;43m.\u001b[39;49m\u001b[43mrouting_plugins\u001b[49m\u001b[43m,\u001b[49m\u001b[43m \u001b[49m\u001b[43mstage_name\u001b[49m\u001b[43m,\u001b[49m\u001b[43m \u001b[49m\u001b[43mplugin_name\u001b[49m\u001b[43m,\u001b[49m\u001b[43m \u001b[49m\u001b[43mpm_config\u001b[49m\u001b[43m,\u001b[49m\u001b[43m \u001b[49m\u001b[43moptimization_level\u001b[49m\n\u001b[1;32m    247\u001b[0m \u001b[43m    \u001b[49m\u001b[43m)\u001b[49m\n\u001b[1;32m    248\u001b[0m \u001b[38;5;28;01melif\u001b[39;00m stage_name \u001b[38;5;241m==\u001b[39m \u001b[38;5;124m\"\u001b[39m\u001b[38;5;124mtranslation\u001b[39m\u001b[38;5;124m\"\u001b[39m:\n\u001b[1;32m    249\u001b[0m     \u001b[38;5;28;01mreturn\u001b[39;00m \u001b[38;5;28mself\u001b[39m\u001b[38;5;241m.\u001b[39m_build_pm(\n\u001b[1;32m    250\u001b[0m         \u001b[38;5;28mself\u001b[39m\u001b[38;5;241m.\u001b[39mtranslation_plugins, stage_name, plugin_name, pm_config, optimization_level\n\u001b[1;32m    251\u001b[0m     )\n",
      "File \u001b[0;32m~/Escritorio/TFG/quantum_env/lib/python3.8/site-packages/qiskit/transpiler/preset_passmanagers/plugin.py:274\u001b[0m, in \u001b[0;36mPassManagerStagePluginManager._build_pm\u001b[0;34m(self, stage_obj, stage_name, plugin_name, pm_config, optimization_level)\u001b[0m\n\u001b[1;32m    272\u001b[0m     \u001b[38;5;28;01mraise\u001b[39;00m TranspilerError(\u001b[38;5;124mf\u001b[39m\u001b[38;5;124m\"\u001b[39m\u001b[38;5;124mInvalid plugin name \u001b[39m\u001b[38;5;132;01m{\u001b[39;00mplugin_name\u001b[38;5;132;01m}\u001b[39;00m\u001b[38;5;124m for stage \u001b[39m\u001b[38;5;132;01m{\u001b[39;00mstage_name\u001b[38;5;132;01m}\u001b[39;00m\u001b[38;5;124m\"\u001b[39m)\n\u001b[1;32m    273\u001b[0m plugin_obj \u001b[38;5;241m=\u001b[39m stage_obj[plugin_name]\n\u001b[0;32m--> 274\u001b[0m \u001b[38;5;28;01mreturn\u001b[39;00m \u001b[43mplugin_obj\u001b[49m\u001b[38;5;241;43m.\u001b[39;49m\u001b[43mobj\u001b[49m\u001b[38;5;241;43m.\u001b[39;49m\u001b[43mpass_manager\u001b[49m\u001b[43m(\u001b[49m\u001b[43mpm_config\u001b[49m\u001b[43m,\u001b[49m\u001b[43m \u001b[49m\u001b[43moptimization_level\u001b[49m\u001b[43m)\u001b[49m\n",
      "File \u001b[0;32m~/Escritorio/TFG/quantum_env/lib/python3.8/site-packages/qiskit/transpiler/preset_passmanagers/builtin_plugins.py:220\u001b[0m, in \u001b[0;36mSabreSwapPassManager.pass_manager\u001b[0;34m(self, pass_manager_config, optimization_level)\u001b[0m\n\u001b[1;32m    212\u001b[0m     \u001b[38;5;28;01mreturn\u001b[39;00m common\u001b[38;5;241m.\u001b[39mgenerate_routing_passmanager(\n\u001b[1;32m    213\u001b[0m         routing_pass,\n\u001b[1;32m    214\u001b[0m         target,\n\u001b[0;32m   (...)\u001b[0m\n\u001b[1;32m    217\u001b[0m         use_barrier_before_measurement\u001b[38;5;241m=\u001b[39m\u001b[38;5;28;01mTrue\u001b[39;00m,\n\u001b[1;32m    218\u001b[0m     )\n\u001b[1;32m    219\u001b[0m \u001b[38;5;28;01mif\u001b[39;00m optimization_level \u001b[38;5;241m==\u001b[39m \u001b[38;5;241m1\u001b[39m:\n\u001b[0;32m--> 220\u001b[0m     routing_pass \u001b[38;5;241m=\u001b[39m \u001b[43mSabreSwap\u001b[49m\u001b[43m(\u001b[49m\n\u001b[1;32m    221\u001b[0m \u001b[43m        \u001b[49m\u001b[43mcoupling_map\u001b[49m\u001b[43m,\u001b[49m\u001b[43m \u001b[49m\u001b[43mheuristic\u001b[49m\u001b[38;5;241;43m=\u001b[39;49m\u001b[38;5;124;43m\"\u001b[39;49m\u001b[38;5;124;43mdecay\u001b[39;49m\u001b[38;5;124;43m\"\u001b[39;49m\u001b[43m,\u001b[49m\u001b[43m \u001b[49m\u001b[43mseed\u001b[49m\u001b[38;5;241;43m=\u001b[39;49m\u001b[43mseed_transpiler\u001b[49m\u001b[43m,\u001b[49m\u001b[43m \u001b[49m\u001b[43mtrials\u001b[49m\u001b[38;5;241;43m=\u001b[39;49m\u001b[38;5;241;43m5\u001b[39;49m\n\u001b[1;32m    222\u001b[0m \u001b[43m    \u001b[49m\u001b[43m)\u001b[49m\n\u001b[1;32m    223\u001b[0m     \u001b[38;5;28;01mreturn\u001b[39;00m common\u001b[38;5;241m.\u001b[39mgenerate_routing_passmanager(\n\u001b[1;32m    224\u001b[0m         routing_pass,\n\u001b[1;32m    225\u001b[0m         target,\n\u001b[0;32m   (...)\u001b[0m\n\u001b[1;32m    231\u001b[0m         use_barrier_before_measurement\u001b[38;5;241m=\u001b[39m\u001b[38;5;28;01mTrue\u001b[39;00m,\n\u001b[1;32m    232\u001b[0m     )\n\u001b[1;32m    233\u001b[0m \u001b[38;5;28;01mif\u001b[39;00m optimization_level \u001b[38;5;241m==\u001b[39m \u001b[38;5;241m2\u001b[39m:\n",
      "File \u001b[0;32m~/Escritorio/TFG/quantum_env/lib/python3.8/site-packages/qiskit/transpiler/basepasses.py:31\u001b[0m, in \u001b[0;36mMetaPass.__call__\u001b[0;34m(cls, *args, **kwargs)\u001b[0m\n\u001b[1;32m     29\u001b[0m \u001b[38;5;28;01mdef\u001b[39;00m \u001b[38;5;21m__call__\u001b[39m(\u001b[38;5;28mcls\u001b[39m, \u001b[38;5;241m*\u001b[39margs, \u001b[38;5;241m*\u001b[39m\u001b[38;5;241m*\u001b[39mkwargs):\n\u001b[1;32m     30\u001b[0m     pass_instance \u001b[38;5;241m=\u001b[39m \u001b[38;5;28mtype\u001b[39m\u001b[38;5;241m.\u001b[39m\u001b[38;5;21m__call__\u001b[39m(\u001b[38;5;28mcls\u001b[39m, \u001b[38;5;241m*\u001b[39margs, \u001b[38;5;241m*\u001b[39m\u001b[38;5;241m*\u001b[39mkwargs)\n\u001b[0;32m---> 31\u001b[0m     pass_instance\u001b[38;5;241m.\u001b[39m_hash \u001b[38;5;241m=\u001b[39m \u001b[38;5;28mhash\u001b[39m(\u001b[43mMetaPass\u001b[49m\u001b[38;5;241;43m.\u001b[39;49m\u001b[43m_freeze_init_parameters\u001b[49m\u001b[43m(\u001b[49m\u001b[38;5;28;43mcls\u001b[39;49m\u001b[43m,\u001b[49m\u001b[43m \u001b[49m\u001b[43margs\u001b[49m\u001b[43m,\u001b[49m\u001b[43m \u001b[49m\u001b[43mkwargs\u001b[49m\u001b[43m)\u001b[49m)\n\u001b[1;32m     32\u001b[0m     \u001b[38;5;28;01mreturn\u001b[39;00m pass_instance\n",
      "File \u001b[0;32m~/Escritorio/TFG/quantum_env/lib/python3.8/site-packages/qiskit/transpiler/basepasses.py:37\u001b[0m, in \u001b[0;36mMetaPass._freeze_init_parameters\u001b[0;34m(class_, args, kwargs)\u001b[0m\n\u001b[1;32m     34\u001b[0m \u001b[38;5;129m@staticmethod\u001b[39m\n\u001b[1;32m     35\u001b[0m \u001b[38;5;28;01mdef\u001b[39;00m \u001b[38;5;21m_freeze_init_parameters\u001b[39m(class_, args, kwargs):\n\u001b[1;32m     36\u001b[0m     self_guard \u001b[38;5;241m=\u001b[39m \u001b[38;5;28mobject\u001b[39m()\n\u001b[0;32m---> 37\u001b[0m     init_signature \u001b[38;5;241m=\u001b[39m \u001b[43msignature\u001b[49m\u001b[43m(\u001b[49m\u001b[43mclass_\u001b[49m\u001b[38;5;241;43m.\u001b[39;49m\u001b[38;5;21;43m__init__\u001b[39;49m\u001b[43m)\u001b[49m\n\u001b[1;32m     38\u001b[0m     bound_signature \u001b[38;5;241m=\u001b[39m init_signature\u001b[38;5;241m.\u001b[39mbind(self_guard, \u001b[38;5;241m*\u001b[39margs, \u001b[38;5;241m*\u001b[39m\u001b[38;5;241m*\u001b[39mkwargs)\n\u001b[1;32m     39\u001b[0m     arguments \u001b[38;5;241m=\u001b[39m [(\u001b[38;5;124m\"\u001b[39m\u001b[38;5;124mclass_.__name__\u001b[39m\u001b[38;5;124m\"\u001b[39m, class_\u001b[38;5;241m.\u001b[39m\u001b[38;5;18m__name__\u001b[39m)]\n",
      "File \u001b[0;32m/usr/lib/python3.8/inspect.py:3105\u001b[0m, in \u001b[0;36msignature\u001b[0;34m(obj, follow_wrapped)\u001b[0m\n\u001b[1;32m   3103\u001b[0m \u001b[38;5;28;01mdef\u001b[39;00m \u001b[38;5;21msignature\u001b[39m(obj, \u001b[38;5;241m*\u001b[39m, follow_wrapped\u001b[38;5;241m=\u001b[39m\u001b[38;5;28;01mTrue\u001b[39;00m):\n\u001b[1;32m   3104\u001b[0m \u001b[38;5;250m    \u001b[39m\u001b[38;5;124;03m\"\"\"Get a signature object for the passed callable.\"\"\"\u001b[39;00m\n\u001b[0;32m-> 3105\u001b[0m     \u001b[38;5;28;01mreturn\u001b[39;00m \u001b[43mSignature\u001b[49m\u001b[38;5;241;43m.\u001b[39;49m\u001b[43mfrom_callable\u001b[49m\u001b[43m(\u001b[49m\u001b[43mobj\u001b[49m\u001b[43m,\u001b[49m\u001b[43m \u001b[49m\u001b[43mfollow_wrapped\u001b[49m\u001b[38;5;241;43m=\u001b[39;49m\u001b[43mfollow_wrapped\u001b[49m\u001b[43m)\u001b[49m\n",
      "File \u001b[0;32m/usr/lib/python3.8/inspect.py:2854\u001b[0m, in \u001b[0;36mSignature.from_callable\u001b[0;34m(cls, obj, follow_wrapped)\u001b[0m\n\u001b[1;32m   2851\u001b[0m \u001b[38;5;129m@classmethod\u001b[39m\n\u001b[1;32m   2852\u001b[0m \u001b[38;5;28;01mdef\u001b[39;00m \u001b[38;5;21mfrom_callable\u001b[39m(\u001b[38;5;28mcls\u001b[39m, obj, \u001b[38;5;241m*\u001b[39m, follow_wrapped\u001b[38;5;241m=\u001b[39m\u001b[38;5;28;01mTrue\u001b[39;00m):\n\u001b[1;32m   2853\u001b[0m \u001b[38;5;250m    \u001b[39m\u001b[38;5;124;03m\"\"\"Constructs Signature for the given callable object.\"\"\"\u001b[39;00m\n\u001b[0;32m-> 2854\u001b[0m     \u001b[38;5;28;01mreturn\u001b[39;00m \u001b[43m_signature_from_callable\u001b[49m\u001b[43m(\u001b[49m\u001b[43mobj\u001b[49m\u001b[43m,\u001b[49m\u001b[43m \u001b[49m\u001b[43msigcls\u001b[49m\u001b[38;5;241;43m=\u001b[39;49m\u001b[38;5;28;43mcls\u001b[39;49m\u001b[43m,\u001b[49m\n\u001b[1;32m   2855\u001b[0m \u001b[43m                                    \u001b[49m\u001b[43mfollow_wrapper_chains\u001b[49m\u001b[38;5;241;43m=\u001b[39;49m\u001b[43mfollow_wrapped\u001b[49m\u001b[43m)\u001b[49m\n",
      "File \u001b[0;32m/usr/lib/python3.8/inspect.py:2246\u001b[0m, in \u001b[0;36m_signature_from_callable\u001b[0;34m(obj, follow_wrapper_chains, skip_bound_arg, sigcls)\u001b[0m\n\u001b[1;32m   2244\u001b[0m \u001b[38;5;66;03m# Was this function wrapped by a decorator?\u001b[39;00m\n\u001b[1;32m   2245\u001b[0m \u001b[38;5;28;01mif\u001b[39;00m follow_wrapper_chains:\n\u001b[0;32m-> 2246\u001b[0m     obj \u001b[38;5;241m=\u001b[39m \u001b[43munwrap\u001b[49m\u001b[43m(\u001b[49m\u001b[43mobj\u001b[49m\u001b[43m,\u001b[49m\u001b[43m \u001b[49m\u001b[43mstop\u001b[49m\u001b[38;5;241;43m=\u001b[39;49m\u001b[43m(\u001b[49m\u001b[38;5;28;43;01mlambda\u001b[39;49;00m\u001b[43m \u001b[49m\u001b[43mf\u001b[49m\u001b[43m:\u001b[49m\u001b[43m \u001b[49m\u001b[38;5;28;43mhasattr\u001b[39;49m\u001b[43m(\u001b[49m\u001b[43mf\u001b[49m\u001b[43m,\u001b[49m\u001b[43m \u001b[49m\u001b[38;5;124;43m\"\u001b[39;49m\u001b[38;5;124;43m__signature__\u001b[39;49m\u001b[38;5;124;43m\"\u001b[39;49m\u001b[43m)\u001b[49m\u001b[43m)\u001b[49m\u001b[43m)\u001b[49m\n\u001b[1;32m   2247\u001b[0m     \u001b[38;5;28;01mif\u001b[39;00m \u001b[38;5;28misinstance\u001b[39m(obj, types\u001b[38;5;241m.\u001b[39mMethodType):\n\u001b[1;32m   2248\u001b[0m         \u001b[38;5;66;03m# If the unwrapped object is a *method*, we might want to\u001b[39;00m\n\u001b[1;32m   2249\u001b[0m         \u001b[38;5;66;03m# skip its first parameter (self).\u001b[39;00m\n\u001b[1;32m   2250\u001b[0m         \u001b[38;5;66;03m# See test_signature_wrapped_bound_method for details.\u001b[39;00m\n\u001b[1;32m   2251\u001b[0m         \u001b[38;5;28;01mreturn\u001b[39;00m _signature_from_callable(\n\u001b[1;32m   2252\u001b[0m             obj,\n\u001b[1;32m   2253\u001b[0m             follow_wrapper_chains\u001b[38;5;241m=\u001b[39mfollow_wrapper_chains,\n\u001b[1;32m   2254\u001b[0m             skip_bound_arg\u001b[38;5;241m=\u001b[39mskip_bound_arg,\n\u001b[1;32m   2255\u001b[0m             sigcls\u001b[38;5;241m=\u001b[39msigcls)\n",
      "\u001b[0;31mKeyboardInterrupt\u001b[0m: "
     ]
    }
   ],
   "source": [
    "optimizer = optim.Adam(model_q.parameters(), lr=0.0001)\n",
    "loss_func = nn.CrossEntropyLoss()\n",
    "\n",
    "epochs = 20\n",
    "loss_list = []\n",
    "\n",
    "start_q_train()\n",
    "startTrainingTime_q = time.time()\n",
    "model_q.train()\n",
    "for epoch in range(epochs):\n",
    "    total_loss = []\n",
    "    for batch_idx, (data, target) in enumerate(train_loader):\n",
    "        optimizer.zero_grad()\n",
    "  \n",
    "        output = model_q(data)\n",
    "        loss = loss_func(output, target)\n",
    "        loss.backward()\n",
    "        optimizer.step()\n",
    "        \n",
    "        total_loss.append(loss.item())\n",
    "    loss_list.append(sum(total_loss)/len(total_loss))\n",
    "    print('Training [{:.0f}%]\\tLoss: {:.4f}'.format(\n",
    "        100. * (epoch + 1) / epochs, loss_list[-1]))\n",
    "\n",
    "stop_q_train()\n",
    "stopTrainingTime_q = time.time()\n",
    "endTrainingTime_q = stopTrainingTime_q - startTrainingTime_q"
   ]
  },
  {
   "cell_type": "markdown",
   "id": "d9620309",
   "metadata": {},
   "source": [
    "## 5. Resultados <a class=\"anchor\" id=\"Resultados4\"></a>"
   ]
  },
  {
   "cell_type": "code",
   "execution_count": null,
   "id": "fbd65de3",
   "metadata": {},
   "outputs": [],
   "source": [
    "model_q.eval()\n",
    "start_q_test()\n",
    "startTestingTime_q = time.time()\n",
    "with torch.no_grad():\n",
    "    \n",
    "    correct = 0\n",
    "    for batch_idx, (data, target) in enumerate(test_loader):\n",
    "        output = model_q(data)\n",
    "        \n",
    "        pred = output.argmax(dim=1, keepdim=True)\n",
    "        correct += pred.eq(target.view_as(pred)).sum().item()\n",
    "        \n",
    "        loss = loss_func(output, target)\n",
    "        total_loss.append(loss.item())\n",
    "        #ESTO PUEDE ESTAR MAL, MIRAR DE NUEVO\n",
    "        accuracy = correct / len(test_loader) * 100 / batch_size\n",
    "        \n",
    "    print('Performance on test data:\\n\\tLoss: {:.4f}\\n\\tAccuracy: {:.1f}%'.format(\n",
    "        sum(total_loss) / len(total_loss),\n",
    "        correct / len(test_loader) * 100 / batch_size)\n",
    "        )\n",
    "    \n",
    "stop_q_test()\n",
    "stopTestingTime_q = time.time()\n",
    "endTrainingTime_q = stopTestingTime_q - startTestingTime_q"
   ]
  },
  {
   "cell_type": "markdown",
   "id": "df3951c5",
   "metadata": {},
   "source": [
    "# Comparaciones <a class=\"anchor\" id=\"comparaciones\"></a>"
   ]
  },
  {
   "cell_type": "code",
   "execution_count": 73,
   "id": "9c065e8e",
   "metadata": {},
   "outputs": [],
   "source": [
    "list_classifiers = ['MLP','Keras','TFQ','Qiskit']\n",
    "val_scores = [resultados_mlp[0], score[1]*100,test_acc*100,accuracy]"
   ]
  },
  {
   "cell_type": "code",
   "execution_count": 75,
   "id": "fbbe5bba",
   "metadata": {},
   "outputs": [
    {
     "data": {
      "application/vnd.plotly.v1+json": {
       "config": {
        "linkText": "Export to plot.ly",
        "plotlyServerURL": "https://plot.ly",
        "showLink": false
       },
       "data": [
        {
         "name": "Validation",
         "text": [
          "MLP",
          "Keras",
          "TFQ",
          "Qiskit"
         ],
         "type": "scatter",
         "x": [
          "MLP",
          "Keras",
          "TFQ",
          "Qiskit"
         ],
         "y": [
          92.97950957339603,
          67.58481860160828,
          48.841115832328796,
          34.54122340425532
         ]
        }
       ],
       "layout": {
        "autosize": false,
        "height": 500,
        "legend": {
         "orientation": "v",
         "x": 1.05,
         "y": 1
        },
        "template": {
         "data": {
          "bar": [
           {
            "error_x": {
             "color": "#2a3f5f"
            },
            "error_y": {
             "color": "#2a3f5f"
            },
            "marker": {
             "line": {
              "color": "#E5ECF6",
              "width": 0.5
             },
             "pattern": {
              "fillmode": "overlay",
              "size": 10,
              "solidity": 0.2
             }
            },
            "type": "bar"
           }
          ],
          "barpolar": [
           {
            "marker": {
             "line": {
              "color": "#E5ECF6",
              "width": 0.5
             },
             "pattern": {
              "fillmode": "overlay",
              "size": 10,
              "solidity": 0.2
             }
            },
            "type": "barpolar"
           }
          ],
          "carpet": [
           {
            "aaxis": {
             "endlinecolor": "#2a3f5f",
             "gridcolor": "white",
             "linecolor": "white",
             "minorgridcolor": "white",
             "startlinecolor": "#2a3f5f"
            },
            "baxis": {
             "endlinecolor": "#2a3f5f",
             "gridcolor": "white",
             "linecolor": "white",
             "minorgridcolor": "white",
             "startlinecolor": "#2a3f5f"
            },
            "type": "carpet"
           }
          ],
          "choropleth": [
           {
            "colorbar": {
             "outlinewidth": 0,
             "ticks": ""
            },
            "type": "choropleth"
           }
          ],
          "contour": [
           {
            "colorbar": {
             "outlinewidth": 0,
             "ticks": ""
            },
            "colorscale": [
             [
              0,
              "#0d0887"
             ],
             [
              0.1111111111111111,
              "#46039f"
             ],
             [
              0.2222222222222222,
              "#7201a8"
             ],
             [
              0.3333333333333333,
              "#9c179e"
             ],
             [
              0.4444444444444444,
              "#bd3786"
             ],
             [
              0.5555555555555556,
              "#d8576b"
             ],
             [
              0.6666666666666666,
              "#ed7953"
             ],
             [
              0.7777777777777778,
              "#fb9f3a"
             ],
             [
              0.8888888888888888,
              "#fdca26"
             ],
             [
              1,
              "#f0f921"
             ]
            ],
            "type": "contour"
           }
          ],
          "contourcarpet": [
           {
            "colorbar": {
             "outlinewidth": 0,
             "ticks": ""
            },
            "type": "contourcarpet"
           }
          ],
          "heatmap": [
           {
            "colorbar": {
             "outlinewidth": 0,
             "ticks": ""
            },
            "colorscale": [
             [
              0,
              "#0d0887"
             ],
             [
              0.1111111111111111,
              "#46039f"
             ],
             [
              0.2222222222222222,
              "#7201a8"
             ],
             [
              0.3333333333333333,
              "#9c179e"
             ],
             [
              0.4444444444444444,
              "#bd3786"
             ],
             [
              0.5555555555555556,
              "#d8576b"
             ],
             [
              0.6666666666666666,
              "#ed7953"
             ],
             [
              0.7777777777777778,
              "#fb9f3a"
             ],
             [
              0.8888888888888888,
              "#fdca26"
             ],
             [
              1,
              "#f0f921"
             ]
            ],
            "type": "heatmap"
           }
          ],
          "heatmapgl": [
           {
            "colorbar": {
             "outlinewidth": 0,
             "ticks": ""
            },
            "colorscale": [
             [
              0,
              "#0d0887"
             ],
             [
              0.1111111111111111,
              "#46039f"
             ],
             [
              0.2222222222222222,
              "#7201a8"
             ],
             [
              0.3333333333333333,
              "#9c179e"
             ],
             [
              0.4444444444444444,
              "#bd3786"
             ],
             [
              0.5555555555555556,
              "#d8576b"
             ],
             [
              0.6666666666666666,
              "#ed7953"
             ],
             [
              0.7777777777777778,
              "#fb9f3a"
             ],
             [
              0.8888888888888888,
              "#fdca26"
             ],
             [
              1,
              "#f0f921"
             ]
            ],
            "type": "heatmapgl"
           }
          ],
          "histogram": [
           {
            "marker": {
             "pattern": {
              "fillmode": "overlay",
              "size": 10,
              "solidity": 0.2
             }
            },
            "type": "histogram"
           }
          ],
          "histogram2d": [
           {
            "colorbar": {
             "outlinewidth": 0,
             "ticks": ""
            },
            "colorscale": [
             [
              0,
              "#0d0887"
             ],
             [
              0.1111111111111111,
              "#46039f"
             ],
             [
              0.2222222222222222,
              "#7201a8"
             ],
             [
              0.3333333333333333,
              "#9c179e"
             ],
             [
              0.4444444444444444,
              "#bd3786"
             ],
             [
              0.5555555555555556,
              "#d8576b"
             ],
             [
              0.6666666666666666,
              "#ed7953"
             ],
             [
              0.7777777777777778,
              "#fb9f3a"
             ],
             [
              0.8888888888888888,
              "#fdca26"
             ],
             [
              1,
              "#f0f921"
             ]
            ],
            "type": "histogram2d"
           }
          ],
          "histogram2dcontour": [
           {
            "colorbar": {
             "outlinewidth": 0,
             "ticks": ""
            },
            "colorscale": [
             [
              0,
              "#0d0887"
             ],
             [
              0.1111111111111111,
              "#46039f"
             ],
             [
              0.2222222222222222,
              "#7201a8"
             ],
             [
              0.3333333333333333,
              "#9c179e"
             ],
             [
              0.4444444444444444,
              "#bd3786"
             ],
             [
              0.5555555555555556,
              "#d8576b"
             ],
             [
              0.6666666666666666,
              "#ed7953"
             ],
             [
              0.7777777777777778,
              "#fb9f3a"
             ],
             [
              0.8888888888888888,
              "#fdca26"
             ],
             [
              1,
              "#f0f921"
             ]
            ],
            "type": "histogram2dcontour"
           }
          ],
          "mesh3d": [
           {
            "colorbar": {
             "outlinewidth": 0,
             "ticks": ""
            },
            "type": "mesh3d"
           }
          ],
          "parcoords": [
           {
            "line": {
             "colorbar": {
              "outlinewidth": 0,
              "ticks": ""
             }
            },
            "type": "parcoords"
           }
          ],
          "pie": [
           {
            "automargin": true,
            "type": "pie"
           }
          ],
          "scatter": [
           {
            "fillpattern": {
             "fillmode": "overlay",
             "size": 10,
             "solidity": 0.2
            },
            "type": "scatter"
           }
          ],
          "scatter3d": [
           {
            "line": {
             "colorbar": {
              "outlinewidth": 0,
              "ticks": ""
             }
            },
            "marker": {
             "colorbar": {
              "outlinewidth": 0,
              "ticks": ""
             }
            },
            "type": "scatter3d"
           }
          ],
          "scattercarpet": [
           {
            "marker": {
             "colorbar": {
              "outlinewidth": 0,
              "ticks": ""
             }
            },
            "type": "scattercarpet"
           }
          ],
          "scattergeo": [
           {
            "marker": {
             "colorbar": {
              "outlinewidth": 0,
              "ticks": ""
             }
            },
            "type": "scattergeo"
           }
          ],
          "scattergl": [
           {
            "marker": {
             "colorbar": {
              "outlinewidth": 0,
              "ticks": ""
             }
            },
            "type": "scattergl"
           }
          ],
          "scattermapbox": [
           {
            "marker": {
             "colorbar": {
              "outlinewidth": 0,
              "ticks": ""
             }
            },
            "type": "scattermapbox"
           }
          ],
          "scatterpolar": [
           {
            "marker": {
             "colorbar": {
              "outlinewidth": 0,
              "ticks": ""
             }
            },
            "type": "scatterpolar"
           }
          ],
          "scatterpolargl": [
           {
            "marker": {
             "colorbar": {
              "outlinewidth": 0,
              "ticks": ""
             }
            },
            "type": "scatterpolargl"
           }
          ],
          "scatterternary": [
           {
            "marker": {
             "colorbar": {
              "outlinewidth": 0,
              "ticks": ""
             }
            },
            "type": "scatterternary"
           }
          ],
          "surface": [
           {
            "colorbar": {
             "outlinewidth": 0,
             "ticks": ""
            },
            "colorscale": [
             [
              0,
              "#0d0887"
             ],
             [
              0.1111111111111111,
              "#46039f"
             ],
             [
              0.2222222222222222,
              "#7201a8"
             ],
             [
              0.3333333333333333,
              "#9c179e"
             ],
             [
              0.4444444444444444,
              "#bd3786"
             ],
             [
              0.5555555555555556,
              "#d8576b"
             ],
             [
              0.6666666666666666,
              "#ed7953"
             ],
             [
              0.7777777777777778,
              "#fb9f3a"
             ],
             [
              0.8888888888888888,
              "#fdca26"
             ],
             [
              1,
              "#f0f921"
             ]
            ],
            "type": "surface"
           }
          ],
          "table": [
           {
            "cells": {
             "fill": {
              "color": "#EBF0F8"
             },
             "line": {
              "color": "white"
             }
            },
            "header": {
             "fill": {
              "color": "#C8D4E3"
             },
             "line": {
              "color": "white"
             }
            },
            "type": "table"
           }
          ]
         },
         "layout": {
          "annotationdefaults": {
           "arrowcolor": "#2a3f5f",
           "arrowhead": 0,
           "arrowwidth": 1
          },
          "autotypenumbers": "strict",
          "coloraxis": {
           "colorbar": {
            "outlinewidth": 0,
            "ticks": ""
           }
          },
          "colorscale": {
           "diverging": [
            [
             0,
             "#8e0152"
            ],
            [
             0.1,
             "#c51b7d"
            ],
            [
             0.2,
             "#de77ae"
            ],
            [
             0.3,
             "#f1b6da"
            ],
            [
             0.4,
             "#fde0ef"
            ],
            [
             0.5,
             "#f7f7f7"
            ],
            [
             0.6,
             "#e6f5d0"
            ],
            [
             0.7,
             "#b8e186"
            ],
            [
             0.8,
             "#7fbc41"
            ],
            [
             0.9,
             "#4d9221"
            ],
            [
             1,
             "#276419"
            ]
           ],
           "sequential": [
            [
             0,
             "#0d0887"
            ],
            [
             0.1111111111111111,
             "#46039f"
            ],
            [
             0.2222222222222222,
             "#7201a8"
            ],
            [
             0.3333333333333333,
             "#9c179e"
            ],
            [
             0.4444444444444444,
             "#bd3786"
            ],
            [
             0.5555555555555556,
             "#d8576b"
            ],
            [
             0.6666666666666666,
             "#ed7953"
            ],
            [
             0.7777777777777778,
             "#fb9f3a"
            ],
            [
             0.8888888888888888,
             "#fdca26"
            ],
            [
             1,
             "#f0f921"
            ]
           ],
           "sequentialminus": [
            [
             0,
             "#0d0887"
            ],
            [
             0.1111111111111111,
             "#46039f"
            ],
            [
             0.2222222222222222,
             "#7201a8"
            ],
            [
             0.3333333333333333,
             "#9c179e"
            ],
            [
             0.4444444444444444,
             "#bd3786"
            ],
            [
             0.5555555555555556,
             "#d8576b"
            ],
            [
             0.6666666666666666,
             "#ed7953"
            ],
            [
             0.7777777777777778,
             "#fb9f3a"
            ],
            [
             0.8888888888888888,
             "#fdca26"
            ],
            [
             1,
             "#f0f921"
            ]
           ]
          },
          "colorway": [
           "#636efa",
           "#EF553B",
           "#00cc96",
           "#ab63fa",
           "#FFA15A",
           "#19d3f3",
           "#FF6692",
           "#B6E880",
           "#FF97FF",
           "#FECB52"
          ],
          "font": {
           "color": "#2a3f5f"
          },
          "geo": {
           "bgcolor": "white",
           "lakecolor": "white",
           "landcolor": "#E5ECF6",
           "showlakes": true,
           "showland": true,
           "subunitcolor": "white"
          },
          "hoverlabel": {
           "align": "left"
          },
          "hovermode": "closest",
          "mapbox": {
           "style": "light"
          },
          "paper_bgcolor": "white",
          "plot_bgcolor": "#E5ECF6",
          "polar": {
           "angularaxis": {
            "gridcolor": "white",
            "linecolor": "white",
            "ticks": ""
           },
           "bgcolor": "#E5ECF6",
           "radialaxis": {
            "gridcolor": "white",
            "linecolor": "white",
            "ticks": ""
           }
          },
          "scene": {
           "xaxis": {
            "backgroundcolor": "#E5ECF6",
            "gridcolor": "white",
            "gridwidth": 2,
            "linecolor": "white",
            "showbackground": true,
            "ticks": "",
            "zerolinecolor": "white"
           },
           "yaxis": {
            "backgroundcolor": "#E5ECF6",
            "gridcolor": "white",
            "gridwidth": 2,
            "linecolor": "white",
            "showbackground": true,
            "ticks": "",
            "zerolinecolor": "white"
           },
           "zaxis": {
            "backgroundcolor": "#E5ECF6",
            "gridcolor": "white",
            "gridwidth": 2,
            "linecolor": "white",
            "showbackground": true,
            "ticks": "",
            "zerolinecolor": "white"
           }
          },
          "shapedefaults": {
           "line": {
            "color": "#2a3f5f"
           }
          },
          "ternary": {
           "aaxis": {
            "gridcolor": "white",
            "linecolor": "white",
            "ticks": ""
           },
           "baxis": {
            "gridcolor": "white",
            "linecolor": "white",
            "ticks": ""
           },
           "bgcolor": "#E5ECF6",
           "caxis": {
            "gridcolor": "white",
            "linecolor": "white",
            "ticks": ""
           }
          },
          "title": {
           "x": 0.05
          },
          "xaxis": {
           "automargin": true,
           "gridcolor": "white",
           "linecolor": "white",
           "ticks": "",
           "title": {
            "standoff": 15
           },
           "zerolinecolor": "white",
           "zerolinewidth": 2
          },
          "yaxis": {
           "automargin": true,
           "gridcolor": "white",
           "linecolor": "white",
           "ticks": "",
           "title": {
            "standoff": 15
           },
           "zerolinecolor": "white",
           "zerolinewidth": 2
          }
         }
        },
        "title": {
         "text": "Validation and Submission Scores"
        },
        "width": 750,
        "xaxis": {
         "ticklen": 10,
         "zeroline": false
        },
        "yaxis": {
         "side": "left",
         "ticklen": 10,
         "title": {
          "text": "Accuracy"
         }
        }
       }
      },
      "text/html": [
       "<div>                            <div id=\"44921fd2-aa23-4433-8dea-756eaafe51ab\" class=\"plotly-graph-div\" style=\"height:500px; width:750px;\"></div>            <script type=\"text/javascript\">                require([\"plotly\"], function(Plotly) {                    window.PLOTLYENV=window.PLOTLYENV || {};                                    if (document.getElementById(\"44921fd2-aa23-4433-8dea-756eaafe51ab\")) {                    Plotly.newPlot(                        \"44921fd2-aa23-4433-8dea-756eaafe51ab\",                        [{\"name\":\"Validation\",\"text\":[\"MLP\",\"Keras\",\"TFQ\",\"Qiskit\"],\"x\":[\"MLP\",\"Keras\",\"TFQ\",\"Qiskit\"],\"y\":[92.97950957339603,67.58481860160828,48.841115832328796,34.54122340425532],\"type\":\"scatter\"}],                        {\"autosize\":false,\"height\":500,\"legend\":{\"orientation\":\"v\",\"x\":1.05,\"y\":1.0},\"template\":{\"data\":{\"barpolar\":[{\"marker\":{\"line\":{\"color\":\"#E5ECF6\",\"width\":0.5},\"pattern\":{\"fillmode\":\"overlay\",\"size\":10,\"solidity\":0.2}},\"type\":\"barpolar\"}],\"bar\":[{\"error_x\":{\"color\":\"#2a3f5f\"},\"error_y\":{\"color\":\"#2a3f5f\"},\"marker\":{\"line\":{\"color\":\"#E5ECF6\",\"width\":0.5},\"pattern\":{\"fillmode\":\"overlay\",\"size\":10,\"solidity\":0.2}},\"type\":\"bar\"}],\"carpet\":[{\"aaxis\":{\"endlinecolor\":\"#2a3f5f\",\"gridcolor\":\"white\",\"linecolor\":\"white\",\"minorgridcolor\":\"white\",\"startlinecolor\":\"#2a3f5f\"},\"baxis\":{\"endlinecolor\":\"#2a3f5f\",\"gridcolor\":\"white\",\"linecolor\":\"white\",\"minorgridcolor\":\"white\",\"startlinecolor\":\"#2a3f5f\"},\"type\":\"carpet\"}],\"choropleth\":[{\"colorbar\":{\"outlinewidth\":0,\"ticks\":\"\"},\"type\":\"choropleth\"}],\"contourcarpet\":[{\"colorbar\":{\"outlinewidth\":0,\"ticks\":\"\"},\"type\":\"contourcarpet\"}],\"contour\":[{\"colorbar\":{\"outlinewidth\":0,\"ticks\":\"\"},\"colorscale\":[[0.0,\"#0d0887\"],[0.1111111111111111,\"#46039f\"],[0.2222222222222222,\"#7201a8\"],[0.3333333333333333,\"#9c179e\"],[0.4444444444444444,\"#bd3786\"],[0.5555555555555556,\"#d8576b\"],[0.6666666666666666,\"#ed7953\"],[0.7777777777777778,\"#fb9f3a\"],[0.8888888888888888,\"#fdca26\"],[1.0,\"#f0f921\"]],\"type\":\"contour\"}],\"heatmapgl\":[{\"colorbar\":{\"outlinewidth\":0,\"ticks\":\"\"},\"colorscale\":[[0.0,\"#0d0887\"],[0.1111111111111111,\"#46039f\"],[0.2222222222222222,\"#7201a8\"],[0.3333333333333333,\"#9c179e\"],[0.4444444444444444,\"#bd3786\"],[0.5555555555555556,\"#d8576b\"],[0.6666666666666666,\"#ed7953\"],[0.7777777777777778,\"#fb9f3a\"],[0.8888888888888888,\"#fdca26\"],[1.0,\"#f0f921\"]],\"type\":\"heatmapgl\"}],\"heatmap\":[{\"colorbar\":{\"outlinewidth\":0,\"ticks\":\"\"},\"colorscale\":[[0.0,\"#0d0887\"],[0.1111111111111111,\"#46039f\"],[0.2222222222222222,\"#7201a8\"],[0.3333333333333333,\"#9c179e\"],[0.4444444444444444,\"#bd3786\"],[0.5555555555555556,\"#d8576b\"],[0.6666666666666666,\"#ed7953\"],[0.7777777777777778,\"#fb9f3a\"],[0.8888888888888888,\"#fdca26\"],[1.0,\"#f0f921\"]],\"type\":\"heatmap\"}],\"histogram2dcontour\":[{\"colorbar\":{\"outlinewidth\":0,\"ticks\":\"\"},\"colorscale\":[[0.0,\"#0d0887\"],[0.1111111111111111,\"#46039f\"],[0.2222222222222222,\"#7201a8\"],[0.3333333333333333,\"#9c179e\"],[0.4444444444444444,\"#bd3786\"],[0.5555555555555556,\"#d8576b\"],[0.6666666666666666,\"#ed7953\"],[0.7777777777777778,\"#fb9f3a\"],[0.8888888888888888,\"#fdca26\"],[1.0,\"#f0f921\"]],\"type\":\"histogram2dcontour\"}],\"histogram2d\":[{\"colorbar\":{\"outlinewidth\":0,\"ticks\":\"\"},\"colorscale\":[[0.0,\"#0d0887\"],[0.1111111111111111,\"#46039f\"],[0.2222222222222222,\"#7201a8\"],[0.3333333333333333,\"#9c179e\"],[0.4444444444444444,\"#bd3786\"],[0.5555555555555556,\"#d8576b\"],[0.6666666666666666,\"#ed7953\"],[0.7777777777777778,\"#fb9f3a\"],[0.8888888888888888,\"#fdca26\"],[1.0,\"#f0f921\"]],\"type\":\"histogram2d\"}],\"histogram\":[{\"marker\":{\"pattern\":{\"fillmode\":\"overlay\",\"size\":10,\"solidity\":0.2}},\"type\":\"histogram\"}],\"mesh3d\":[{\"colorbar\":{\"outlinewidth\":0,\"ticks\":\"\"},\"type\":\"mesh3d\"}],\"parcoords\":[{\"line\":{\"colorbar\":{\"outlinewidth\":0,\"ticks\":\"\"}},\"type\":\"parcoords\"}],\"pie\":[{\"automargin\":true,\"type\":\"pie\"}],\"scatter3d\":[{\"line\":{\"colorbar\":{\"outlinewidth\":0,\"ticks\":\"\"}},\"marker\":{\"colorbar\":{\"outlinewidth\":0,\"ticks\":\"\"}},\"type\":\"scatter3d\"}],\"scattercarpet\":[{\"marker\":{\"colorbar\":{\"outlinewidth\":0,\"ticks\":\"\"}},\"type\":\"scattercarpet\"}],\"scattergeo\":[{\"marker\":{\"colorbar\":{\"outlinewidth\":0,\"ticks\":\"\"}},\"type\":\"scattergeo\"}],\"scattergl\":[{\"marker\":{\"colorbar\":{\"outlinewidth\":0,\"ticks\":\"\"}},\"type\":\"scattergl\"}],\"scattermapbox\":[{\"marker\":{\"colorbar\":{\"outlinewidth\":0,\"ticks\":\"\"}},\"type\":\"scattermapbox\"}],\"scatterpolargl\":[{\"marker\":{\"colorbar\":{\"outlinewidth\":0,\"ticks\":\"\"}},\"type\":\"scatterpolargl\"}],\"scatterpolar\":[{\"marker\":{\"colorbar\":{\"outlinewidth\":0,\"ticks\":\"\"}},\"type\":\"scatterpolar\"}],\"scatter\":[{\"fillpattern\":{\"fillmode\":\"overlay\",\"size\":10,\"solidity\":0.2},\"type\":\"scatter\"}],\"scatterternary\":[{\"marker\":{\"colorbar\":{\"outlinewidth\":0,\"ticks\":\"\"}},\"type\":\"scatterternary\"}],\"surface\":[{\"colorbar\":{\"outlinewidth\":0,\"ticks\":\"\"},\"colorscale\":[[0.0,\"#0d0887\"],[0.1111111111111111,\"#46039f\"],[0.2222222222222222,\"#7201a8\"],[0.3333333333333333,\"#9c179e\"],[0.4444444444444444,\"#bd3786\"],[0.5555555555555556,\"#d8576b\"],[0.6666666666666666,\"#ed7953\"],[0.7777777777777778,\"#fb9f3a\"],[0.8888888888888888,\"#fdca26\"],[1.0,\"#f0f921\"]],\"type\":\"surface\"}],\"table\":[{\"cells\":{\"fill\":{\"color\":\"#EBF0F8\"},\"line\":{\"color\":\"white\"}},\"header\":{\"fill\":{\"color\":\"#C8D4E3\"},\"line\":{\"color\":\"white\"}},\"type\":\"table\"}]},\"layout\":{\"annotationdefaults\":{\"arrowcolor\":\"#2a3f5f\",\"arrowhead\":0,\"arrowwidth\":1},\"autotypenumbers\":\"strict\",\"coloraxis\":{\"colorbar\":{\"outlinewidth\":0,\"ticks\":\"\"}},\"colorscale\":{\"diverging\":[[0,\"#8e0152\"],[0.1,\"#c51b7d\"],[0.2,\"#de77ae\"],[0.3,\"#f1b6da\"],[0.4,\"#fde0ef\"],[0.5,\"#f7f7f7\"],[0.6,\"#e6f5d0\"],[0.7,\"#b8e186\"],[0.8,\"#7fbc41\"],[0.9,\"#4d9221\"],[1,\"#276419\"]],\"sequential\":[[0.0,\"#0d0887\"],[0.1111111111111111,\"#46039f\"],[0.2222222222222222,\"#7201a8\"],[0.3333333333333333,\"#9c179e\"],[0.4444444444444444,\"#bd3786\"],[0.5555555555555556,\"#d8576b\"],[0.6666666666666666,\"#ed7953\"],[0.7777777777777778,\"#fb9f3a\"],[0.8888888888888888,\"#fdca26\"],[1.0,\"#f0f921\"]],\"sequentialminus\":[[0.0,\"#0d0887\"],[0.1111111111111111,\"#46039f\"],[0.2222222222222222,\"#7201a8\"],[0.3333333333333333,\"#9c179e\"],[0.4444444444444444,\"#bd3786\"],[0.5555555555555556,\"#d8576b\"],[0.6666666666666666,\"#ed7953\"],[0.7777777777777778,\"#fb9f3a\"],[0.8888888888888888,\"#fdca26\"],[1.0,\"#f0f921\"]]},\"colorway\":[\"#636efa\",\"#EF553B\",\"#00cc96\",\"#ab63fa\",\"#FFA15A\",\"#19d3f3\",\"#FF6692\",\"#B6E880\",\"#FF97FF\",\"#FECB52\"],\"font\":{\"color\":\"#2a3f5f\"},\"geo\":{\"bgcolor\":\"white\",\"lakecolor\":\"white\",\"landcolor\":\"#E5ECF6\",\"showlakes\":true,\"showland\":true,\"subunitcolor\":\"white\"},\"hoverlabel\":{\"align\":\"left\"},\"hovermode\":\"closest\",\"mapbox\":{\"style\":\"light\"},\"paper_bgcolor\":\"white\",\"plot_bgcolor\":\"#E5ECF6\",\"polar\":{\"angularaxis\":{\"gridcolor\":\"white\",\"linecolor\":\"white\",\"ticks\":\"\"},\"bgcolor\":\"#E5ECF6\",\"radialaxis\":{\"gridcolor\":\"white\",\"linecolor\":\"white\",\"ticks\":\"\"}},\"scene\":{\"xaxis\":{\"backgroundcolor\":\"#E5ECF6\",\"gridcolor\":\"white\",\"gridwidth\":2,\"linecolor\":\"white\",\"showbackground\":true,\"ticks\":\"\",\"zerolinecolor\":\"white\"},\"yaxis\":{\"backgroundcolor\":\"#E5ECF6\",\"gridcolor\":\"white\",\"gridwidth\":2,\"linecolor\":\"white\",\"showbackground\":true,\"ticks\":\"\",\"zerolinecolor\":\"white\"},\"zaxis\":{\"backgroundcolor\":\"#E5ECF6\",\"gridcolor\":\"white\",\"gridwidth\":2,\"linecolor\":\"white\",\"showbackground\":true,\"ticks\":\"\",\"zerolinecolor\":\"white\"}},\"shapedefaults\":{\"line\":{\"color\":\"#2a3f5f\"}},\"ternary\":{\"aaxis\":{\"gridcolor\":\"white\",\"linecolor\":\"white\",\"ticks\":\"\"},\"baxis\":{\"gridcolor\":\"white\",\"linecolor\":\"white\",\"ticks\":\"\"},\"bgcolor\":\"#E5ECF6\",\"caxis\":{\"gridcolor\":\"white\",\"linecolor\":\"white\",\"ticks\":\"\"}},\"title\":{\"x\":0.05},\"xaxis\":{\"automargin\":true,\"gridcolor\":\"white\",\"linecolor\":\"white\",\"ticks\":\"\",\"title\":{\"standoff\":15},\"zerolinecolor\":\"white\",\"zerolinewidth\":2},\"yaxis\":{\"automargin\":true,\"gridcolor\":\"white\",\"linecolor\":\"white\",\"ticks\":\"\",\"title\":{\"standoff\":15},\"zerolinecolor\":\"white\",\"zerolinewidth\":2}}},\"title\":{\"text\":\"Validation and Submission Scores\"},\"width\":750,\"xaxis\":{\"ticklen\":10,\"zeroline\":false},\"yaxis\":{\"side\":\"left\",\"ticklen\":10,\"title\":{\"text\":\"Accuracy\"}}},                        {\"responsive\": true}                    ).then(function(){\n",
       "                            \n",
       "var gd = document.getElementById('44921fd2-aa23-4433-8dea-756eaafe51ab');\n",
       "var x = new MutationObserver(function (mutations, observer) {{\n",
       "        var display = window.getComputedStyle(gd).display;\n",
       "        if (!display || display === 'none') {{\n",
       "            console.log([gd, 'removed!']);\n",
       "            Plotly.purge(gd);\n",
       "            observer.disconnect();\n",
       "        }}\n",
       "}});\n",
       "\n",
       "// Listen for the removal of the full notebook cells\n",
       "var notebookContainer = gd.closest('#notebook-container');\n",
       "if (notebookContainer) {{\n",
       "    x.observe(notebookContainer, {childList: true});\n",
       "}}\n",
       "\n",
       "// Listen for the clearing of the current output cell\n",
       "var outputEl = gd.closest('.output');\n",
       "if (outputEl) {{\n",
       "    x.observe(outputEl, {childList: true});\n",
       "}}\n",
       "\n",
       "                        })                };                });            </script>        </div>"
      ]
     },
     "metadata": {},
     "output_type": "display_data"
    }
   ],
   "source": [
    "trace1 = go.Scatter(x = list_classifiers, y = val_scores,\n",
    "                   name=\"Validation\", text = list_classifiers)\n",
    "\n",
    "data = [trace1]\n",
    "\n",
    "layout = dict(title = \"Validation and Submission Scores\", \n",
    "              xaxis=dict(ticklen=10, zeroline= False),\n",
    "              yaxis=dict(title = \"Accuracy\", side='left', ticklen=10,),                                  \n",
    "              legend=dict(orientation=\"v\", x=1.05, y=1.0),\n",
    "              autosize=False, width=750, height=500,\n",
    "              )\n",
    "\n",
    "fig = dict(data = data, layout = layout)\n",
    "iplot(fig)"
   ]
  },
  {
   "cell_type": "code",
   "execution_count": 76,
   "id": "1265f38b",
   "metadata": {},
   "outputs": [
    {
     "data": {
      "text/plain": [
       "<AxesSubplot: >"
      ]
     },
     "execution_count": 76,
     "metadata": {},
     "output_type": "execute_result"
    },
    {
     "data": {
      "image/png": "[encoded data removed]",
      "text/plain": [
       "<Figure size 640x480 with 1 Axes>"
      ]
     },
     "metadata": {},
     "output_type": "display_data"
    }
   ],
   "source": [
    "#seaborn.barplot(x=[\"SVC\", \"MPL\",\"TFQ\"],\n",
    "            #y=[resultados_svc[0], resultados_mlp[0],qnn_accuracy])\n",
    "    \n",
    "seaborn.barplot(x=[\"MPL\",\"Keras\",\"TFQ\",\"Qiskit\"],y=[resultados_mlp[0], score[1]*100,test_acc*100,accuracy])"
   ]
  },
  {
   "cell_type": "code",
   "execution_count": 77,
   "id": "8a43189e",
   "metadata": {},
   "outputs": [
    {
     "name": "stderr",
     "output_type": "stream",
     "text": [
      "/home/tomas/Escritorio/TFG/quantum_env/lib/python3.8/site-packages/numpy/core/fromnumeric.py:3464: RuntimeWarning:\n",
      "\n",
      "Mean of empty slice.\n",
      "\n",
      "/home/tomas/Escritorio/TFG/quantum_env/lib/python3.8/site-packages/numpy/core/_methods.py:192: RuntimeWarning:\n",
      "\n",
      "invalid value encountered in scalar divide\n",
      "\n"
     ]
    },
    {
     "ename": "ValueError",
     "evalue": "cannot convert float NaN to integer",
     "output_type": "error",
     "traceback": [
      "\u001b[0;31m---------------------------------------------------------------------------\u001b[0m",
      "\u001b[0;31mValueError\u001b[0m                                Traceback (most recent call last)",
      "Cell \u001b[0;32mIn[77], line 36\u001b[0m\n\u001b[1;32m     34\u001b[0m restante \u001b[38;5;241m=\u001b[39m \u001b[38;5;241m100\u001b[39m \u001b[38;5;241m-\u001b[39m porcentaje\n\u001b[1;32m     35\u001b[0m datos \u001b[38;5;241m=\u001b[39m [porcentaje, restante]\n\u001b[0;32m---> 36\u001b[0m \u001b[43maxs\u001b[49m\u001b[43m[\u001b[49m\u001b[43mrow\u001b[49m\u001b[43m,\u001b[49m\u001b[43m \u001b[49m\u001b[43mcol\u001b[49m\u001b[43m]\u001b[49m\u001b[38;5;241;43m.\u001b[39;49m\u001b[43mpie\u001b[49m\u001b[43m(\u001b[49m\u001b[43mdatos\u001b[49m\u001b[43m,\u001b[49m\u001b[43m \u001b[49m\u001b[43mcolors\u001b[49m\u001b[38;5;241;43m=\u001b[39;49m\u001b[43m[\u001b[49m\u001b[38;5;124;43m'\u001b[39;49m\u001b[38;5;124;43mblue\u001b[39;49m\u001b[38;5;124;43m'\u001b[39;49m\u001b[43m,\u001b[49m\u001b[43m \u001b[49m\u001b[38;5;124;43m'\u001b[39;49m\u001b[38;5;124;43mwhite\u001b[39;49m\u001b[38;5;124;43m'\u001b[39;49m\u001b[43m]\u001b[49m\u001b[43m,\u001b[49m\u001b[43m \u001b[49m\u001b[43mstartangle\u001b[49m\u001b[38;5;241;43m=\u001b[39;49m\u001b[38;5;241;43m90\u001b[39;49m\u001b[43m,\u001b[49m\u001b[43m \u001b[49m\u001b[43mcounterclock\u001b[49m\u001b[38;5;241;43m=\u001b[39;49m\u001b[38;5;28;43;01mFalse\u001b[39;49;00m\u001b[43m,\u001b[49m\u001b[43m \u001b[49m\u001b[43mwedgeprops\u001b[49m\u001b[38;5;241;43m=\u001b[39;49m\u001b[43m{\u001b[49m\u001b[38;5;124;43m'\u001b[39;49m\u001b[38;5;124;43mwidth\u001b[39;49m\u001b[38;5;124;43m'\u001b[39;49m\u001b[43m:\u001b[49m\u001b[43m \u001b[49m\u001b[38;5;241;43m0.5\u001b[39;49m\u001b[43m,\u001b[49m\u001b[43m \u001b[49m\u001b[38;5;124;43m'\u001b[39;49m\u001b[38;5;124;43medgecolor\u001b[39;49m\u001b[38;5;124;43m'\u001b[39;49m\u001b[43m:\u001b[49m\u001b[43m \u001b[49m\u001b[38;5;124;43m'\u001b[39;49m\u001b[38;5;124;43mwhite\u001b[39;49m\u001b[38;5;124;43m'\u001b[39;49m\u001b[43m}\u001b[49m\u001b[43m)\u001b[49m\n\u001b[1;32m     38\u001b[0m \u001b[38;5;66;03m# Add percentage as text in center of pie chart\u001b[39;00m\n\u001b[1;32m     39\u001b[0m axs[row, col]\u001b[38;5;241m.\u001b[39mtext(\u001b[38;5;241m0\u001b[39m, \u001b[38;5;241m0\u001b[39m, \u001b[38;5;124mf\u001b[39m\u001b[38;5;124m'\u001b[39m\u001b[38;5;132;01m{\u001b[39;00mnp\u001b[38;5;241m.\u001b[39maround(porcentaje,\u001b[38;5;250m \u001b[39m\u001b[38;5;241m1\u001b[39m)\u001b[38;5;132;01m}\u001b[39;00m\u001b[38;5;124m%\u001b[39m\u001b[38;5;124m'\u001b[39m, ha\u001b[38;5;241m=\u001b[39m\u001b[38;5;124m'\u001b[39m\u001b[38;5;124mcenter\u001b[39m\u001b[38;5;124m'\u001b[39m, va\u001b[38;5;241m=\u001b[39m\u001b[38;5;124m'\u001b[39m\u001b[38;5;124mcenter\u001b[39m\u001b[38;5;124m'\u001b[39m, fontsize\u001b[38;5;241m=\u001b[39m\u001b[38;5;241m20\u001b[39m)\n",
      "File \u001b[0;32m~/Escritorio/TFG/quantum_env/lib/python3.8/site-packages/matplotlib/__init__.py:1433\u001b[0m, in \u001b[0;36m_preprocess_data.<locals>.inner\u001b[0;34m(ax, data, *args, **kwargs)\u001b[0m\n\u001b[1;32m   1430\u001b[0m \u001b[38;5;129m@functools\u001b[39m\u001b[38;5;241m.\u001b[39mwraps(func)\n\u001b[1;32m   1431\u001b[0m \u001b[38;5;28;01mdef\u001b[39;00m \u001b[38;5;21minner\u001b[39m(ax, \u001b[38;5;241m*\u001b[39margs, data\u001b[38;5;241m=\u001b[39m\u001b[38;5;28;01mNone\u001b[39;00m, \u001b[38;5;241m*\u001b[39m\u001b[38;5;241m*\u001b[39mkwargs):\n\u001b[1;32m   1432\u001b[0m     \u001b[38;5;28;01mif\u001b[39;00m data \u001b[38;5;129;01mis\u001b[39;00m \u001b[38;5;28;01mNone\u001b[39;00m:\n\u001b[0;32m-> 1433\u001b[0m         \u001b[38;5;28;01mreturn\u001b[39;00m \u001b[43mfunc\u001b[49m\u001b[43m(\u001b[49m\u001b[43max\u001b[49m\u001b[43m,\u001b[49m\u001b[43m \u001b[49m\u001b[38;5;241;43m*\u001b[39;49m\u001b[38;5;28;43mmap\u001b[39;49m\u001b[43m(\u001b[49m\u001b[43msanitize_sequence\u001b[49m\u001b[43m,\u001b[49m\u001b[43m \u001b[49m\u001b[43margs\u001b[49m\u001b[43m)\u001b[49m\u001b[43m,\u001b[49m\u001b[43m \u001b[49m\u001b[38;5;241;43m*\u001b[39;49m\u001b[38;5;241;43m*\u001b[39;49m\u001b[43mkwargs\u001b[49m\u001b[43m)\u001b[49m\n\u001b[1;32m   1435\u001b[0m     bound \u001b[38;5;241m=\u001b[39m new_sig\u001b[38;5;241m.\u001b[39mbind(ax, \u001b[38;5;241m*\u001b[39margs, \u001b[38;5;241m*\u001b[39m\u001b[38;5;241m*\u001b[39mkwargs)\n\u001b[1;32m   1436\u001b[0m     auto_label \u001b[38;5;241m=\u001b[39m (bound\u001b[38;5;241m.\u001b[39marguments\u001b[38;5;241m.\u001b[39mget(label_namer)\n\u001b[1;32m   1437\u001b[0m                   \u001b[38;5;129;01mor\u001b[39;00m bound\u001b[38;5;241m.\u001b[39mkwargs\u001b[38;5;241m.\u001b[39mget(label_namer))\n",
      "File \u001b[0;32m~/Escritorio/TFG/quantum_env/lib/python3.8/site-packages/matplotlib/axes/_axes.py:3210\u001b[0m, in \u001b[0;36mAxes.pie\u001b[0;34m(self, x, explode, labels, colors, autopct, pctdistance, shadow, labeldistance, startangle, radius, counterclock, wedgeprops, textprops, center, frame, rotatelabels, normalize)\u001b[0m\n\u001b[1;32m   3207\u001b[0m x \u001b[38;5;241m+\u001b[39m\u001b[38;5;241m=\u001b[39m expl \u001b[38;5;241m*\u001b[39m math\u001b[38;5;241m.\u001b[39mcos(thetam)\n\u001b[1;32m   3208\u001b[0m y \u001b[38;5;241m+\u001b[39m\u001b[38;5;241m=\u001b[39m expl \u001b[38;5;241m*\u001b[39m math\u001b[38;5;241m.\u001b[39msin(thetam)\n\u001b[0;32m-> 3210\u001b[0m w \u001b[38;5;241m=\u001b[39m \u001b[43mmpatches\u001b[49m\u001b[38;5;241;43m.\u001b[39;49m\u001b[43mWedge\u001b[49m\u001b[43m(\u001b[49m\u001b[43m(\u001b[49m\u001b[43mx\u001b[49m\u001b[43m,\u001b[49m\u001b[43m \u001b[49m\u001b[43my\u001b[49m\u001b[43m)\u001b[49m\u001b[43m,\u001b[49m\u001b[43m \u001b[49m\u001b[43mradius\u001b[49m\u001b[43m,\u001b[49m\u001b[43m \u001b[49m\u001b[38;5;241;43m360.\u001b[39;49m\u001b[43m \u001b[49m\u001b[38;5;241;43m*\u001b[39;49m\u001b[43m \u001b[49m\u001b[38;5;28;43mmin\u001b[39;49m\u001b[43m(\u001b[49m\u001b[43mtheta1\u001b[49m\u001b[43m,\u001b[49m\u001b[43m \u001b[49m\u001b[43mtheta2\u001b[49m\u001b[43m)\u001b[49m\u001b[43m,\u001b[49m\n\u001b[1;32m   3211\u001b[0m \u001b[43m                   \u001b[49m\u001b[38;5;241;43m360.\u001b[39;49m\u001b[43m \u001b[49m\u001b[38;5;241;43m*\u001b[39;49m\u001b[43m \u001b[49m\u001b[38;5;28;43mmax\u001b[39;49m\u001b[43m(\u001b[49m\u001b[43mtheta1\u001b[49m\u001b[43m,\u001b[49m\u001b[43m \u001b[49m\u001b[43mtheta2\u001b[49m\u001b[43m)\u001b[49m\u001b[43m,\u001b[49m\n\u001b[1;32m   3212\u001b[0m \u001b[43m                   \u001b[49m\u001b[43mfacecolor\u001b[49m\u001b[38;5;241;43m=\u001b[39;49m\u001b[43mget_next_color\u001b[49m\u001b[43m(\u001b[49m\u001b[43m)\u001b[49m\u001b[43m,\u001b[49m\n\u001b[1;32m   3213\u001b[0m \u001b[43m                   \u001b[49m\u001b[43mclip_on\u001b[49m\u001b[38;5;241;43m=\u001b[39;49m\u001b[38;5;28;43;01mFalse\u001b[39;49;00m\u001b[43m,\u001b[49m\n\u001b[1;32m   3214\u001b[0m \u001b[43m                   \u001b[49m\u001b[43mlabel\u001b[49m\u001b[38;5;241;43m=\u001b[39;49m\u001b[43mlabel\u001b[49m\u001b[43m)\u001b[49m\n\u001b[1;32m   3215\u001b[0m w\u001b[38;5;241m.\u001b[39mset(\u001b[38;5;241m*\u001b[39m\u001b[38;5;241m*\u001b[39mwedgeprops)\n\u001b[1;32m   3216\u001b[0m slices\u001b[38;5;241m.\u001b[39mappend(w)\n",
      "File \u001b[0;32m~/Escritorio/TFG/quantum_env/lib/python3.8/site-packages/matplotlib/_api/deprecation.py:454\u001b[0m, in \u001b[0;36mmake_keyword_only.<locals>.wrapper\u001b[0;34m(*args, **kwargs)\u001b[0m\n\u001b[1;32m    448\u001b[0m \u001b[38;5;28;01mif\u001b[39;00m \u001b[38;5;28mlen\u001b[39m(args) \u001b[38;5;241m>\u001b[39m name_idx:\n\u001b[1;32m    449\u001b[0m     warn_deprecated(\n\u001b[1;32m    450\u001b[0m         since, message\u001b[38;5;241m=\u001b[39m\u001b[38;5;124m\"\u001b[39m\u001b[38;5;124mPassing the \u001b[39m\u001b[38;5;132;01m%(name)s\u001b[39;00m\u001b[38;5;124m \u001b[39m\u001b[38;5;132;01m%(obj_type)s\u001b[39;00m\u001b[38;5;124m \u001b[39m\u001b[38;5;124m\"\u001b[39m\n\u001b[1;32m    451\u001b[0m         \u001b[38;5;124m\"\u001b[39m\u001b[38;5;124mpositionally is deprecated since Matplotlib \u001b[39m\u001b[38;5;132;01m%(since)s\u001b[39;00m\u001b[38;5;124m; the \u001b[39m\u001b[38;5;124m\"\u001b[39m\n\u001b[1;32m    452\u001b[0m         \u001b[38;5;124m\"\u001b[39m\u001b[38;5;124mparameter will become keyword-only \u001b[39m\u001b[38;5;132;01m%(removal)s\u001b[39;00m\u001b[38;5;124m.\u001b[39m\u001b[38;5;124m\"\u001b[39m,\n\u001b[1;32m    453\u001b[0m         name\u001b[38;5;241m=\u001b[39mname, obj_type\u001b[38;5;241m=\u001b[39m\u001b[38;5;124mf\u001b[39m\u001b[38;5;124m\"\u001b[39m\u001b[38;5;124mparameter of \u001b[39m\u001b[38;5;132;01m{\u001b[39;00mfunc\u001b[38;5;241m.\u001b[39m\u001b[38;5;18m__name__\u001b[39m\u001b[38;5;132;01m}\u001b[39;00m\u001b[38;5;124m()\u001b[39m\u001b[38;5;124m\"\u001b[39m)\n\u001b[0;32m--> 454\u001b[0m \u001b[38;5;28;01mreturn\u001b[39;00m \u001b[43mfunc\u001b[49m\u001b[43m(\u001b[49m\u001b[38;5;241;43m*\u001b[39;49m\u001b[43margs\u001b[49m\u001b[43m,\u001b[49m\u001b[43m \u001b[49m\u001b[38;5;241;43m*\u001b[39;49m\u001b[38;5;241;43m*\u001b[39;49m\u001b[43mkwargs\u001b[49m\u001b[43m)\u001b[49m\n",
      "File \u001b[0;32m~/Escritorio/TFG/quantum_env/lib/python3.8/site-packages/matplotlib/patches.py:1193\u001b[0m, in \u001b[0;36mWedge.__init__\u001b[0;34m(self, center, r, theta1, theta2, width, **kwargs)\u001b[0m\n\u001b[1;32m   1191\u001b[0m \u001b[38;5;28mself\u001b[39m\u001b[38;5;241m.\u001b[39mtheta1, \u001b[38;5;28mself\u001b[39m\u001b[38;5;241m.\u001b[39mtheta2 \u001b[38;5;241m=\u001b[39m theta1, theta2\n\u001b[1;32m   1192\u001b[0m \u001b[38;5;28mself\u001b[39m\u001b[38;5;241m.\u001b[39m_patch_transform \u001b[38;5;241m=\u001b[39m transforms\u001b[38;5;241m.\u001b[39mIdentityTransform()\n\u001b[0;32m-> 1193\u001b[0m \u001b[38;5;28;43mself\u001b[39;49m\u001b[38;5;241;43m.\u001b[39;49m\u001b[43m_recompute_path\u001b[49m\u001b[43m(\u001b[49m\u001b[43m)\u001b[49m\n",
      "File \u001b[0;32m~/Escritorio/TFG/quantum_env/lib/python3.8/site-packages/matplotlib/patches.py:1205\u001b[0m, in \u001b[0;36mWedge._recompute_path\u001b[0;34m(self)\u001b[0m\n\u001b[1;32m   1202\u001b[0m     connector \u001b[38;5;241m=\u001b[39m Path\u001b[38;5;241m.\u001b[39mLINETO\n\u001b[1;32m   1204\u001b[0m \u001b[38;5;66;03m# Form the outer ring\u001b[39;00m\n\u001b[0;32m-> 1205\u001b[0m arc \u001b[38;5;241m=\u001b[39m \u001b[43mPath\u001b[49m\u001b[38;5;241;43m.\u001b[39;49m\u001b[43marc\u001b[49m\u001b[43m(\u001b[49m\u001b[43mtheta1\u001b[49m\u001b[43m,\u001b[49m\u001b[43m \u001b[49m\u001b[43mtheta2\u001b[49m\u001b[43m)\u001b[49m\n\u001b[1;32m   1207\u001b[0m \u001b[38;5;28;01mif\u001b[39;00m \u001b[38;5;28mself\u001b[39m\u001b[38;5;241m.\u001b[39mwidth \u001b[38;5;129;01mis\u001b[39;00m \u001b[38;5;129;01mnot\u001b[39;00m \u001b[38;5;28;01mNone\u001b[39;00m:\n\u001b[1;32m   1208\u001b[0m     \u001b[38;5;66;03m# Partial annulus needs to draw the outer ring\u001b[39;00m\n\u001b[1;32m   1209\u001b[0m     \u001b[38;5;66;03m# followed by a reversed and scaled inner ring\u001b[39;00m\n\u001b[1;32m   1210\u001b[0m     v1 \u001b[38;5;241m=\u001b[39m arc\u001b[38;5;241m.\u001b[39mvertices\n",
      "File \u001b[0;32m~/Escritorio/TFG/quantum_env/lib/python3.8/site-packages/matplotlib/path.py:955\u001b[0m, in \u001b[0;36mPath.arc\u001b[0;34m(cls, theta1, theta2, n, is_wedge)\u001b[0m\n\u001b[1;32m    953\u001b[0m \u001b[38;5;66;03m# number of curve segments to make\u001b[39;00m\n\u001b[1;32m    954\u001b[0m \u001b[38;5;28;01mif\u001b[39;00m n \u001b[38;5;129;01mis\u001b[39;00m \u001b[38;5;28;01mNone\u001b[39;00m:\n\u001b[0;32m--> 955\u001b[0m     n \u001b[38;5;241m=\u001b[39m \u001b[38;5;28;43mint\u001b[39;49m\u001b[43m(\u001b[49m\u001b[38;5;241;43m2\u001b[39;49m\u001b[43m \u001b[49m\u001b[38;5;241;43m*\u001b[39;49m\u001b[38;5;241;43m*\u001b[39;49m\u001b[43m \u001b[49m\u001b[43mnp\u001b[49m\u001b[38;5;241;43m.\u001b[39;49m\u001b[43mceil\u001b[49m\u001b[43m(\u001b[49m\u001b[43m(\u001b[49m\u001b[43meta2\u001b[49m\u001b[43m \u001b[49m\u001b[38;5;241;43m-\u001b[39;49m\u001b[43m \u001b[49m\u001b[43meta1\u001b[49m\u001b[43m)\u001b[49m\u001b[43m \u001b[49m\u001b[38;5;241;43m/\u001b[39;49m\u001b[43m \u001b[49m\u001b[43mhalfpi\u001b[49m\u001b[43m)\u001b[49m\u001b[43m)\u001b[49m\n\u001b[1;32m    956\u001b[0m \u001b[38;5;28;01mif\u001b[39;00m n \u001b[38;5;241m<\u001b[39m \u001b[38;5;241m1\u001b[39m:\n\u001b[1;32m    957\u001b[0m     \u001b[38;5;28;01mraise\u001b[39;00m \u001b[38;5;167;01mValueError\u001b[39;00m(\u001b[38;5;124m\"\u001b[39m\u001b[38;5;124mn must be >= 1 or None\u001b[39m\u001b[38;5;124m\"\u001b[39m)\n",
      "\u001b[0;31mValueError\u001b[0m: cannot convert float NaN to integer"
     ]
    },
    {
     "ename": "ValueError",
     "evalue": "need at least one array to concatenate",
     "output_type": "error",
     "traceback": [
      "\u001b[0;31m---------------------------------------------------------------------------\u001b[0m",
      "\u001b[0;31mValueError\u001b[0m                                Traceback (most recent call last)",
      "File \u001b[0;32m~/Escritorio/TFG/quantum_env/lib/python3.8/site-packages/IPython/core/formatters.py:338\u001b[0m, in \u001b[0;36mBaseFormatter.__call__\u001b[0;34m(self, obj)\u001b[0m\n\u001b[1;32m    336\u001b[0m     \u001b[38;5;28;01mpass\u001b[39;00m\n\u001b[1;32m    337\u001b[0m \u001b[38;5;28;01melse\u001b[39;00m:\n\u001b[0;32m--> 338\u001b[0m     \u001b[38;5;28;01mreturn\u001b[39;00m \u001b[43mprinter\u001b[49m\u001b[43m(\u001b[49m\u001b[43mobj\u001b[49m\u001b[43m)\u001b[49m\n\u001b[1;32m    339\u001b[0m \u001b[38;5;66;03m# Finally look for special method names\u001b[39;00m\n\u001b[1;32m    340\u001b[0m method \u001b[38;5;241m=\u001b[39m get_real_method(obj, \u001b[38;5;28mself\u001b[39m\u001b[38;5;241m.\u001b[39mprint_method)\n",
      "File \u001b[0;32m~/Escritorio/TFG/quantum_env/lib/python3.8/site-packages/IPython/core/pylabtools.py:152\u001b[0m, in \u001b[0;36mprint_figure\u001b[0;34m(fig, fmt, bbox_inches, base64, **kwargs)\u001b[0m\n\u001b[1;32m    149\u001b[0m     \u001b[38;5;28;01mfrom\u001b[39;00m \u001b[38;5;21;01mmatplotlib\u001b[39;00m\u001b[38;5;21;01m.\u001b[39;00m\u001b[38;5;21;01mbackend_bases\u001b[39;00m \u001b[38;5;28;01mimport\u001b[39;00m FigureCanvasBase\n\u001b[1;32m    150\u001b[0m     FigureCanvasBase(fig)\n\u001b[0;32m--> 152\u001b[0m \u001b[43mfig\u001b[49m\u001b[38;5;241;43m.\u001b[39;49m\u001b[43mcanvas\u001b[49m\u001b[38;5;241;43m.\u001b[39;49m\u001b[43mprint_figure\u001b[49m\u001b[43m(\u001b[49m\u001b[43mbytes_io\u001b[49m\u001b[43m,\u001b[49m\u001b[43m \u001b[49m\u001b[38;5;241;43m*\u001b[39;49m\u001b[38;5;241;43m*\u001b[39;49m\u001b[43mkw\u001b[49m\u001b[43m)\u001b[49m\n\u001b[1;32m    153\u001b[0m data \u001b[38;5;241m=\u001b[39m bytes_io\u001b[38;5;241m.\u001b[39mgetvalue()\n\u001b[1;32m    154\u001b[0m \u001b[38;5;28;01mif\u001b[39;00m fmt \u001b[38;5;241m==\u001b[39m \u001b[38;5;124m'\u001b[39m\u001b[38;5;124msvg\u001b[39m\u001b[38;5;124m'\u001b[39m:\n",
      "File \u001b[0;32m~/Escritorio/TFG/quantum_env/lib/python3.8/site-packages/matplotlib/backend_bases.py:2318\u001b[0m, in \u001b[0;36mFigureCanvasBase.print_figure\u001b[0;34m(self, filename, dpi, facecolor, edgecolor, orientation, format, bbox_inches, pad_inches, bbox_extra_artists, backend, **kwargs)\u001b[0m\n\u001b[1;32m   2316\u001b[0m \u001b[38;5;28;01mif\u001b[39;00m bbox_inches:\n\u001b[1;32m   2317\u001b[0m     \u001b[38;5;28;01mif\u001b[39;00m bbox_inches \u001b[38;5;241m==\u001b[39m \u001b[38;5;124m\"\u001b[39m\u001b[38;5;124mtight\u001b[39m\u001b[38;5;124m\"\u001b[39m:\n\u001b[0;32m-> 2318\u001b[0m         bbox_inches \u001b[38;5;241m=\u001b[39m \u001b[38;5;28;43mself\u001b[39;49m\u001b[38;5;241;43m.\u001b[39;49m\u001b[43mfigure\u001b[49m\u001b[38;5;241;43m.\u001b[39;49m\u001b[43mget_tightbbox\u001b[49m\u001b[43m(\u001b[49m\n\u001b[1;32m   2319\u001b[0m \u001b[43m            \u001b[49m\u001b[43mrenderer\u001b[49m\u001b[43m,\u001b[49m\u001b[43m \u001b[49m\u001b[43mbbox_extra_artists\u001b[49m\u001b[38;5;241;43m=\u001b[39;49m\u001b[43mbbox_extra_artists\u001b[49m\u001b[43m)\u001b[49m\n\u001b[1;32m   2320\u001b[0m         \u001b[38;5;28;01mif\u001b[39;00m pad_inches \u001b[38;5;129;01mis\u001b[39;00m \u001b[38;5;28;01mNone\u001b[39;00m:\n\u001b[1;32m   2321\u001b[0m             pad_inches \u001b[38;5;241m=\u001b[39m rcParams[\u001b[38;5;124m'\u001b[39m\u001b[38;5;124msavefig.pad_inches\u001b[39m\u001b[38;5;124m'\u001b[39m]\n",
      "File \u001b[0;32m~/Escritorio/TFG/quantum_env/lib/python3.8/site-packages/matplotlib/figure.py:1738\u001b[0m, in \u001b[0;36mFigureBase.get_tightbbox\u001b[0;34m(self, renderer, bbox_extra_artists)\u001b[0m\n\u001b[1;32m   1735\u001b[0m     artists \u001b[38;5;241m=\u001b[39m bbox_extra_artists\n\u001b[1;32m   1737\u001b[0m \u001b[38;5;28;01mfor\u001b[39;00m a \u001b[38;5;129;01min\u001b[39;00m artists:\n\u001b[0;32m-> 1738\u001b[0m     bbox \u001b[38;5;241m=\u001b[39m \u001b[43ma\u001b[49m\u001b[38;5;241;43m.\u001b[39;49m\u001b[43mget_tightbbox\u001b[49m\u001b[43m(\u001b[49m\u001b[43mrenderer\u001b[49m\u001b[43m)\u001b[49m\n\u001b[1;32m   1739\u001b[0m     \u001b[38;5;28;01mif\u001b[39;00m bbox \u001b[38;5;129;01mis\u001b[39;00m \u001b[38;5;129;01mnot\u001b[39;00m \u001b[38;5;28;01mNone\u001b[39;00m:\n\u001b[1;32m   1740\u001b[0m         bb\u001b[38;5;241m.\u001b[39mappend(bbox)\n",
      "File \u001b[0;32m~/Escritorio/TFG/quantum_env/lib/python3.8/site-packages/matplotlib/axes/_base.py:4444\u001b[0m, in \u001b[0;36m_AxesBase.get_tightbbox\u001b[0;34m(self, renderer, call_axes_locator, bbox_extra_artists, for_layout_only)\u001b[0m\n\u001b[1;32m   4441\u001b[0m     bbox_artists \u001b[38;5;241m=\u001b[39m \u001b[38;5;28mself\u001b[39m\u001b[38;5;241m.\u001b[39mget_default_bbox_extra_artists()\n\u001b[1;32m   4443\u001b[0m \u001b[38;5;28;01mfor\u001b[39;00m a \u001b[38;5;129;01min\u001b[39;00m bbox_artists:\n\u001b[0;32m-> 4444\u001b[0m     bbox \u001b[38;5;241m=\u001b[39m \u001b[43ma\u001b[49m\u001b[38;5;241;43m.\u001b[39;49m\u001b[43mget_tightbbox\u001b[49m\u001b[43m(\u001b[49m\u001b[43mrenderer\u001b[49m\u001b[43m)\u001b[49m\n\u001b[1;32m   4445\u001b[0m     \u001b[38;5;28;01mif\u001b[39;00m (bbox \u001b[38;5;129;01mis\u001b[39;00m \u001b[38;5;129;01mnot\u001b[39;00m \u001b[38;5;28;01mNone\u001b[39;00m\n\u001b[1;32m   4446\u001b[0m             \u001b[38;5;129;01mand\u001b[39;00m \u001b[38;5;241m0\u001b[39m \u001b[38;5;241m<\u001b[39m bbox\u001b[38;5;241m.\u001b[39mwidth \u001b[38;5;241m<\u001b[39m np\u001b[38;5;241m.\u001b[39minf\n\u001b[1;32m   4447\u001b[0m             \u001b[38;5;129;01mand\u001b[39;00m \u001b[38;5;241m0\u001b[39m \u001b[38;5;241m<\u001b[39m bbox\u001b[38;5;241m.\u001b[39mheight \u001b[38;5;241m<\u001b[39m np\u001b[38;5;241m.\u001b[39minf):\n\u001b[1;32m   4448\u001b[0m         bb\u001b[38;5;241m.\u001b[39mappend(bbox)\n",
      "File \u001b[0;32m~/Escritorio/TFG/quantum_env/lib/python3.8/site-packages/matplotlib/artist.py:337\u001b[0m, in \u001b[0;36mArtist.get_tightbbox\u001b[0;34m(self, renderer)\u001b[0m\n\u001b[1;32m    322\u001b[0m \u001b[38;5;28;01mdef\u001b[39;00m \u001b[38;5;21mget_tightbbox\u001b[39m(\u001b[38;5;28mself\u001b[39m, renderer\u001b[38;5;241m=\u001b[39m\u001b[38;5;28;01mNone\u001b[39;00m):\n\u001b[1;32m    323\u001b[0m \u001b[38;5;250m    \u001b[39m\u001b[38;5;124;03m\"\"\"\u001b[39;00m\n\u001b[1;32m    324\u001b[0m \u001b[38;5;124;03m    Like `.Artist.get_window_extent`, but includes any clipping.\u001b[39;00m\n\u001b[1;32m    325\u001b[0m \n\u001b[0;32m   (...)\u001b[0m\n\u001b[1;32m    335\u001b[0m \u001b[38;5;124;03m        The enclosing bounding box (in figure pixel coordinates).\u001b[39;00m\n\u001b[1;32m    336\u001b[0m \u001b[38;5;124;03m    \"\"\"\u001b[39;00m\n\u001b[0;32m--> 337\u001b[0m     bbox \u001b[38;5;241m=\u001b[39m \u001b[38;5;28;43mself\u001b[39;49m\u001b[38;5;241;43m.\u001b[39;49m\u001b[43mget_window_extent\u001b[49m\u001b[43m(\u001b[49m\u001b[43mrenderer\u001b[49m\u001b[43m)\u001b[49m\n\u001b[1;32m    338\u001b[0m     \u001b[38;5;28;01mif\u001b[39;00m \u001b[38;5;28mself\u001b[39m\u001b[38;5;241m.\u001b[39mget_clip_on():\n\u001b[1;32m    339\u001b[0m         clip_box \u001b[38;5;241m=\u001b[39m \u001b[38;5;28mself\u001b[39m\u001b[38;5;241m.\u001b[39mget_clip_box()\n",
      "File \u001b[0;32m~/Escritorio/TFG/quantum_env/lib/python3.8/site-packages/matplotlib/patches.py:602\u001b[0m, in \u001b[0;36mPatch.get_window_extent\u001b[0;34m(self, renderer)\u001b[0m\n\u001b[1;32m    601\u001b[0m \u001b[38;5;28;01mdef\u001b[39;00m \u001b[38;5;21mget_window_extent\u001b[39m(\u001b[38;5;28mself\u001b[39m, renderer\u001b[38;5;241m=\u001b[39m\u001b[38;5;28;01mNone\u001b[39;00m):\n\u001b[0;32m--> 602\u001b[0m     \u001b[38;5;28;01mreturn\u001b[39;00m \u001b[38;5;28;43mself\u001b[39;49m\u001b[38;5;241;43m.\u001b[39;49m\u001b[43mget_path\u001b[49m\u001b[43m(\u001b[49m\u001b[43m)\u001b[49m\u001b[38;5;241;43m.\u001b[39;49m\u001b[43mget_extents\u001b[49m\u001b[43m(\u001b[49m\u001b[38;5;28;43mself\u001b[39;49m\u001b[38;5;241;43m.\u001b[39;49m\u001b[43mget_transform\u001b[49m\u001b[43m(\u001b[49m\u001b[43m)\u001b[49m\u001b[43m)\u001b[49m\n",
      "File \u001b[0;32m~/Escritorio/TFG/quantum_env/lib/python3.8/site-packages/matplotlib/path.py:639\u001b[0m, in \u001b[0;36mPath.get_extents\u001b[0;34m(self, transform, **kwargs)\u001b[0m\n\u001b[1;32m    637\u001b[0m         \u001b[38;5;66;03m# as can the ends of the curve\u001b[39;00m\n\u001b[1;32m    638\u001b[0m         xys\u001b[38;5;241m.\u001b[39mappend(curve([\u001b[38;5;241m0\u001b[39m, \u001b[38;5;241m*\u001b[39mdzeros, \u001b[38;5;241m1\u001b[39m]))\n\u001b[0;32m--> 639\u001b[0m     xys \u001b[38;5;241m=\u001b[39m \u001b[43mnp\u001b[49m\u001b[38;5;241;43m.\u001b[39;49m\u001b[43mconcatenate\u001b[49m\u001b[43m(\u001b[49m\u001b[43mxys\u001b[49m\u001b[43m)\u001b[49m\n\u001b[1;32m    640\u001b[0m \u001b[38;5;28;01mif\u001b[39;00m \u001b[38;5;28mlen\u001b[39m(xys):\n\u001b[1;32m    641\u001b[0m     \u001b[38;5;28;01mreturn\u001b[39;00m Bbox([xys\u001b[38;5;241m.\u001b[39mmin(axis\u001b[38;5;241m=\u001b[39m\u001b[38;5;241m0\u001b[39m), xys\u001b[38;5;241m.\u001b[39mmax(axis\u001b[38;5;241m=\u001b[39m\u001b[38;5;241m0\u001b[39m)])\n",
      "File \u001b[0;32m<__array_function__ internals>:200\u001b[0m, in \u001b[0;36mconcatenate\u001b[0;34m(*args, **kwargs)\u001b[0m\n",
      "\u001b[0;31mValueError\u001b[0m: need at least one array to concatenate"
     ]
    },
    {
     "data": {
      "text/plain": [
       "<Figure size 1000x1000 with 8 Axes>"
      ]
     },
     "metadata": {},
     "output_type": "display_data"
    }
   ],
   "source": [
    "media_uso_cpu_entrenamiento_mlp = np.mean(cpu_percent_list_train_mlp)\n",
    "media_uso_cpu_entrenamiento_keras = np.mean(cpu_percent_list_train_keras)\n",
    "media_uso_cpu_entrenamiento_tfq = np.mean(cpu_percent_list_train_tfq)\n",
    "media_uso_cpu_entrenamiento_q = np.mean(cpu_percent_list_train_q)\n",
    "\n",
    "media_uso_cpu_test_mlp = np.mean(cpu_percent_list_test_mlp)\n",
    "media_uso_cpu_test_keras = np.mean(cpu_percent_list_test_keras)\n",
    "media_uso_cpu_test_tfq = np.mean(cpu_percent_list_test_tfq)\n",
    "media_uso_cpu_test_q = np.mean(cpu_percent_list_test_q)\n",
    "\n",
    "nombres = ['media_uso_cpu_entrenamiento_mlp','media_uso_cpu_entrenamiento_keras',\n",
    "           'media_uso_cpu_entrenamiento_tfq','media_uso_cpu_entrenamiento_qiskit',\n",
    "           'media_uso_cpu_test_mlp','media_uso_cpu_test_keras',\n",
    "          'media_uso_cpu_test_tfq','media_uso_cpu_test_qiskit']\n",
    "\n",
    "porcentajes = [media_uso_cpu_entrenamiento_mlp, media_uso_cpu_entrenamiento_keras,media_uso_cpu_entrenamiento_tfq\n",
    "               ,media_uso_cpu_entrenamiento_q,media_uso_cpu_test_mlp,media_uso_cpu_test_keras, \n",
    "               media_uso_cpu_test_tfq,media_uso_cpu_test_q]\n",
    "\n",
    "\n",
    "num_plots = len(porcentajes)\n",
    "num_cols = min(num_plots, 2)\n",
    "num_rows = (num_plots + num_cols - 1) // num_cols\n",
    "\n",
    "# Create figure and subplots\n",
    "fig, axs = plt.subplots(num_rows, num_cols, figsize=(10, 10))\n",
    "\n",
    "# Iterate over subplots and percentages\n",
    "for i, (porcentaje, nombre) in enumerate(zip(porcentajes, nombres)):\n",
    "    row = i // num_cols\n",
    "    col = i % num_cols\n",
    "    \n",
    "    # Create pie chart with percentage and remaining percentage\n",
    "    restante = 100 - porcentaje\n",
    "    datos = [porcentaje, restante]\n",
    "    axs[row, col].pie(datos, colors=['blue', 'white'], startangle=90, counterclock=False, wedgeprops={'width': 0.5, 'edgecolor': 'white'})\n",
    "    \n",
    "    # Add percentage as text in center of pie chart\n",
    "    axs[row, col].text(0, 0, f'{np.around(porcentaje, 1)}%', ha='center', va='center', fontsize=20)\n",
    "    axs[row, col].axis('equal')\n",
    "    \n",
    "    # Add title to subplot\n",
    "    axs[row, col].set_title(nombre)\n",
    "\n",
    "# Add spacing between subplots\n",
    "fig.tight_layout()\n",
    "\n",
    "# Show plot\n",
    "plt.show()"
   ]
  },
  {
   "cell_type": "code",
   "execution_count": 78,
   "id": "ab51d94c",
   "metadata": {},
   "outputs": [
    {
     "ename": "ValueError",
     "evalue": "cannot convert float NaN to integer",
     "output_type": "error",
     "traceback": [
      "\u001b[0;31m---------------------------------------------------------------------------\u001b[0m",
      "\u001b[0;31mValueError\u001b[0m                                Traceback (most recent call last)",
      "Cell \u001b[0;32mIn[78], line 36\u001b[0m\n\u001b[1;32m     34\u001b[0m restante \u001b[38;5;241m=\u001b[39m \u001b[38;5;241m100\u001b[39m \u001b[38;5;241m-\u001b[39m porcentaje\n\u001b[1;32m     35\u001b[0m datos \u001b[38;5;241m=\u001b[39m [porcentaje, restante]\n\u001b[0;32m---> 36\u001b[0m \u001b[43maxs\u001b[49m\u001b[43m[\u001b[49m\u001b[43mrow\u001b[49m\u001b[43m,\u001b[49m\u001b[43m \u001b[49m\u001b[43mcol\u001b[49m\u001b[43m]\u001b[49m\u001b[38;5;241;43m.\u001b[39;49m\u001b[43mpie\u001b[49m\u001b[43m(\u001b[49m\u001b[43mdatos\u001b[49m\u001b[43m,\u001b[49m\u001b[43m \u001b[49m\u001b[43mcolors\u001b[49m\u001b[38;5;241;43m=\u001b[39;49m\u001b[43m[\u001b[49m\u001b[38;5;124;43m'\u001b[39;49m\u001b[38;5;124;43mblue\u001b[39;49m\u001b[38;5;124;43m'\u001b[39;49m\u001b[43m,\u001b[49m\u001b[43m \u001b[49m\u001b[38;5;124;43m'\u001b[39;49m\u001b[38;5;124;43mwhite\u001b[39;49m\u001b[38;5;124;43m'\u001b[39;49m\u001b[43m]\u001b[49m\u001b[43m,\u001b[49m\u001b[43m \u001b[49m\u001b[43mstartangle\u001b[49m\u001b[38;5;241;43m=\u001b[39;49m\u001b[38;5;241;43m90\u001b[39;49m\u001b[43m,\u001b[49m\u001b[43m \u001b[49m\u001b[43mcounterclock\u001b[49m\u001b[38;5;241;43m=\u001b[39;49m\u001b[38;5;28;43;01mFalse\u001b[39;49;00m\u001b[43m,\u001b[49m\u001b[43m \u001b[49m\u001b[43mwedgeprops\u001b[49m\u001b[38;5;241;43m=\u001b[39;49m\u001b[43m{\u001b[49m\u001b[38;5;124;43m'\u001b[39;49m\u001b[38;5;124;43mwidth\u001b[39;49m\u001b[38;5;124;43m'\u001b[39;49m\u001b[43m:\u001b[49m\u001b[43m \u001b[49m\u001b[38;5;241;43m0.5\u001b[39;49m\u001b[43m,\u001b[49m\u001b[43m \u001b[49m\u001b[38;5;124;43m'\u001b[39;49m\u001b[38;5;124;43medgecolor\u001b[39;49m\u001b[38;5;124;43m'\u001b[39;49m\u001b[43m:\u001b[49m\u001b[43m \u001b[49m\u001b[38;5;124;43m'\u001b[39;49m\u001b[38;5;124;43mwhite\u001b[39;49m\u001b[38;5;124;43m'\u001b[39;49m\u001b[43m}\u001b[49m\u001b[43m)\u001b[49m\n\u001b[1;32m     38\u001b[0m \u001b[38;5;66;03m# Add percentage as text in center of pie chart\u001b[39;00m\n\u001b[1;32m     39\u001b[0m axs[row, col]\u001b[38;5;241m.\u001b[39mtext(\u001b[38;5;241m0\u001b[39m, \u001b[38;5;241m0\u001b[39m, \u001b[38;5;124mf\u001b[39m\u001b[38;5;124m'\u001b[39m\u001b[38;5;132;01m{\u001b[39;00mnp\u001b[38;5;241m.\u001b[39maround(porcentaje,\u001b[38;5;250m \u001b[39m\u001b[38;5;241m1\u001b[39m)\u001b[38;5;132;01m}\u001b[39;00m\u001b[38;5;124m%\u001b[39m\u001b[38;5;124m'\u001b[39m, ha\u001b[38;5;241m=\u001b[39m\u001b[38;5;124m'\u001b[39m\u001b[38;5;124mcenter\u001b[39m\u001b[38;5;124m'\u001b[39m, va\u001b[38;5;241m=\u001b[39m\u001b[38;5;124m'\u001b[39m\u001b[38;5;124mcenter\u001b[39m\u001b[38;5;124m'\u001b[39m, fontsize\u001b[38;5;241m=\u001b[39m\u001b[38;5;241m20\u001b[39m)\n",
      "File \u001b[0;32m~/Escritorio/TFG/quantum_env/lib/python3.8/site-packages/matplotlib/__init__.py:1433\u001b[0m, in \u001b[0;36m_preprocess_data.<locals>.inner\u001b[0;34m(ax, data, *args, **kwargs)\u001b[0m\n\u001b[1;32m   1430\u001b[0m \u001b[38;5;129m@functools\u001b[39m\u001b[38;5;241m.\u001b[39mwraps(func)\n\u001b[1;32m   1431\u001b[0m \u001b[38;5;28;01mdef\u001b[39;00m \u001b[38;5;21minner\u001b[39m(ax, \u001b[38;5;241m*\u001b[39margs, data\u001b[38;5;241m=\u001b[39m\u001b[38;5;28;01mNone\u001b[39;00m, \u001b[38;5;241m*\u001b[39m\u001b[38;5;241m*\u001b[39mkwargs):\n\u001b[1;32m   1432\u001b[0m     \u001b[38;5;28;01mif\u001b[39;00m data \u001b[38;5;129;01mis\u001b[39;00m \u001b[38;5;28;01mNone\u001b[39;00m:\n\u001b[0;32m-> 1433\u001b[0m         \u001b[38;5;28;01mreturn\u001b[39;00m \u001b[43mfunc\u001b[49m\u001b[43m(\u001b[49m\u001b[43max\u001b[49m\u001b[43m,\u001b[49m\u001b[43m \u001b[49m\u001b[38;5;241;43m*\u001b[39;49m\u001b[38;5;28;43mmap\u001b[39;49m\u001b[43m(\u001b[49m\u001b[43msanitize_sequence\u001b[49m\u001b[43m,\u001b[49m\u001b[43m \u001b[49m\u001b[43margs\u001b[49m\u001b[43m)\u001b[49m\u001b[43m,\u001b[49m\u001b[43m \u001b[49m\u001b[38;5;241;43m*\u001b[39;49m\u001b[38;5;241;43m*\u001b[39;49m\u001b[43mkwargs\u001b[49m\u001b[43m)\u001b[49m\n\u001b[1;32m   1435\u001b[0m     bound \u001b[38;5;241m=\u001b[39m new_sig\u001b[38;5;241m.\u001b[39mbind(ax, \u001b[38;5;241m*\u001b[39margs, \u001b[38;5;241m*\u001b[39m\u001b[38;5;241m*\u001b[39mkwargs)\n\u001b[1;32m   1436\u001b[0m     auto_label \u001b[38;5;241m=\u001b[39m (bound\u001b[38;5;241m.\u001b[39marguments\u001b[38;5;241m.\u001b[39mget(label_namer)\n\u001b[1;32m   1437\u001b[0m                   \u001b[38;5;129;01mor\u001b[39;00m bound\u001b[38;5;241m.\u001b[39mkwargs\u001b[38;5;241m.\u001b[39mget(label_namer))\n",
      "File \u001b[0;32m~/Escritorio/TFG/quantum_env/lib/python3.8/site-packages/matplotlib/axes/_axes.py:3210\u001b[0m, in \u001b[0;36mAxes.pie\u001b[0;34m(self, x, explode, labels, colors, autopct, pctdistance, shadow, labeldistance, startangle, radius, counterclock, wedgeprops, textprops, center, frame, rotatelabels, normalize)\u001b[0m\n\u001b[1;32m   3207\u001b[0m x \u001b[38;5;241m+\u001b[39m\u001b[38;5;241m=\u001b[39m expl \u001b[38;5;241m*\u001b[39m math\u001b[38;5;241m.\u001b[39mcos(thetam)\n\u001b[1;32m   3208\u001b[0m y \u001b[38;5;241m+\u001b[39m\u001b[38;5;241m=\u001b[39m expl \u001b[38;5;241m*\u001b[39m math\u001b[38;5;241m.\u001b[39msin(thetam)\n\u001b[0;32m-> 3210\u001b[0m w \u001b[38;5;241m=\u001b[39m \u001b[43mmpatches\u001b[49m\u001b[38;5;241;43m.\u001b[39;49m\u001b[43mWedge\u001b[49m\u001b[43m(\u001b[49m\u001b[43m(\u001b[49m\u001b[43mx\u001b[49m\u001b[43m,\u001b[49m\u001b[43m \u001b[49m\u001b[43my\u001b[49m\u001b[43m)\u001b[49m\u001b[43m,\u001b[49m\u001b[43m \u001b[49m\u001b[43mradius\u001b[49m\u001b[43m,\u001b[49m\u001b[43m \u001b[49m\u001b[38;5;241;43m360.\u001b[39;49m\u001b[43m \u001b[49m\u001b[38;5;241;43m*\u001b[39;49m\u001b[43m \u001b[49m\u001b[38;5;28;43mmin\u001b[39;49m\u001b[43m(\u001b[49m\u001b[43mtheta1\u001b[49m\u001b[43m,\u001b[49m\u001b[43m \u001b[49m\u001b[43mtheta2\u001b[49m\u001b[43m)\u001b[49m\u001b[43m,\u001b[49m\n\u001b[1;32m   3211\u001b[0m \u001b[43m                   \u001b[49m\u001b[38;5;241;43m360.\u001b[39;49m\u001b[43m \u001b[49m\u001b[38;5;241;43m*\u001b[39;49m\u001b[43m \u001b[49m\u001b[38;5;28;43mmax\u001b[39;49m\u001b[43m(\u001b[49m\u001b[43mtheta1\u001b[49m\u001b[43m,\u001b[49m\u001b[43m \u001b[49m\u001b[43mtheta2\u001b[49m\u001b[43m)\u001b[49m\u001b[43m,\u001b[49m\n\u001b[1;32m   3212\u001b[0m \u001b[43m                   \u001b[49m\u001b[43mfacecolor\u001b[49m\u001b[38;5;241;43m=\u001b[39;49m\u001b[43mget_next_color\u001b[49m\u001b[43m(\u001b[49m\u001b[43m)\u001b[49m\u001b[43m,\u001b[49m\n\u001b[1;32m   3213\u001b[0m \u001b[43m                   \u001b[49m\u001b[43mclip_on\u001b[49m\u001b[38;5;241;43m=\u001b[39;49m\u001b[38;5;28;43;01mFalse\u001b[39;49;00m\u001b[43m,\u001b[49m\n\u001b[1;32m   3214\u001b[0m \u001b[43m                   \u001b[49m\u001b[43mlabel\u001b[49m\u001b[38;5;241;43m=\u001b[39;49m\u001b[43mlabel\u001b[49m\u001b[43m)\u001b[49m\n\u001b[1;32m   3215\u001b[0m w\u001b[38;5;241m.\u001b[39mset(\u001b[38;5;241m*\u001b[39m\u001b[38;5;241m*\u001b[39mwedgeprops)\n\u001b[1;32m   3216\u001b[0m slices\u001b[38;5;241m.\u001b[39mappend(w)\n",
      "File \u001b[0;32m~/Escritorio/TFG/quantum_env/lib/python3.8/site-packages/matplotlib/_api/deprecation.py:454\u001b[0m, in \u001b[0;36mmake_keyword_only.<locals>.wrapper\u001b[0;34m(*args, **kwargs)\u001b[0m\n\u001b[1;32m    448\u001b[0m \u001b[38;5;28;01mif\u001b[39;00m \u001b[38;5;28mlen\u001b[39m(args) \u001b[38;5;241m>\u001b[39m name_idx:\n\u001b[1;32m    449\u001b[0m     warn_deprecated(\n\u001b[1;32m    450\u001b[0m         since, message\u001b[38;5;241m=\u001b[39m\u001b[38;5;124m\"\u001b[39m\u001b[38;5;124mPassing the \u001b[39m\u001b[38;5;132;01m%(name)s\u001b[39;00m\u001b[38;5;124m \u001b[39m\u001b[38;5;132;01m%(obj_type)s\u001b[39;00m\u001b[38;5;124m \u001b[39m\u001b[38;5;124m\"\u001b[39m\n\u001b[1;32m    451\u001b[0m         \u001b[38;5;124m\"\u001b[39m\u001b[38;5;124mpositionally is deprecated since Matplotlib \u001b[39m\u001b[38;5;132;01m%(since)s\u001b[39;00m\u001b[38;5;124m; the \u001b[39m\u001b[38;5;124m\"\u001b[39m\n\u001b[1;32m    452\u001b[0m         \u001b[38;5;124m\"\u001b[39m\u001b[38;5;124mparameter will become keyword-only \u001b[39m\u001b[38;5;132;01m%(removal)s\u001b[39;00m\u001b[38;5;124m.\u001b[39m\u001b[38;5;124m\"\u001b[39m,\n\u001b[1;32m    453\u001b[0m         name\u001b[38;5;241m=\u001b[39mname, obj_type\u001b[38;5;241m=\u001b[39m\u001b[38;5;124mf\u001b[39m\u001b[38;5;124m\"\u001b[39m\u001b[38;5;124mparameter of \u001b[39m\u001b[38;5;132;01m{\u001b[39;00mfunc\u001b[38;5;241m.\u001b[39m\u001b[38;5;18m__name__\u001b[39m\u001b[38;5;132;01m}\u001b[39;00m\u001b[38;5;124m()\u001b[39m\u001b[38;5;124m\"\u001b[39m)\n\u001b[0;32m--> 454\u001b[0m \u001b[38;5;28;01mreturn\u001b[39;00m \u001b[43mfunc\u001b[49m\u001b[43m(\u001b[49m\u001b[38;5;241;43m*\u001b[39;49m\u001b[43margs\u001b[49m\u001b[43m,\u001b[49m\u001b[43m \u001b[49m\u001b[38;5;241;43m*\u001b[39;49m\u001b[38;5;241;43m*\u001b[39;49m\u001b[43mkwargs\u001b[49m\u001b[43m)\u001b[49m\n",
      "File \u001b[0;32m~/Escritorio/TFG/quantum_env/lib/python3.8/site-packages/matplotlib/patches.py:1193\u001b[0m, in \u001b[0;36mWedge.__init__\u001b[0;34m(self, center, r, theta1, theta2, width, **kwargs)\u001b[0m\n\u001b[1;32m   1191\u001b[0m \u001b[38;5;28mself\u001b[39m\u001b[38;5;241m.\u001b[39mtheta1, \u001b[38;5;28mself\u001b[39m\u001b[38;5;241m.\u001b[39mtheta2 \u001b[38;5;241m=\u001b[39m theta1, theta2\n\u001b[1;32m   1192\u001b[0m \u001b[38;5;28mself\u001b[39m\u001b[38;5;241m.\u001b[39m_patch_transform \u001b[38;5;241m=\u001b[39m transforms\u001b[38;5;241m.\u001b[39mIdentityTransform()\n\u001b[0;32m-> 1193\u001b[0m \u001b[38;5;28;43mself\u001b[39;49m\u001b[38;5;241;43m.\u001b[39;49m\u001b[43m_recompute_path\u001b[49m\u001b[43m(\u001b[49m\u001b[43m)\u001b[49m\n",
      "File \u001b[0;32m~/Escritorio/TFG/quantum_env/lib/python3.8/site-packages/matplotlib/patches.py:1205\u001b[0m, in \u001b[0;36mWedge._recompute_path\u001b[0;34m(self)\u001b[0m\n\u001b[1;32m   1202\u001b[0m     connector \u001b[38;5;241m=\u001b[39m Path\u001b[38;5;241m.\u001b[39mLINETO\n\u001b[1;32m   1204\u001b[0m \u001b[38;5;66;03m# Form the outer ring\u001b[39;00m\n\u001b[0;32m-> 1205\u001b[0m arc \u001b[38;5;241m=\u001b[39m \u001b[43mPath\u001b[49m\u001b[38;5;241;43m.\u001b[39;49m\u001b[43marc\u001b[49m\u001b[43m(\u001b[49m\u001b[43mtheta1\u001b[49m\u001b[43m,\u001b[49m\u001b[43m \u001b[49m\u001b[43mtheta2\u001b[49m\u001b[43m)\u001b[49m\n\u001b[1;32m   1207\u001b[0m \u001b[38;5;28;01mif\u001b[39;00m \u001b[38;5;28mself\u001b[39m\u001b[38;5;241m.\u001b[39mwidth \u001b[38;5;129;01mis\u001b[39;00m \u001b[38;5;129;01mnot\u001b[39;00m \u001b[38;5;28;01mNone\u001b[39;00m:\n\u001b[1;32m   1208\u001b[0m     \u001b[38;5;66;03m# Partial annulus needs to draw the outer ring\u001b[39;00m\n\u001b[1;32m   1209\u001b[0m     \u001b[38;5;66;03m# followed by a reversed and scaled inner ring\u001b[39;00m\n\u001b[1;32m   1210\u001b[0m     v1 \u001b[38;5;241m=\u001b[39m arc\u001b[38;5;241m.\u001b[39mvertices\n",
      "File \u001b[0;32m~/Escritorio/TFG/quantum_env/lib/python3.8/site-packages/matplotlib/path.py:955\u001b[0m, in \u001b[0;36mPath.arc\u001b[0;34m(cls, theta1, theta2, n, is_wedge)\u001b[0m\n\u001b[1;32m    953\u001b[0m \u001b[38;5;66;03m# number of curve segments to make\u001b[39;00m\n\u001b[1;32m    954\u001b[0m \u001b[38;5;28;01mif\u001b[39;00m n \u001b[38;5;129;01mis\u001b[39;00m \u001b[38;5;28;01mNone\u001b[39;00m:\n\u001b[0;32m--> 955\u001b[0m     n \u001b[38;5;241m=\u001b[39m \u001b[38;5;28;43mint\u001b[39;49m\u001b[43m(\u001b[49m\u001b[38;5;241;43m2\u001b[39;49m\u001b[43m \u001b[49m\u001b[38;5;241;43m*\u001b[39;49m\u001b[38;5;241;43m*\u001b[39;49m\u001b[43m \u001b[49m\u001b[43mnp\u001b[49m\u001b[38;5;241;43m.\u001b[39;49m\u001b[43mceil\u001b[49m\u001b[43m(\u001b[49m\u001b[43m(\u001b[49m\u001b[43meta2\u001b[49m\u001b[43m \u001b[49m\u001b[38;5;241;43m-\u001b[39;49m\u001b[43m \u001b[49m\u001b[43meta1\u001b[49m\u001b[43m)\u001b[49m\u001b[43m \u001b[49m\u001b[38;5;241;43m/\u001b[39;49m\u001b[43m \u001b[49m\u001b[43mhalfpi\u001b[49m\u001b[43m)\u001b[49m\u001b[43m)\u001b[49m\n\u001b[1;32m    956\u001b[0m \u001b[38;5;28;01mif\u001b[39;00m n \u001b[38;5;241m<\u001b[39m \u001b[38;5;241m1\u001b[39m:\n\u001b[1;32m    957\u001b[0m     \u001b[38;5;28;01mraise\u001b[39;00m \u001b[38;5;167;01mValueError\u001b[39;00m(\u001b[38;5;124m\"\u001b[39m\u001b[38;5;124mn must be >= 1 or None\u001b[39m\u001b[38;5;124m\"\u001b[39m)\n",
      "\u001b[0;31mValueError\u001b[0m: cannot convert float NaN to integer"
     ]
    },
    {
     "ename": "ValueError",
     "evalue": "need at least one array to concatenate",
     "output_type": "error",
     "traceback": [
      "\u001b[0;31m---------------------------------------------------------------------------\u001b[0m",
      "\u001b[0;31mValueError\u001b[0m                                Traceback (most recent call last)",
      "File \u001b[0;32m~/Escritorio/TFG/quantum_env/lib/python3.8/site-packages/IPython/core/formatters.py:338\u001b[0m, in \u001b[0;36mBaseFormatter.__call__\u001b[0;34m(self, obj)\u001b[0m\n\u001b[1;32m    336\u001b[0m     \u001b[38;5;28;01mpass\u001b[39;00m\n\u001b[1;32m    337\u001b[0m \u001b[38;5;28;01melse\u001b[39;00m:\n\u001b[0;32m--> 338\u001b[0m     \u001b[38;5;28;01mreturn\u001b[39;00m \u001b[43mprinter\u001b[49m\u001b[43m(\u001b[49m\u001b[43mobj\u001b[49m\u001b[43m)\u001b[49m\n\u001b[1;32m    339\u001b[0m \u001b[38;5;66;03m# Finally look for special method names\u001b[39;00m\n\u001b[1;32m    340\u001b[0m method \u001b[38;5;241m=\u001b[39m get_real_method(obj, \u001b[38;5;28mself\u001b[39m\u001b[38;5;241m.\u001b[39mprint_method)\n",
      "File \u001b[0;32m~/Escritorio/TFG/quantum_env/lib/python3.8/site-packages/IPython/core/pylabtools.py:152\u001b[0m, in \u001b[0;36mprint_figure\u001b[0;34m(fig, fmt, bbox_inches, base64, **kwargs)\u001b[0m\n\u001b[1;32m    149\u001b[0m     \u001b[38;5;28;01mfrom\u001b[39;00m \u001b[38;5;21;01mmatplotlib\u001b[39;00m\u001b[38;5;21;01m.\u001b[39;00m\u001b[38;5;21;01mbackend_bases\u001b[39;00m \u001b[38;5;28;01mimport\u001b[39;00m FigureCanvasBase\n\u001b[1;32m    150\u001b[0m     FigureCanvasBase(fig)\n\u001b[0;32m--> 152\u001b[0m \u001b[43mfig\u001b[49m\u001b[38;5;241;43m.\u001b[39;49m\u001b[43mcanvas\u001b[49m\u001b[38;5;241;43m.\u001b[39;49m\u001b[43mprint_figure\u001b[49m\u001b[43m(\u001b[49m\u001b[43mbytes_io\u001b[49m\u001b[43m,\u001b[49m\u001b[43m \u001b[49m\u001b[38;5;241;43m*\u001b[39;49m\u001b[38;5;241;43m*\u001b[39;49m\u001b[43mkw\u001b[49m\u001b[43m)\u001b[49m\n\u001b[1;32m    153\u001b[0m data \u001b[38;5;241m=\u001b[39m bytes_io\u001b[38;5;241m.\u001b[39mgetvalue()\n\u001b[1;32m    154\u001b[0m \u001b[38;5;28;01mif\u001b[39;00m fmt \u001b[38;5;241m==\u001b[39m \u001b[38;5;124m'\u001b[39m\u001b[38;5;124msvg\u001b[39m\u001b[38;5;124m'\u001b[39m:\n",
      "File \u001b[0;32m~/Escritorio/TFG/quantum_env/lib/python3.8/site-packages/matplotlib/backend_bases.py:2318\u001b[0m, in \u001b[0;36mFigureCanvasBase.print_figure\u001b[0;34m(self, filename, dpi, facecolor, edgecolor, orientation, format, bbox_inches, pad_inches, bbox_extra_artists, backend, **kwargs)\u001b[0m\n\u001b[1;32m   2316\u001b[0m \u001b[38;5;28;01mif\u001b[39;00m bbox_inches:\n\u001b[1;32m   2317\u001b[0m     \u001b[38;5;28;01mif\u001b[39;00m bbox_inches \u001b[38;5;241m==\u001b[39m \u001b[38;5;124m\"\u001b[39m\u001b[38;5;124mtight\u001b[39m\u001b[38;5;124m\"\u001b[39m:\n\u001b[0;32m-> 2318\u001b[0m         bbox_inches \u001b[38;5;241m=\u001b[39m \u001b[38;5;28;43mself\u001b[39;49m\u001b[38;5;241;43m.\u001b[39;49m\u001b[43mfigure\u001b[49m\u001b[38;5;241;43m.\u001b[39;49m\u001b[43mget_tightbbox\u001b[49m\u001b[43m(\u001b[49m\n\u001b[1;32m   2319\u001b[0m \u001b[43m            \u001b[49m\u001b[43mrenderer\u001b[49m\u001b[43m,\u001b[49m\u001b[43m \u001b[49m\u001b[43mbbox_extra_artists\u001b[49m\u001b[38;5;241;43m=\u001b[39;49m\u001b[43mbbox_extra_artists\u001b[49m\u001b[43m)\u001b[49m\n\u001b[1;32m   2320\u001b[0m         \u001b[38;5;28;01mif\u001b[39;00m pad_inches \u001b[38;5;129;01mis\u001b[39;00m \u001b[38;5;28;01mNone\u001b[39;00m:\n\u001b[1;32m   2321\u001b[0m             pad_inches \u001b[38;5;241m=\u001b[39m rcParams[\u001b[38;5;124m'\u001b[39m\u001b[38;5;124msavefig.pad_inches\u001b[39m\u001b[38;5;124m'\u001b[39m]\n",
      "File \u001b[0;32m~/Escritorio/TFG/quantum_env/lib/python3.8/site-packages/matplotlib/figure.py:1738\u001b[0m, in \u001b[0;36mFigureBase.get_tightbbox\u001b[0;34m(self, renderer, bbox_extra_artists)\u001b[0m\n\u001b[1;32m   1735\u001b[0m     artists \u001b[38;5;241m=\u001b[39m bbox_extra_artists\n\u001b[1;32m   1737\u001b[0m \u001b[38;5;28;01mfor\u001b[39;00m a \u001b[38;5;129;01min\u001b[39;00m artists:\n\u001b[0;32m-> 1738\u001b[0m     bbox \u001b[38;5;241m=\u001b[39m \u001b[43ma\u001b[49m\u001b[38;5;241;43m.\u001b[39;49m\u001b[43mget_tightbbox\u001b[49m\u001b[43m(\u001b[49m\u001b[43mrenderer\u001b[49m\u001b[43m)\u001b[49m\n\u001b[1;32m   1739\u001b[0m     \u001b[38;5;28;01mif\u001b[39;00m bbox \u001b[38;5;129;01mis\u001b[39;00m \u001b[38;5;129;01mnot\u001b[39;00m \u001b[38;5;28;01mNone\u001b[39;00m:\n\u001b[1;32m   1740\u001b[0m         bb\u001b[38;5;241m.\u001b[39mappend(bbox)\n",
      "File \u001b[0;32m~/Escritorio/TFG/quantum_env/lib/python3.8/site-packages/matplotlib/axes/_base.py:4444\u001b[0m, in \u001b[0;36m_AxesBase.get_tightbbox\u001b[0;34m(self, renderer, call_axes_locator, bbox_extra_artists, for_layout_only)\u001b[0m\n\u001b[1;32m   4441\u001b[0m     bbox_artists \u001b[38;5;241m=\u001b[39m \u001b[38;5;28mself\u001b[39m\u001b[38;5;241m.\u001b[39mget_default_bbox_extra_artists()\n\u001b[1;32m   4443\u001b[0m \u001b[38;5;28;01mfor\u001b[39;00m a \u001b[38;5;129;01min\u001b[39;00m bbox_artists:\n\u001b[0;32m-> 4444\u001b[0m     bbox \u001b[38;5;241m=\u001b[39m \u001b[43ma\u001b[49m\u001b[38;5;241;43m.\u001b[39;49m\u001b[43mget_tightbbox\u001b[49m\u001b[43m(\u001b[49m\u001b[43mrenderer\u001b[49m\u001b[43m)\u001b[49m\n\u001b[1;32m   4445\u001b[0m     \u001b[38;5;28;01mif\u001b[39;00m (bbox \u001b[38;5;129;01mis\u001b[39;00m \u001b[38;5;129;01mnot\u001b[39;00m \u001b[38;5;28;01mNone\u001b[39;00m\n\u001b[1;32m   4446\u001b[0m             \u001b[38;5;129;01mand\u001b[39;00m \u001b[38;5;241m0\u001b[39m \u001b[38;5;241m<\u001b[39m bbox\u001b[38;5;241m.\u001b[39mwidth \u001b[38;5;241m<\u001b[39m np\u001b[38;5;241m.\u001b[39minf\n\u001b[1;32m   4447\u001b[0m             \u001b[38;5;129;01mand\u001b[39;00m \u001b[38;5;241m0\u001b[39m \u001b[38;5;241m<\u001b[39m bbox\u001b[38;5;241m.\u001b[39mheight \u001b[38;5;241m<\u001b[39m np\u001b[38;5;241m.\u001b[39minf):\n\u001b[1;32m   4448\u001b[0m         bb\u001b[38;5;241m.\u001b[39mappend(bbox)\n",
      "File \u001b[0;32m~/Escritorio/TFG/quantum_env/lib/python3.8/site-packages/matplotlib/artist.py:337\u001b[0m, in \u001b[0;36mArtist.get_tightbbox\u001b[0;34m(self, renderer)\u001b[0m\n\u001b[1;32m    322\u001b[0m \u001b[38;5;28;01mdef\u001b[39;00m \u001b[38;5;21mget_tightbbox\u001b[39m(\u001b[38;5;28mself\u001b[39m, renderer\u001b[38;5;241m=\u001b[39m\u001b[38;5;28;01mNone\u001b[39;00m):\n\u001b[1;32m    323\u001b[0m \u001b[38;5;250m    \u001b[39m\u001b[38;5;124;03m\"\"\"\u001b[39;00m\n\u001b[1;32m    324\u001b[0m \u001b[38;5;124;03m    Like `.Artist.get_window_extent`, but includes any clipping.\u001b[39;00m\n\u001b[1;32m    325\u001b[0m \n\u001b[0;32m   (...)\u001b[0m\n\u001b[1;32m    335\u001b[0m \u001b[38;5;124;03m        The enclosing bounding box (in figure pixel coordinates).\u001b[39;00m\n\u001b[1;32m    336\u001b[0m \u001b[38;5;124;03m    \"\"\"\u001b[39;00m\n\u001b[0;32m--> 337\u001b[0m     bbox \u001b[38;5;241m=\u001b[39m \u001b[38;5;28;43mself\u001b[39;49m\u001b[38;5;241;43m.\u001b[39;49m\u001b[43mget_window_extent\u001b[49m\u001b[43m(\u001b[49m\u001b[43mrenderer\u001b[49m\u001b[43m)\u001b[49m\n\u001b[1;32m    338\u001b[0m     \u001b[38;5;28;01mif\u001b[39;00m \u001b[38;5;28mself\u001b[39m\u001b[38;5;241m.\u001b[39mget_clip_on():\n\u001b[1;32m    339\u001b[0m         clip_box \u001b[38;5;241m=\u001b[39m \u001b[38;5;28mself\u001b[39m\u001b[38;5;241m.\u001b[39mget_clip_box()\n",
      "File \u001b[0;32m~/Escritorio/TFG/quantum_env/lib/python3.8/site-packages/matplotlib/patches.py:602\u001b[0m, in \u001b[0;36mPatch.get_window_extent\u001b[0;34m(self, renderer)\u001b[0m\n\u001b[1;32m    601\u001b[0m \u001b[38;5;28;01mdef\u001b[39;00m \u001b[38;5;21mget_window_extent\u001b[39m(\u001b[38;5;28mself\u001b[39m, renderer\u001b[38;5;241m=\u001b[39m\u001b[38;5;28;01mNone\u001b[39;00m):\n\u001b[0;32m--> 602\u001b[0m     \u001b[38;5;28;01mreturn\u001b[39;00m \u001b[38;5;28;43mself\u001b[39;49m\u001b[38;5;241;43m.\u001b[39;49m\u001b[43mget_path\u001b[49m\u001b[43m(\u001b[49m\u001b[43m)\u001b[49m\u001b[38;5;241;43m.\u001b[39;49m\u001b[43mget_extents\u001b[49m\u001b[43m(\u001b[49m\u001b[38;5;28;43mself\u001b[39;49m\u001b[38;5;241;43m.\u001b[39;49m\u001b[43mget_transform\u001b[49m\u001b[43m(\u001b[49m\u001b[43m)\u001b[49m\u001b[43m)\u001b[49m\n",
      "File \u001b[0;32m~/Escritorio/TFG/quantum_env/lib/python3.8/site-packages/matplotlib/path.py:639\u001b[0m, in \u001b[0;36mPath.get_extents\u001b[0;34m(self, transform, **kwargs)\u001b[0m\n\u001b[1;32m    637\u001b[0m         \u001b[38;5;66;03m# as can the ends of the curve\u001b[39;00m\n\u001b[1;32m    638\u001b[0m         xys\u001b[38;5;241m.\u001b[39mappend(curve([\u001b[38;5;241m0\u001b[39m, \u001b[38;5;241m*\u001b[39mdzeros, \u001b[38;5;241m1\u001b[39m]))\n\u001b[0;32m--> 639\u001b[0m     xys \u001b[38;5;241m=\u001b[39m \u001b[43mnp\u001b[49m\u001b[38;5;241;43m.\u001b[39;49m\u001b[43mconcatenate\u001b[49m\u001b[43m(\u001b[49m\u001b[43mxys\u001b[49m\u001b[43m)\u001b[49m\n\u001b[1;32m    640\u001b[0m \u001b[38;5;28;01mif\u001b[39;00m \u001b[38;5;28mlen\u001b[39m(xys):\n\u001b[1;32m    641\u001b[0m     \u001b[38;5;28;01mreturn\u001b[39;00m Bbox([xys\u001b[38;5;241m.\u001b[39mmin(axis\u001b[38;5;241m=\u001b[39m\u001b[38;5;241m0\u001b[39m), xys\u001b[38;5;241m.\u001b[39mmax(axis\u001b[38;5;241m=\u001b[39m\u001b[38;5;241m0\u001b[39m)])\n",
      "File \u001b[0;32m<__array_function__ internals>:200\u001b[0m, in \u001b[0;36mconcatenate\u001b[0;34m(*args, **kwargs)\u001b[0m\n",
      "\u001b[0;31mValueError\u001b[0m: need at least one array to concatenate"
     ]
    },
    {
     "data": {
      "text/plain": [
       "<Figure size 1000x1000 with 8 Axes>"
      ]
     },
     "metadata": {},
     "output_type": "display_data"
    }
   ],
   "source": [
    "media_uso_ram_entrenamiento_mlp = np.mean(memory_usage_list_train_mlp)\n",
    "media_uso_ram_entrenamiento_keras = np.mean(memory_usage_list_train_keras)\n",
    "media_uso_ram_entrenamiento_tfq = np.mean(memory_usage_list_train_tfq)\n",
    "media_uso_ram_entrenamiento_q = np.mean(memory_usage_list_train_q)\n",
    "\n",
    "media_uso_ram_test_mlp = np.mean(memory_usage_list_test_mlp)\n",
    "media_uso_ram_test_keras = np.mean(memory_usage_list_test_keras)\n",
    "media_uso_ram_test_tfq = np.mean(memory_usage_list_test_tfq)\n",
    "media_uso_ram_test_q = np.mean(memory_usage_list_test_q)\n",
    "\n",
    "nombres = ['media_uso_ram_entrenamiento_mlp','media_uso_ram_entrenamiento_keras',\n",
    "           'media_uso_ram_entrenamiento_tfq','media_uso_ram_entrenamiento_qiskit',\n",
    "           'media_uso_ram_test_mlp','media_uso_ram_test_keras',\n",
    "          'media_uso_ram_test_tfq','media_uso_ram_test_qiskit']\n",
    "\n",
    "porcentajes = [media_uso_ram_entrenamiento_mlp, media_uso_ram_entrenamiento_keras,media_uso_ram_entrenamiento_tfq\n",
    "               ,media_uso_ram_entrenamiento_q,media_uso_ram_test_mlp,media_uso_ram_test_keras, \n",
    "               media_uso_ram_test_tfq,media_uso_ram_test_q]\n",
    "\n",
    "\n",
    "num_plots = len(porcentajes)\n",
    "num_cols = min(num_plots, 2)\n",
    "num_rows = (num_plots + num_cols - 1) // num_cols\n",
    "\n",
    "# Create figure and subplots\n",
    "fig, axs = plt.subplots(num_rows, num_cols, figsize=(10, 10))\n",
    "\n",
    "# Iterate over subplots and percentages\n",
    "for i, (porcentaje, nombre) in enumerate(zip(porcentajes, nombres)):\n",
    "    row = i // num_cols\n",
    "    col = i % num_cols\n",
    "    \n",
    "    # Create pie chart with percentage and remaining percentage\n",
    "    restante = 100 - porcentaje\n",
    "    datos = [porcentaje, restante]\n",
    "    axs[row, col].pie(datos, colors=['blue', 'white'], startangle=90, counterclock=False, wedgeprops={'width': 0.5, 'edgecolor': 'white'})\n",
    "    \n",
    "    # Add percentage as text in center of pie chart\n",
    "    axs[row, col].text(0, 0, f'{np.around(porcentaje, 1)}%', ha='center', va='center', fontsize=20)\n",
    "    axs[row, col].axis('equal')\n",
    "    \n",
    "    # Add title to subplot\n",
    "    axs[row, col].set_title(nombre)\n",
    "\n",
    "# Add spacing between subplots\n",
    "fig.tight_layout()\n",
    "\n",
    "# Show plot\n",
    "plt.show()"
   ]
  },
  {
   "cell_type": "code",
   "execution_count": 79,
   "id": "2edc3379",
   "metadata": {},
   "outputs": [
    {
     "ename": "NameError",
     "evalue": "name 'tiempo_entrenamieno_mlp' is not defined",
     "output_type": "error",
     "traceback": [
      "\u001b[0;31m---------------------------------------------------------------------------\u001b[0m",
      "\u001b[0;31mNameError\u001b[0m                                 Traceback (most recent call last)",
      "Cell \u001b[0;32mIn[79], line 3\u001b[0m\n\u001b[1;32m      1\u001b[0m \u001b[38;5;66;03m#PONER TIEMPOS ENTRENAMIENTO EN LOS ALGORITMOS, FALTA, IGUAL CON EL TESTEO, AHORA MISMO SOLO DE EJEMPLO\u001b[39;00m\n\u001b[1;32m      2\u001b[0m modelos \u001b[38;5;241m=\u001b[39m [\u001b[38;5;124m\"\u001b[39m\u001b[38;5;124mMPL\u001b[39m\u001b[38;5;124m\"\u001b[39m, \u001b[38;5;124m\"\u001b[39m\u001b[38;5;124mKeras\u001b[39m\u001b[38;5;124m\"\u001b[39m,\u001b[38;5;124m\"\u001b[39m\u001b[38;5;124mTFQ\u001b[39m\u001b[38;5;124m\"\u001b[39m,\u001b[38;5;124m\"\u001b[39m\u001b[38;5;124mQiskit\u001b[39m\u001b[38;5;124m\"\u001b[39m]\n\u001b[0;32m----> 3\u001b[0m counts \u001b[38;5;241m=\u001b[39m [\u001b[43mtiempo_entrenamieno_mlp\u001b[49m,\u001b[38;5;241m5\u001b[39m,\u001b[38;5;241m2400\u001b[39m,\u001b[38;5;241m5400\u001b[39m]\n\u001b[1;32m      4\u001b[0m fig \u001b[38;5;241m=\u001b[39m plt\u001b[38;5;241m.\u001b[39mfigure(dpi\u001b[38;5;241m=\u001b[39m\u001b[38;5;241m100\u001b[39m, figsize\u001b[38;5;241m=\u001b[39m(\u001b[38;5;241m10\u001b[39m,\u001b[38;5;241m5\u001b[39m))\n\u001b[1;32m      5\u001b[0m ax \u001b[38;5;241m=\u001b[39m fig\u001b[38;5;241m.\u001b[39mgca()\n",
      "\u001b[0;31mNameError\u001b[0m: name 'tiempo_entrenamieno_mlp' is not defined"
     ]
    }
   ],
   "source": [
    "#PONER TIEMPOS ENTRENAMIENTO EN LOS ALGORITMOS, FALTA, IGUAL CON EL TESTEO, AHORA MISMO SOLO DE EJEMPLO\n",
    "modelos = [\"MPL\", \"Keras\",\"TFQ\",\"Qiskit\"]\n",
    "counts = [resultados_mlp[1],endTrainingTime_keras,endTrainingTime_tfq,endTrainingTime_q]\n",
    "fig = plt.figure(dpi=100, figsize=(10,5))\n",
    "ax = fig.gca()\n",
    "seaborn.barplot(x=modelos, y=counts, ax=ax, orient=\"v\")\n",
    "ax.set_ylabel(\"Tiempo en segundos\")\n",
    "ax.set_xlabel(\"Modelo\")\n",
    "ax.set_title(f\"Tiempo de entrenamiento\")"
   ]
  },
  {
   "cell_type": "code",
   "execution_count": 165,
   "id": "e1806691",
   "metadata": {},
   "outputs": [
    {
     "data": {
      "text/plain": [
       "Text(0.5, 1.0, 'Tiempo de entrenamiento')"
      ]
     },
     "execution_count": 165,
     "metadata": {},
     "output_type": "execute_result"
    },
    {
     "data": {
      "image/png": "[encoded data removed]",
      "text/plain": [
       "<Figure size 1000x500 with 1 Axes>"
      ]
     },
     "metadata": {},
     "output_type": "display_data"
    }
   ],
   "source": [
    "modelos = [\"MPL\", \"Keras\",\"TFQ\",\"Qiskit\"]\n",
    "counts = [resultados_mlp[2],endTestingTime_keras,endTestingTime_tfq,endTestingTime_q]\n",
    "fig = plt.figure(dpi=100, figsize=(10,5))\n",
    "ax = fig.gca()\n",
    "seaborn.barplot(x=modelos, y=counts, ax=ax, orient=\"v\")\n",
    "ax.set_ylabel(\"Tiempo en segundos\")\n",
    "ax.set_xlabel(\"Modelo\")\n",
    "ax.set_title(f\"Tiempo de entrenamiento\")"
   ]
  },
  {
   "cell_type": "code",
   "execution_count": null,
   "id": "322c66e3",
   "metadata": {},
   "outputs": [],
   "source": []
  }
 ],
 "metadata": {
  "kernelspec": {
   "display_name": "Python 3 (ipykernel)",
   "language": "python",
   "name": "python3"
  },
  "language_info": {
   "codemirror_mode": {
    "name": "ipython",
    "version": 3
   },
   "file_extension": ".py",
   "mimetype": "text/x-python",
   "name": "python",
   "nbconvert_exporter": "python",
   "pygments_lexer": "ipython3",
   "version": "3.8.16"
  }
 },
 "nbformat": 4,
 "nbformat_minor": 5
}
