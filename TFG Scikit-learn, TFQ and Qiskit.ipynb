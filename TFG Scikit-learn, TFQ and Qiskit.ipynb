{
 "cells": [
  {
   "cell_type": "code",
   "execution_count": 1,
   "id": "c5320f04",
   "metadata": {},
   "outputs": [
    {
     "data": {
      "text/html": [
       "        <script type=\"text/javascript\">\n",
       "        window.PlotlyConfig = {MathJaxConfig: 'local'};\n",
       "        if (window.MathJax && window.MathJax.Hub && window.MathJax.Hub.Config) {window.MathJax.Hub.Config({SVG: {font: \"STIX-Web\"}});}\n",
       "        if (typeof require !== 'undefined') {\n",
       "        require.undef(\"plotly\");\n",
       "        requirejs.config({\n",
       "            paths: {\n",
       "                'plotly': ['https://cdn.plot.ly/plotly-2.18.2.min']\n",
       "            }\n",
       "        });\n",
       "        require(['plotly'], function(Plotly) {\n",
       "            window._Plotly = Plotly;\n",
       "        });\n",
       "        }\n",
       "        </script>\n",
       "        "
      ]
     },
     "metadata": {},
     "output_type": "display_data"
    }
   ],
   "source": [
    "import matplotlib as mpl\n",
    "import matplotlib.pyplot as plt\n",
    "import multiprocessing as mp\n",
    "from matplotlib.patches import Wedge, Circle\n",
    "\n",
    "%matplotlib inline\n",
    "import numpy as np\n",
    "import pandas as pd \n",
    "from sklearn import datasets, metrics\n",
    "import time as time\n",
    "from sklearn import svm\n",
    "from sklearn.experimental import enable_halving_search_cv \n",
    "from sklearn.model_selection import HalvingGridSearchCV\n",
    "from sklearn.exceptions import ConvergenceWarning\n",
    "from sklearn.neural_network import MLPClassifier\n",
    "import seaborn\n",
    "import cProfile\n",
    "from io import StringIO\n",
    "import pstats\n",
    "import psutil\n",
    "import threading\n",
    "cores = psutil.cpu_count()\n",
    "from sklearn import metrics\n",
    "import chart_studio.plotly as py\n",
    "import plotly.graph_objs as go\n",
    "from plotly import tools\n",
    "from plotly.offline import init_notebook_mode, iplot\n",
    "init_notebook_mode(connected=True)\n",
    "\n",
    "from qiskit import QuantumCircuit\n",
    "from qiskit.utils import algorithm_globals\n",
    "from qiskit.circuit import Parameter\n",
    "from qiskit.circuit.library import RealAmplitudes, ZZFeatureMap\n",
    "from qiskit_machine_learning.neural_networks import SamplerQNN, EstimatorQNN\n",
    "from qiskit_machine_learning.connectors import TorchConnector\n",
    "import torch\n",
    "from torch.autograd import Function\n",
    "import torch.optim as optim\n",
    "import torch.nn as nn\n",
    "import torch.nn.functional as F\n",
    "\n",
    "import qiskit\n",
    "from qiskit import transpile, assemble\n",
    "from qiskit.visualization import *\n",
    "from torch.nn import (\n",
    "    Module,\n",
    "    Conv2d,\n",
    "    Linear,\n",
    "    Dropout2d,\n",
    "    NLLLoss,\n",
    "    MaxPool2d,\n",
    "    Flatten,\n",
    "    Sequential,\n",
    "    ReLU,\n",
    ")\n",
    "import torch.nn.functional as F\n",
    "from torch import cat, no_grad, manual_seed\n",
    "from torch.utils.data import DataLoader\n",
    "from sklearn.metrics import classification_report\n",
    "from sklearn.model_selection import train_test_split\n",
    "from sklearn.preprocessing import LabelBinarizer\n",
    "from keras import Sequential\n",
    "from keras.layers import Dense, Conv2D, Flatten,MaxPooling2D,BatchNormalization,Dropout\n",
    "\n",
    "from tensorflow.keras.optimizers import Adam\n",
    "from tensorflow.keras.utils import to_categorical\n",
    "from skimage.transform import resize"
   ]
  },
  {
   "cell_type": "code",
   "execution_count": 2,
   "id": "17bd9fd8",
   "metadata": {},
   "outputs": [],
   "source": [
    "from keras.datasets import mnist\n",
    "from tensorflow.keras import datasets, layers, models"
   ]
  },
  {
   "cell_type": "markdown",
   "id": "08e0e1df",
   "metadata": {},
   "source": [
    "# Funcion globlal lectura datos MNIST"
   ]
  },
  {
   "cell_type": "markdown",
   "id": "04364310",
   "metadata": {},
   "source": [
    "# Carga de datos en variables globales a los modelos"
   ]
  },
  {
   "cell_type": "code",
   "execution_count": 131,
   "id": "40c43cf1",
   "metadata": {},
   "outputs": [],
   "source": [
    "(train_x, train_y), (test_x, test_y) = mnist.load_data()\n",
    "\n",
    "train_x = train_x.reshape(60000, 784)\n",
    "test_x = test_x.reshape(10000, 784)\n",
    "\n",
    "indices_train = np.where((train_y == 3) | (train_y == 6) | (train_y == 9))\n",
    "x_train_filtered = train_x[indices_train]\n",
    "y_train_filtered = train_y[indices_train]\n",
    "\n",
    "\n",
    "indices_test = np.where((test_y == 3) | (test_y == 6) | (test_y == 9))\n",
    "x_test_filtered = test_x[indices_test]\n",
    "y_test_filtered = test_y[indices_test]\n",
    "\n",
    "\n",
    "train_y = y_train_filtered\n",
    "test_y = y_test_filtered\n",
    "\n",
    "train_x = np.array([resize(image, (4, 4)) for image in x_train_filtered])\n",
    "test_x = np.array([resize(image, (4, 4)) for image in x_test_filtered])\n",
    "\n",
    "train_x = train_x.reshape(train_x.shape[0], -1)\n",
    "test_x = test_x.reshape(test_x.shape[0], -1)\n",
    "\n",
    "train_x = train_x.astype('float32')\n",
    "test_x = test_x.astype('float32')\n",
    "train_x /= 255\n",
    "test_x /= 255"
   ]
  },
  {
   "cell_type": "code",
   "execution_count": 4,
   "id": "33aec45b",
   "metadata": {},
   "outputs": [],
   "source": [
    "trainingSamples = len(train_x)\n",
    "testingSamples = len(train_y)"
   ]
  },
  {
   "cell_type": "markdown",
   "id": "4fda7c64",
   "metadata": {},
   "source": [
    "## 1. Variables locales"
   ]
  },
  {
   "cell_type": "code",
   "execution_count": 5,
   "id": "91800f93",
   "metadata": {},
   "outputs": [],
   "source": [
    "cpu_percent_list_train_mlp = []\n",
    "memory_usage_list_train_mlp= []\n",
    "cpu_percent_list_test_mlp= []\n",
    "memory_usage_list_test_mlp= []\n"
   ]
  },
  {
   "cell_type": "markdown",
   "id": "7fb3fcc3",
   "metadata": {},
   "source": [
    "## 2. Funcion para buscar los mejores hiperparámetros"
   ]
  },
  {
   "cell_type": "code",
   "execution_count": 6,
   "id": "8edbc671",
   "metadata": {},
   "outputs": [],
   "source": [
    "def busqueda_de_atributos_mlp(modelo):\n",
    "    scoring = 'accuracy'\n",
    "    param_grid = {\n",
    "        'hidden_layer_sizes': [(50,), (100,), (50, 50), (100, 100), (50, 100), (100, 50), \n",
    "                               (50, 50, 50), (100, 100, 100), (50, 100, 50), (100, 50, 100),\n",
    "                               (50, 100, 50, 100), (100, 50, 100, 50)],\n",
    "        'activation': ['identity', 'logistic', 'tanh', 'relu'],\n",
    "        'solver': ['lbfgs', 'sgd', 'adam'],\n",
    "        'alpha': [0.00001, 0.0001, 0.001, 0.01, 0.1],\n",
    "        'learning_rate': ['constant', 'invscaling', 'adaptive'],\n",
    "        'max_iter': [15000,20000,25000]\n",
    "    }\n",
    "    \n",
    "    grid_search_mlp = HalvingGridSearchCV(estimator=modelo, param_grid=param_grid, scoring=scoring, cv=10)\n",
    "    grid_search_mlp.fit(train_x, train_y)\n",
    "\n",
    "    return [grid_search_mlp.best_estimator_,grid_search_mlp.best_params_]"
   ]
  },
  {
   "cell_type": "markdown",
   "id": "b90a38d9",
   "metadata": {},
   "source": [
    "## 3. Funciones para monitorización de cpu y ram"
   ]
  },
  {
   "cell_type": "code",
   "execution_count": 7,
   "id": "d615d763",
   "metadata": {},
   "outputs": [],
   "source": [
    "def lists_cpu_and_ram_mlp_train():\n",
    "    global running\n",
    "    running = True\n",
    "\n",
    "    currentProcess = psutil.Process()\n",
    "    while running:\n",
    "        cpu_percent_list_train_mlp.append(currentProcess.cpu_percent(interval=1)/cores)\n",
    "        memory_usage_list_train_mlp.append(currentProcess.memory_percent())\n",
    "        \n",
    "def start_mlp_train():\n",
    "    global t\n",
    "\n",
    "    # create thread and start it\n",
    "    t = threading.Thread(target=lists_cpu_and_ram_mlp_train)\n",
    "    t.start()\n",
    "\n",
    "def stop_mlp_train():\n",
    "    global running\n",
    "    global t\n",
    "\n",
    "    # use `running` to stop loop in thread so thread will end\n",
    "    running = False\n",
    "\n",
    "    # wait for thread's end\n",
    "    t.join()"
   ]
  },
  {
   "cell_type": "code",
   "execution_count": 8,
   "id": "ebd07f18",
   "metadata": {},
   "outputs": [],
   "source": [
    "def lists_cpu_and_ram_mlp_test():\n",
    "    global running\n",
    "    running = True\n",
    "    currentProcess = psutil.Process()\n",
    "\n",
    "    while running:\n",
    "        cpu_percent_list_test_mlp.append(currentProcess.cpu_percent(interval=1)/cores)\n",
    "        memory_usage_list_test_mlp.append(currentProcess.memory_percent())\n",
    "        \n",
    "def start_mlp_test():\n",
    "    global t\n",
    "\n",
    "    # create thread and start it\n",
    "    t = threading.Thread(target=lists_cpu_and_ram_mlp_test)\n",
    "    t.start()\n",
    "\n",
    "def stop_mlp_test():\n",
    "    global running\n",
    "    global t\n",
    "\n",
    "    # use `running` to stop loop in thread so thread will end\n",
    "    running = False\n",
    "\n",
    "    # wait for thread's end\n",
    "    t.join()"
   ]
  },
  {
   "cell_type": "markdown",
   "id": "c8ee2ad7",
   "metadata": {},
   "source": [
    "## 4. Funcion para entrenar y testear el modelo"
   ]
  },
  {
   "cell_type": "code",
   "execution_count": 9,
   "id": "7d993663",
   "metadata": {},
   "outputs": [],
   "source": [
    "def entrenamientoyresultados_mlp(modelo):\n",
    "    \n",
    "    clf_mlp = modelo\n",
    "    #Empezamos a contar el tiempo de entrenamiento\n",
    "    startTrainingTime_mlp = time.time()\n",
    "    \n",
    "    # Entrenamiento\n",
    "    start_mlp_train()\n",
    "    try:\n",
    "        clf_mlp.fit(train_x, train_y)\n",
    "    finally:\n",
    "        stop_mlp_train()\n",
    "\n",
    "\n",
    "    #Terminamos de contar el tiempo de entrenamiento\n",
    "    endTrainingTime_mlp = time.time()\n",
    "\n",
    "    #Calculamos el tiempo de entrenamiento\n",
    "    trainingTime_mlp = endTrainingTime_mlp - startTrainingTime_mlp  \n",
    "\n",
    "    validResults_mlp = 0\n",
    "\n",
    "    #Empezamos a contar el tiempo de testeo\n",
    "    \n",
    "    startTestingTime_mlp = time.time()\n",
    "    \n",
    "    start_mlp_test()\n",
    "    try:\n",
    "        \n",
    "        predicted_mlp = clf_mlp.predict(test_x)\n",
    "        precision_mlp = metrics.accuracy_score(test_y, predicted_mlp)\n",
    "        \n",
    "    finally:\n",
    "        stop_mlp_test()\n",
    "    \n",
    "    #Terminamos de contar el tiempo de testeo\n",
    "    endTestingTime_mlp = time.time()\n",
    "\n",
    "    #Calculamos el tiempo de testeo\n",
    "    testingTime_mlp = endTestingTime_mlp - startTestingTime_mlp  # Calculation of testing time\n",
    "    \n",
    "    #precision_mlp = round((validResults_mlp / testingSamples) * 100, 2)\n",
    "    \n",
    "    return precision_mlp*100,trainingTime_mlp, testingTime_mlp,clf_mlp,predicted_mlp"
   ]
  },
  {
   "cell_type": "markdown",
   "id": "f6cb3ba1",
   "metadata": {},
   "source": [
    "## 5. Resultados"
   ]
  },
  {
   "cell_type": "code",
   "execution_count": null,
   "id": "b9eec532",
   "metadata": {},
   "outputs": [
    {
     "name": "stderr",
     "output_type": "stream",
     "text": [
      "/home/tomas/Escritorio/TFG/quantum_env/lib/python3.8/site-packages/sklearn/neural_network/_multilayer_perceptron.py:691: UserWarning:\n",
      "\n",
      "Training interrupted by user.\n",
      "\n"
     ]
    }
   ],
   "source": [
    "parametros_mlp = busqueda_de_atributos_mlp(MLPClassifier())"
   ]
  },
  {
   "cell_type": "code",
   "execution_count": null,
   "id": "84bb0974",
   "metadata": {},
   "outputs": [],
   "source": [
    "print(parametros_mlp[0])"
   ]
  },
  {
   "cell_type": "code",
   "execution_count": null,
   "id": "d4dc1ea6",
   "metadata": {},
   "outputs": [],
   "source": [
    "print(parametros_mlp[1])"
   ]
  },
  {
   "cell_type": "code",
   "execution_count": 132,
   "id": "52aade9c",
   "metadata": {},
   "outputs": [],
   "source": [
    "#modelo_mlp = MLPClassifier(alpha=0.05, max_iter=7000,activation = 'relu', hidden_layer_sizes= (100,100,), solver = 'adam', learning_rate = 'adaptive')\n",
    "modelo_mlp = MLPClassifier(activation='relu', alpha=0.0001, hidden_layer_sizes=(100,50), learning_rate='adaptive', max_iter=25000, solver='adam')\n",
    "resultados_mlp = entrenamientoyresultados_mlp(modelo_mlp)"
   ]
  },
  {
   "cell_type": "code",
   "execution_count": 133,
   "id": "726e88ae",
   "metadata": {},
   "outputs": [
    {
     "name": "stdout",
     "output_type": "stream",
     "text": [
      "-------------------------------\n",
      "Muestras de entrenamiento:  17998\n",
      "Tiempo de entrenamiento:  28.04  s\n",
      "Muestras de testeo:  17998\n",
      "Tiempo de testeo:  1.0  s\n",
      "Precisión:  93.41619079610346 %\n",
      "-------------------------------\n",
      "Uso de CPU en entrenamiento:  [89.98333333333333, 92.31666666666666, 92.90833333333335, 95.73333333333333, 92.48333333333333, 93.22500000000001, 94.56666666666666, 96.5, 97.89166666666667, 96.05833333333334, 96.81666666666666, 96.30833333333334, 99.88333333333333, 99.15833333333335, 96.47500000000001, 99.39166666666667, 97.48333333333333, 100.05, 99.89166666666667, 99.89166666666667, 100.05833333333334, 99.96666666666665, 99.72500000000001, 96.8, 99.97500000000001, 99.8, 98.96666666666665, 96.64166666666667, 99.98333333333333, 99.72500000000001, 99.97500000000001, 99.97500000000001, 99.97500000000001, 99.97500000000001, 100.05833333333334, 99.80833333333334, 94.30833333333334, 64.39999999999999, 97.7, 99.72500000000001, 99.88333333333333, 99.63333333333333, 99.89166666666667, 99.89166666666667, 99.89166666666667, 99.72500000000001, 99.89166666666667, 99.80833333333334, 99.80833333333334, 99.89166666666667, 99.89166666666667, 99.80833333333334, 99.72500000000001, 99.88333333333333, 99.80833333333334, 99.88333333333333, 99.89166666666667, 99.89166666666667, 99.89166666666667, 99.89166666666667, 99.55, 99.80833333333334, 99.89166666666667, 99.80833333333334, 99.72500000000001, 23.375]\n",
      "-------------------------------\n",
      "Uso de CPU en test:  [11.816666666666668, 11.641666666666666]\n",
      "-------------------------------\n",
      "Uso de RAM en entrenamiento:  [4.380668116803679, 4.380668116803679, 4.380668116803679, 4.380668116803679, 4.380668116803679, 4.380668116803679, 4.380668116803679, 4.380668116803679, 4.380668116803679, 4.380668116803679, 4.380668116803679, 4.380668116803679, 4.380668116803679, 4.380668116803679, 4.380668116803679, 4.380668116803679, 4.380668116803679, 4.380668116803679, 4.380668116803679, 4.380668116803679, 4.380668116803679, 4.380668116803679, 4.380668116803679, 4.380668116803679, 4.380668116803679, 4.380668116803679, 4.380668116803679, 4.380668116803679, 4.380668116803679, 4.380668116803679, 4.380668116803679, 4.380668116803679, 4.380668116803679, 4.380668116803679, 4.380668116803679, 4.380668116803679, 4.380668116803679, 4.380668116803679, 9.436189984881322, 9.436189984881322, 9.436189984881322, 9.436189984881322, 9.436189984881322, 9.436189984881322, 9.436189984881322, 9.436189984881322, 9.436189984881322, 9.436189984881322, 9.436189984881322, 9.436189984881322, 9.436189984881322, 9.436189984881322, 9.436189984881322, 9.436189984881322, 9.436189984881322, 9.436189984881322, 9.436189984881322, 9.436189984881322, 9.436189984881322, 9.436189984881322, 9.436189984881322, 9.436189984881322, 9.436189984881322, 9.436189984881322, 9.436189984881322, 9.436189984881322]\n",
      "-------------------------------\n",
      "Uso de RAM en test:  [4.383060078431682, 9.436263963076003]\n"
     ]
    }
   ],
   "source": [
    "#print(\"Resultados con parametros: \" + str(modelo[1]))\n",
    "print(\"-------------------------------\")\n",
    "print(\"Muestras de entrenamiento: \", trainingSamples)\n",
    "print(\"Tiempo de entrenamiento: \", round(resultados_mlp[1], 2), \" s\")\n",
    "print(\"Muestras de testeo: \", testingSamples)\n",
    "print(\"Tiempo de testeo: \", round(resultados_mlp[2], 2), \" s\")\n",
    "print(\"Precisión: \", resultados_mlp[0], \"%\")\n",
    "print(\"-------------------------------\")\n",
    "print(\"Uso de CPU en entrenamiento: \", cpu_percent_list_train_mlp)\n",
    "print(\"-------------------------------\")\n",
    "print(\"Uso de CPU en test: \", cpu_percent_list_test_mlp)\n",
    "print(\"-------------------------------\")\n",
    "print(\"Uso de RAM en entrenamiento: \", memory_usage_list_train_mlp)\n",
    "print(\"-------------------------------\")\n",
    "print(\"Uso de RAM en test: \", memory_usage_list_test_mlp)"
   ]
  },
  {
   "cell_type": "code",
   "execution_count": 12,
   "id": "19eab7b5",
   "metadata": {},
   "outputs": [],
   "source": [
    "predicion_mlp = resultados_mlp[4]"
   ]
  },
  {
   "cell_type": "code",
   "execution_count": 13,
   "id": "cd5823ba",
   "metadata": {},
   "outputs": [
    {
     "data": {
      "image/png": "[encoded data removed]",
      "text/plain": [
       "<Figure size 1000x1000 with 2 Axes>"
      ]
     },
     "metadata": {},
     "output_type": "display_data"
    }
   ],
   "source": [
    "cm = metrics.confusion_matrix(test_y, predicion_mlp)\n",
    "plt.figure(figsize=(10,10))\n",
    "seaborn.heatmap(cm, annot=True, linewidths=.25, square = True, cmap = 'Blues_r')\n",
    "plt.ylabel('Actual label');\n",
    "plt.xlabel('Predicted label');\n",
    "all_sample_title = 'Accuracy Score: {0}%'.format(resultados_mlp[0])\n",
    "plt.title(all_sample_title, size = 15);"
   ]
  },
  {
   "cell_type": "code",
   "execution_count": 14,
   "id": "6ea6a6cc",
   "metadata": {},
   "outputs": [
    {
     "data": {
      "image/png": "[encoded data removed]",
      "text/plain": [
       "<Figure size 600x300 with 1 Axes>"
      ]
     },
     "metadata": {},
     "output_type": "display_data"
    }
   ],
   "source": [
    "fig, ax = plt.subplots(figsize=(6,3))\n",
    "modelo = resultados_mlp[3]\n",
    "ax.plot(modelo.loss_curve_)\n",
    "\n",
    "plt.xlabel(\"number of steps\") \n",
    "plt.ylabel(\"Loss\")\n",
    "plt.title(\"loss function\")\n",
    "plt.show()"
   ]
  },
  {
   "cell_type": "markdown",
   "id": "8a48b721",
   "metadata": {},
   "source": [
    "# 2. Keras CNN"
   ]
  },
  {
   "cell_type": "markdown",
   "id": "7415f300",
   "metadata": {},
   "source": [
    "## 1. Recogida de datos"
   ]
  },
  {
   "cell_type": "code",
   "execution_count": 15,
   "id": "7d38c2d1",
   "metadata": {},
   "outputs": [],
   "source": [
    "cpu_percent_list_train_keras = []\n",
    "memory_usage_list_train_keras = []\n",
    "cpu_percent_list_test_keras = []\n",
    "memory_usage_list_test_keras = []"
   ]
  },
  {
   "cell_type": "code",
   "execution_count": 16,
   "id": "18964986",
   "metadata": {},
   "outputs": [],
   "source": [
    "(train_x, train_y), (test_x, test_y) = mnist.load_data()"
   ]
  },
  {
   "cell_type": "code",
   "execution_count": 17,
   "id": "c9caec65",
   "metadata": {},
   "outputs": [],
   "source": [
    "def lists_cpu_and_ram_keras_train():\n",
    "    global running\n",
    "    running = True\n",
    "\n",
    "    currentProcess = psutil.Process()\n",
    "    while running:\n",
    "        cpu_percent_list_train_keras.append(currentProcess.cpu_percent(interval=1)/cores)\n",
    "        memory_usage_list_train_keras.append(currentProcess.memory_percent())\n",
    "        \n",
    "def start_keras_train():\n",
    "    global t\n",
    "\n",
    "    # create thread and start it\n",
    "    t = threading.Thread(target=lists_cpu_and_ram_keras_train)\n",
    "    t.start()\n",
    "\n",
    "def stop_keras_train():\n",
    "    global running\n",
    "    global t\n",
    "\n",
    "    # use `running` to stop loop in thread so thread will end\n",
    "    running = False\n",
    "\n",
    "    # wait for thread's end\n",
    "    t.join()"
   ]
  },
  {
   "cell_type": "code",
   "execution_count": 18,
   "id": "1d45df33",
   "metadata": {},
   "outputs": [],
   "source": [
    "def lists_cpu_and_ram_keras_test():\n",
    "    global running\n",
    "    running = True\n",
    "    currentProcess = psutil.Process()\n",
    "\n",
    "    while running:\n",
    "        cpu_percent_list_test_keras.append(currentProcess.cpu_percent(interval=1)/cores)\n",
    "        memory_usage_list_test_keras.append(currentProcess.memory_percent())\n",
    "        \n",
    "def start_keras_test():\n",
    "    global t\n",
    "\n",
    "    # create thread and start it\n",
    "    t = threading.Thread(target=lists_cpu_and_ram_keras_test)\n",
    "    t.start()\n",
    "\n",
    "def stop_keras_test():\n",
    "    global running\n",
    "    global t\n",
    "\n",
    "    # use `running` to stop loop in thread so thread will end\n",
    "    running = False\n",
    "\n",
    "    # wait for thread's end\n",
    "    t.join()"
   ]
  },
  {
   "cell_type": "markdown",
   "id": "f8e3e116",
   "metadata": {},
   "source": [
    "## 2. Ajuste"
   ]
  },
  {
   "cell_type": "code",
   "execution_count": 19,
   "id": "3b85dda2",
   "metadata": {},
   "outputs": [],
   "source": [
    "train_indices = np.where((train_y == 3) | (train_y == 6) | (train_y == 9))\n",
    "x_train_filtered = train_x[train_indices]\n",
    "y_train_filtered = train_y[train_indices]\n",
    "test_indices = np.where((test_y == 3) | (test_y == 6) | (test_y == 9))\n",
    "x_test_filtered = test_x[test_indices]\n",
    "y_test_filtered = test_y[test_indices]\n",
    "\n",
    "y_train_filtered[y_train_filtered == 3] = 0\n",
    "y_train_filtered[y_train_filtered == 6] = 1\n",
    "y_train_filtered[y_train_filtered == 9] = 2\n",
    "y_test_filtered[y_test_filtered == 3] = 0\n",
    "y_test_filtered[y_test_filtered == 6] = 1\n",
    "y_test_filtered[y_test_filtered == 9] = 2\n",
    "\n",
    "train_y = y_train_filtered\n",
    "test_y = y_test_filtered\n",
    "\n",
    "train_x = np.array([resize(image, (4, 4)) for image in x_train_filtered])\n",
    "test_x = np.array([resize(image, (4, 4)) for image in x_test_filtered])\n",
    "\n",
    "train_x = np.expand_dims(train_x, axis=3)\n",
    "test_x = np.expand_dims(test_x, axis=3)\n",
    "\n",
    "train_x = train_x.astype('float32')\n",
    "test_x = test_x.astype('float32')\n",
    "train_x /= 255\n",
    "test_x /= 255"
   ]
  },
  {
   "cell_type": "code",
   "execution_count": 20,
   "id": "6560c805",
   "metadata": {},
   "outputs": [],
   "source": [
    "num_classes = 3"
   ]
  },
  {
   "cell_type": "code",
   "execution_count": 21,
   "id": "c2b1e4ec",
   "metadata": {},
   "outputs": [],
   "source": [
    "train_y = to_categorical(train_y, num_classes)\n",
    "test_y = to_categorical(test_y, num_classes)"
   ]
  },
  {
   "cell_type": "markdown",
   "id": "252bc776",
   "metadata": {},
   "source": [
    "## 3. Creacion del modelo"
   ]
  },
  {
   "cell_type": "code",
   "execution_count": 22,
   "id": "2d8f65e3",
   "metadata": {},
   "outputs": [],
   "source": [
    "model_keras = Sequential()\n",
    "model_keras.add(Conv2D(input_shape=(4, 4, 1), filters=32, strides=(2, 2), padding='same', activation='relu', kernel_size=(3, 3)))\n",
    "model_keras.add(Conv2D(filters=64, strides=(2, 2), padding='same', activation='relu', kernel_size=(3, 3)))\n",
    "model_keras.add(Conv2D(filters=128, strides=(2, 2), padding='same', activation='relu', kernel_size=(3, 3)))\n",
    "model_keras.add(Flatten())\n",
    "model_keras.add(Dense(128, activation='relu'))\n",
    "model_keras.add(Dropout(0.5))\n",
    "model_keras.add(BatchNormalization())\n",
    "model_keras.add(Dense(32, activation='relu'))\n",
    "model_keras.add(Dense(3, activation='softmax'))"
   ]
  },
  {
   "cell_type": "code",
   "execution_count": 23,
   "id": "29e1e23f",
   "metadata": {},
   "outputs": [
    {
     "name": "stdout",
     "output_type": "stream",
     "text": [
      "Model: \"sequential\"\n",
      "_________________________________________________________________\n",
      " Layer (type)                Output Shape              Param #   \n",
      "=================================================================\n",
      " conv2d (Conv2D)             (None, 2, 2, 32)          320       \n",
      "                                                                 \n",
      " conv2d_1 (Conv2D)           (None, 1, 1, 64)          18496     \n",
      "                                                                 \n",
      " conv2d_2 (Conv2D)           (None, 1, 1, 128)         73856     \n",
      "                                                                 \n",
      " flatten (Flatten)           (None, 128)               0         \n",
      "                                                                 \n",
      " dense (Dense)               (None, 128)               16512     \n",
      "                                                                 \n",
      " dropout (Dropout)           (None, 128)               0         \n",
      "                                                                 \n",
      " batch_normalization (BatchN  (None, 128)              512       \n",
      " ormalization)                                                   \n",
      "                                                                 \n",
      " dense_1 (Dense)             (None, 32)                4128      \n",
      "                                                                 \n",
      " dense_2 (Dense)             (None, 3)                 99        \n",
      "                                                                 \n",
      "=================================================================\n",
      "Total params: 113,923\n",
      "Trainable params: 113,667\n",
      "Non-trainable params: 256\n",
      "_________________________________________________________________\n",
      "None\n"
     ]
    }
   ],
   "source": [
    "print(model_keras.summary())"
   ]
  },
  {
   "cell_type": "code",
   "execution_count": 24,
   "id": "299598f6",
   "metadata": {},
   "outputs": [
    {
     "name": "stdout",
     "output_type": "stream",
     "text": [
      "Epoch 1/10\n",
      "507/507 [==============================] - 2s 2ms/step - loss: 1.0986 - accuracy: 0.3387 - val_loss: 1.0983 - val_accuracy: 0.3533\n",
      "Epoch 2/10\n",
      "507/507 [==============================] - 1s 2ms/step - loss: 1.0987 - accuracy: 0.3356 - val_loss: 1.0982 - val_accuracy: 0.3533\n",
      "Epoch 3/10\n",
      "507/507 [==============================] - 1s 2ms/step - loss: 1.0984 - accuracy: 0.3416 - val_loss: 1.0971 - val_accuracy: 0.3533\n",
      "Epoch 4/10\n",
      "507/507 [==============================] - 1s 2ms/step - loss: 1.0672 - accuracy: 0.4338 - val_loss: 0.9032 - val_accuracy: 0.5850\n",
      "Epoch 5/10\n",
      "507/507 [==============================] - 1s 2ms/step - loss: 0.6452 - accuracy: 0.6606 - val_loss: 0.5474 - val_accuracy: 0.6622\n",
      "Epoch 6/10\n",
      "507/507 [==============================] - 1s 2ms/step - loss: 0.5426 - accuracy: 0.6952 - val_loss: 0.4772 - val_accuracy: 0.7567\n",
      "Epoch 7/10\n",
      "507/507 [==============================] - 1s 2ms/step - loss: 0.5175 - accuracy: 0.7218 - val_loss: 0.6118 - val_accuracy: 0.7039\n",
      "Epoch 8/10\n",
      "507/507 [==============================] - 1s 2ms/step - loss: 0.5042 - accuracy: 0.7432 - val_loss: 0.4318 - val_accuracy: 0.7894\n",
      "Epoch 9/10\n",
      "507/507 [==============================] - 1s 2ms/step - loss: 0.4826 - accuracy: 0.7626 - val_loss: 0.4442 - val_accuracy: 0.7544\n",
      "Epoch 10/10\n",
      "507/507 [==============================] - 1s 2ms/step - loss: 0.4591 - accuracy: 0.7818 - val_loss: 0.4278 - val_accuracy: 0.7767\n"
     ]
    }
   ],
   "source": [
    "adam = Adam(learning_rate=0.0001) # ajustar la tasa de aprendizaje\n",
    "epochs = 10\n",
    "batch_size = 32\n",
    "model_keras.compile(optimizer=adam, loss='categorical_crossentropy', metrics=['accuracy'])\n",
    "start_keras_train()\n",
    "history_keras = model_keras.fit(train_x, train_y, batch_size=batch_size, epochs=epochs, validation_split=0.1)\n",
    "stop_keras_train()"
   ]
  },
  {
   "cell_type": "code",
   "execution_count": 25,
   "id": "2706e404",
   "metadata": {},
   "outputs": [
    {
     "name": "stdout",
     "output_type": "stream",
     "text": [
      "Test loss: 0.4918350279331207\n",
      "Test accuracy: 0.7678871154785156\n"
     ]
    }
   ],
   "source": [
    "start_keras_test()\n",
    "score = model_keras.evaluate(test_x, test_y, verbose=0)\n",
    "stop_keras_test()\n",
    "print(\"Test loss:\", score[0])\n",
    "print(\"Test accuracy:\", score[1])"
   ]
  },
  {
   "cell_type": "markdown",
   "id": "cfd83e88",
   "metadata": {},
   "source": [
    "# 3. TensorFlow Quantum"
   ]
  },
  {
   "cell_type": "code",
   "execution_count": 26,
   "id": "049bde7c",
   "metadata": {},
   "outputs": [],
   "source": [
    "import tensorflow as tf\n",
    "import tensorflow_quantum as tfq\n",
    "import cirq\n",
    "import sympy\n",
    "import numpy as np\n",
    "import matplotlib.pyplot as plt\n",
    "\n",
    "from sklearn.model_selection import train_test_split\n",
    "from tensorflow.keras.datasets import mnist\n",
    "from tensorflow.keras.utils import to_categorical"
   ]
  },
  {
   "cell_type": "markdown",
   "id": "dbb2b17d",
   "metadata": {},
   "source": [
    "## 1. Inicialización de los datos"
   ]
  },
  {
   "cell_type": "code",
   "execution_count": 58,
   "id": "16dcde50",
   "metadata": {},
   "outputs": [],
   "source": [
    "cpu_percent_list_train_tfq = []\n",
    "memory_usage_list_train_tfq= []\n",
    "cpu_percent_list_test_tfq= []\n",
    "memory_usage_list_test_tfq= []"
   ]
  },
  {
   "cell_type": "code",
   "execution_count": 59,
   "id": "8530179f",
   "metadata": {},
   "outputs": [],
   "source": [
    "def lists_cpu_and_ram_tfq_train():\n",
    "    global running\n",
    "    running = True\n",
    "\n",
    "    currentProcess = psutil.Process()\n",
    "    while running:\n",
    "        cpu_percent_list_train_tfq.append(currentProcess.cpu_percent(interval=1)/cores)\n",
    "        memory_usage_list_train_tfq.append(currentProcess.memory_percent())\n",
    "        \n",
    "def start_tfq_train():\n",
    "    global t\n",
    "\n",
    "    # create thread and start it\n",
    "    t = threading.Thread(target=lists_cpu_and_ram_tfq_train)\n",
    "    t.start()\n",
    "\n",
    "def stop_tfq_train():\n",
    "    global running\n",
    "    global t\n",
    "\n",
    "    # use `running` to stop loop in thread so thread will end\n",
    "    running = False\n",
    "\n",
    "    # wait for thread's end\n",
    "    t.join()"
   ]
  },
  {
   "cell_type": "code",
   "execution_count": 60,
   "id": "cc753e83",
   "metadata": {},
   "outputs": [],
   "source": [
    "def lists_cpu_and_ram_tfq_test():\n",
    "    global running\n",
    "    running = True\n",
    "    currentProcess = psutil.Process()\n",
    "\n",
    "    while running:\n",
    "        cpu_percent_list_test_tfq.append(currentProcess.cpu_percent(interval=1)/cores)\n",
    "        memory_usage_list_test_tfq.append(currentProcess.memory_percent())\n",
    "        \n",
    "def start_tfq_test():\n",
    "    global t\n",
    "\n",
    "    # create thread and start it\n",
    "    t = threading.Thread(target=lists_cpu_and_ram_tfq_test)\n",
    "    t.start()\n",
    "\n",
    "def stop_tfq_test():\n",
    "    global running\n",
    "    global t\n",
    "\n",
    "    # use `running` to stop loop in thread so thread will end\n",
    "    running = False\n",
    "\n",
    "    # wait for thread's end\n",
    "    t.join()"
   ]
  },
  {
   "cell_type": "code",
   "execution_count": 61,
   "id": "fa2e7694",
   "metadata": {},
   "outputs": [],
   "source": [
    "(x_train, y_train), (x_test, y_test) = mnist.load_data()\n",
    "x_train, x_test = x_train[..., np.newaxis], x_test[..., np.newaxis]\n",
    "\n",
    "train_filter = np.where((y_train == 3) | (y_train == 6) | (y_train == 9))\n",
    "test_filter = np.where((y_test == 3) | (y_test == 6) | (y_test == 9))\n",
    "x_train, y_train = x_train[train_filter], y_train[train_filter]\n",
    "x_test, y_test = x_test[test_filter], y_test[test_filter]\n",
    "\n",
    "x_train = x_train.astype(\"float32\") / 255\n",
    "x_test = x_test.astype(\"float32\") / 255"
   ]
  },
  {
   "cell_type": "code",
   "execution_count": 62,
   "id": "483221cc",
   "metadata": {},
   "outputs": [],
   "source": [
    "num_classes = 3\n",
    "def map_labels(y):\n",
    "    label_mapping = {3: 0, 6: 1, 9: 2}\n",
    "    return np.array([label_mapping[label] for label in y])"
   ]
  },
  {
   "cell_type": "code",
   "execution_count": 63,
   "id": "bd6a78f5",
   "metadata": {},
   "outputs": [],
   "source": [
    "y_train_mapped = map_labels(y_train)\n",
    "y_test_mapped = map_labels(y_test)\n",
    "\n",
    "y_train = to_categorical(y_train_mapped, num_classes)\n",
    "y_test = to_categorical(y_test_mapped, num_classes)\n",
    "\n",
    "\n",
    "x_train, x_val, y_train, y_val = train_test_split(x_train, y_train, test_size=0.2, random_state=42)"
   ]
  },
  {
   "cell_type": "code",
   "execution_count": 64,
   "id": "00506606",
   "metadata": {},
   "outputs": [],
   "source": [
    "def downsample(image, size=(4, 4)):\n",
    "    return tf.image.resize(image, size)"
   ]
  },
  {
   "cell_type": "code",
   "execution_count": 65,
   "id": "66642365",
   "metadata": {},
   "outputs": [],
   "source": [
    "qubits = cirq.GridQubit.rect(4, 4)\n",
    "readout_operators = [cirq.Z(qubits[-1])]"
   ]
  },
  {
   "cell_type": "markdown",
   "id": "34eb6505",
   "metadata": {},
   "source": [
    "## 2. Clases necesarias"
   ]
  },
  {
   "cell_type": "code",
   "execution_count": 66,
   "id": "fb7b6946",
   "metadata": {},
   "outputs": [],
   "source": [
    "def generate_data_circuit(x):\n",
    "    circuit = cirq.Circuit()\n",
    "    qubits = cirq.GridQubit.rect(4, 4)\n",
    "    \n",
    "    for i, pixel in enumerate(x.flatten()):\n",
    "        if pixel:\n",
    "            circuit.append(cirq.ry(np.pi * pixel).on(qubits[i]))\n",
    "            circuit.append(cirq.rz(np.pi * pixel).on(qubits[i]))\n",
    "    \n",
    "    return circuit"
   ]
  },
  {
   "cell_type": "code",
   "execution_count": 67,
   "id": "57da4d30",
   "metadata": {},
   "outputs": [],
   "source": [
    "x_train_downsampled = np.array([downsample(x) for x in x_train])\n",
    "x_val_downsampled = np.array([downsample(x) for x in x_val])\n",
    "x_test_downsampled = np.array([downsample(x) for x in x_test])\n",
    "\n",
    "x_train_circuits = [generate_data_circuit(x) for x in x_train_downsampled]\n",
    "x_val_circuits = [generate_data_circuit(x) for x in x_val_downsampled]\n",
    "x_test_circuits = [generate_data_circuit(x) for x in x_test_downsampled]\n",
    "\n",
    "x_train_tfcirc = tfq.convert_to_tensor(x_train_circuits)\n",
    "x_val_tfcirc = tfq.convert_to_tensor(x_val_circuits)\n",
    "x_test_tfcirc = tfq.convert_to_tensor(x_test_circuits)"
   ]
  },
  {
   "cell_type": "code",
   "execution_count": 68,
   "id": "d92e426d",
   "metadata": {},
   "outputs": [],
   "source": [
    "def generate_modified_model_circuit(qubits):\n",
    "    model_circuit = cirq.Circuit()\n",
    "    symbols = sympy.symbols(\"theta(0:48)\")\n",
    "\n",
    "    for layer in range(3):\n",
    "        for i in range(0, 16, 4):\n",
    "            model_circuit += cirq.Circuit(\n",
    "                cirq.ry(symbols[16 * layer + i]).on(qubits[i]),\n",
    "                cirq.ry(symbols[16 * layer + i + 1]).on(qubits[i + 1]),\n",
    "                cirq.ry(symbols[16 * layer + i + 2]).on(qubits[i + 2]),\n",
    "                cirq.ry(symbols[16 * layer + i + 3]).on(qubits[i + 3]),\n",
    "            )\n",
    "\n",
    "            model_circuit += cirq.Circuit(\n",
    "                cirq.CZ(qubits[i], qubits[i + 1]),\n",
    "                cirq.CZ(qubits[i + 1], qubits[i + 2]),\n",
    "                cirq.CZ(qubits[i + 2], qubits[i + 3]),\n",
    "            )\n",
    "\n",
    "        model_circuit += cirq.Circuit(\n",
    "            cirq.CZ(qubits[0], qubits[3]),\n",
    "            cirq.CZ(qubits[12], qubits[15]),\n",
    "        )\n",
    "\n",
    "    return model_circuit"
   ]
  },
  {
   "cell_type": "markdown",
   "id": "fcfca70f",
   "metadata": {},
   "source": [
    "## 3. Modelo Híbrido"
   ]
  },
  {
   "cell_type": "code",
   "execution_count": 69,
   "id": "be22c486",
   "metadata": {},
   "outputs": [],
   "source": [
    "model_circuit = generate_modified_model_circuit(qubits)\n",
    "quantum_model = tfq.layers.PQC(model_circuit, readout_operators)"
   ]
  },
  {
   "cell_type": "code",
   "execution_count": 70,
   "id": "bf37fbe5",
   "metadata": {},
   "outputs": [],
   "source": [
    "inputs = tf.keras.Input(shape=(), dtype=tf.dtypes.string)\n",
    "quantum = quantum_model(inputs)\n",
    "\n",
    "dense_1 = tf.keras.layers.Dense(64, activation=tf.keras.activations.relu)(quantum)\n",
    "dense_2 = tf.keras.layers.Dense(32, activation=tf.keras.activations.relu)(dense_1)\n",
    "dropout = tf.keras.layers.Dropout(0.3)(dense_2)\n",
    "outputs = tf.keras.layers.Dense(num_classes, activation=tf.keras.activations.softmax)(dropout)"
   ]
  },
  {
   "cell_type": "code",
   "execution_count": 71,
   "id": "9d1b6268",
   "metadata": {},
   "outputs": [
    {
     "name": "stdout",
     "output_type": "stream",
     "text": [
      "Epoch 1/10\n",
      "450/450 [==============================] - 260s 576ms/step - loss: 1.0856 - accuracy: 0.3885 - val_loss: 1.0693 - val_accuracy: 0.4153\n",
      "Epoch 2/10\n",
      "450/450 [==============================] - 261s 580ms/step - loss: 1.0604 - accuracy: 0.4141 - val_loss: 1.0468 - val_accuracy: 0.4219\n",
      "Epoch 3/10\n",
      "450/450 [==============================] - 260s 578ms/step - loss: 1.0446 - accuracy: 0.4308 - val_loss: 1.0326 - val_accuracy: 0.4283\n",
      "Epoch 4/10\n",
      "450/450 [==============================] - 260s 578ms/step - loss: 1.0294 - accuracy: 0.4699 - val_loss: 1.0141 - val_accuracy: 0.5081\n",
      "Epoch 5/10\n",
      "450/450 [==============================] - 261s 579ms/step - loss: 1.0090 - accuracy: 0.5017 - val_loss: 0.9889 - val_accuracy: 0.5103\n",
      "Epoch 6/10\n",
      "450/450 [==============================] - 261s 579ms/step - loss: 0.9859 - accuracy: 0.5000 - val_loss: 0.9692 - val_accuracy: 0.5044\n",
      "Epoch 7/10\n",
      "450/450 [==============================] - 260s 578ms/step - loss: 0.9727 - accuracy: 0.4992 - val_loss: 0.9584 - val_accuracy: 0.5050\n",
      "Epoch 8/10\n",
      "450/450 [==============================] - 261s 580ms/step - loss: 0.9633 - accuracy: 0.5031 - val_loss: 0.9515 - val_accuracy: 0.5053\n",
      "Epoch 9/10\n",
      "450/450 [==============================] - 261s 581ms/step - loss: 0.9576 - accuracy: 0.4987 - val_loss: 0.9460 - val_accuracy: 0.5042\n",
      "Epoch 10/10\n",
      "450/450 [==============================] - 261s 580ms/step - loss: 0.9541 - accuracy: 0.5003 - val_loss: 0.9429 - val_accuracy: 0.5047\n"
     ]
    }
   ],
   "source": [
    "model_tfq = tf.keras.Model(inputs=inputs, outputs=outputs)\n",
    "model_tfq.compile(optimizer=tf.keras.optimizers.Adam(learning_rate=0.0001),\n",
    "              loss=tf.keras.losses.CategoricalCrossentropy(),\n",
    "              metrics=['accuracy'])\n",
    "\n",
    "start_tfq_train()\n",
    "history_tfq = model_tfq.fit(x_train_tfcirc, y_train, batch_size=32, epochs=10, verbose=1, validation_data=(x_val_tfcirc, y_val))\n",
    "stop_tfq_test()"
   ]
  },
  {
   "cell_type": "code",
   "execution_count": 122,
   "id": "523e234d",
   "metadata": {},
   "outputs": [
    {
     "name": "stdout",
     "output_type": "stream",
     "text": [
      "WARNING:tensorflow:Keras is training/fitting/evaluating on array-like data. Keras may not be optimized for this format, so if your input data format is supported by TensorFlow I/O (https://github.com/tensorflow/io) we recommend using that to load a Dataset instead.\n"
     ]
    },
    {
     "ename": "TypeError",
     "evalue": "Cannot convert value torch.int64 to a TensorFlow DType.",
     "output_type": "error",
     "traceback": [
      "\u001b[0;31m---------------------------------------------------------------------------\u001b[0m",
      "\u001b[0;31mTypeError\u001b[0m                                 Traceback (most recent call last)",
      "Cell \u001b[0;32mIn[122], line 2\u001b[0m\n\u001b[1;32m      1\u001b[0m start_tfq_test()\n\u001b[0;32m----> 2\u001b[0m test_loss, test_acc \u001b[38;5;241m=\u001b[39m \u001b[43mmodel_tfq\u001b[49m\u001b[38;5;241;43m.\u001b[39;49m\u001b[43mevaluate\u001b[49m\u001b[43m(\u001b[49m\u001b[43mx_test_tfcirc\u001b[49m\u001b[43m,\u001b[49m\u001b[43m \u001b[49m\u001b[43my_test\u001b[49m\u001b[43m,\u001b[49m\u001b[43m \u001b[49m\u001b[43mverbose\u001b[49m\u001b[38;5;241;43m=\u001b[39;49m\u001b[38;5;241;43m1\u001b[39;49m\u001b[43m)\u001b[49m\n\u001b[1;32m      3\u001b[0m stop_tfq_test()\n\u001b[1;32m      4\u001b[0m \u001b[38;5;28mprint\u001b[39m(\u001b[38;5;124m\"\u001b[39m\u001b[38;5;124mTest accuracy:\u001b[39m\u001b[38;5;124m\"\u001b[39m, test_acc)\n",
      "File \u001b[0;32m~/Escritorio/TFG/quantum_env/lib/python3.8/site-packages/keras/utils/traceback_utils.py:67\u001b[0m, in \u001b[0;36mfilter_traceback.<locals>.error_handler\u001b[0;34m(*args, **kwargs)\u001b[0m\n\u001b[1;32m     65\u001b[0m \u001b[38;5;28;01mexcept\u001b[39;00m \u001b[38;5;167;01mException\u001b[39;00m \u001b[38;5;28;01mas\u001b[39;00m e:  \u001b[38;5;66;03m# pylint: disable=broad-except\u001b[39;00m\n\u001b[1;32m     66\u001b[0m   filtered_tb \u001b[38;5;241m=\u001b[39m _process_traceback_frames(e\u001b[38;5;241m.\u001b[39m__traceback__)\n\u001b[0;32m---> 67\u001b[0m   \u001b[38;5;28;01mraise\u001b[39;00m e\u001b[38;5;241m.\u001b[39mwith_traceback(filtered_tb) \u001b[38;5;28;01mfrom\u001b[39;00m \u001b[38;5;28mNone\u001b[39m\n\u001b[1;32m     68\u001b[0m \u001b[38;5;28;01mfinally\u001b[39;00m:\n\u001b[1;32m     69\u001b[0m   \u001b[38;5;28;01mdel\u001b[39;00m filtered_tb\n",
      "File \u001b[0;32m~/Escritorio/TFG/quantum_env/lib/python3.8/site-packages/tensorflow/python/framework/dtypes.py:725\u001b[0m, in \u001b[0;36mas_dtype\u001b[0;34m(type_value)\u001b[0m\n\u001b[1;32m    722\u001b[0m \u001b[38;5;28;01mif\u001b[39;00m \u001b[38;5;28misinstance\u001b[39m(type_value, _dtypes\u001b[38;5;241m.\u001b[39mDType):\n\u001b[1;32m    723\u001b[0m   \u001b[38;5;28;01mreturn\u001b[39;00m _INTERN_TABLE[type_value\u001b[38;5;241m.\u001b[39mas_datatype_enum]\n\u001b[0;32m--> 725\u001b[0m \u001b[38;5;28;01mraise\u001b[39;00m \u001b[38;5;167;01mTypeError\u001b[39;00m(\u001b[38;5;124mf\u001b[39m\u001b[38;5;124m\"\u001b[39m\u001b[38;5;124mCannot convert value \u001b[39m\u001b[38;5;132;01m{\u001b[39;00mtype_value\u001b[38;5;132;01m!r}\u001b[39;00m\u001b[38;5;124m to a TensorFlow DType.\u001b[39m\u001b[38;5;124m\"\u001b[39m)\n",
      "\u001b[0;31mTypeError\u001b[0m: Cannot convert value torch.int64 to a TensorFlow DType."
     ]
    }
   ],
   "source": [
    "start_tfq_test()\n",
    "test_loss, test_acc = model_tfq.evaluate(x_test_tfcirc, y_test, verbose=1)\n",
    "stop_tfq_test()\n",
    "print(\"Test accuracy:\", test_acc)"
   ]
  },
  {
   "cell_type": "markdown",
   "id": "c2fd2901",
   "metadata": {},
   "source": [
    "# 4. Qiskit"
   ]
  },
  {
   "cell_type": "markdown",
   "id": "5266a29f",
   "metadata": {},
   "source": [
    "## 1. Datos"
   ]
  },
  {
   "cell_type": "code",
   "execution_count": 74,
   "id": "066a8e46",
   "metadata": {},
   "outputs": [],
   "source": [
    "cpu_percent_list_train_q= []\n",
    "memory_usage_list_train_q= []\n",
    "cpu_percent_list_test_q= []\n",
    "memory_usage_list_test_q= []\n",
    "\n",
    "def lists_cpu_and_ram_q_train():\n",
    "    global running\n",
    "    running = True\n",
    "\n",
    "    currentProcess = psutil.Process()\n",
    "    while running:\n",
    "        cpu_percent_list_train_q.append(currentProcess.cpu_percent(interval=1)/cores)\n",
    "        memory_usage_list_train_q.append(currentProcess.memory_percent())\n",
    "        \n",
    "def start_q_train():\n",
    "    global t\n",
    "\n",
    "    # create thread and start it\n",
    "    t = threading.Thread(target=lists_cpu_and_ram_q_train)\n",
    "    t.start()\n",
    "\n",
    "def stop_q_train():\n",
    "    global running\n",
    "    global t\n",
    "\n",
    "    # use `running` to stop loop in thread so thread will end\n",
    "    running = False\n",
    "\n",
    "    # wait for thread's end\n",
    "    t.join()\n",
    "    \n",
    "def lists_cpu_and_ram_q_test():\n",
    "    global running\n",
    "    running = True\n",
    "    currentProcess = psutil.Process()\n",
    "\n",
    "    while running:\n",
    "        cpu_percent_list_test_q.append(currentProcess.cpu_percent(interval=1)/cores)\n",
    "        memory_usage_list_test_q.append(currentProcess.memory_percent())\n",
    "        \n",
    "def start_q_test():\n",
    "    global t\n",
    "\n",
    "    # create thread and start it\n",
    "    t = threading.Thread(target=lists_cpu_and_ram_q_test)\n",
    "    t.start()\n",
    "\n",
    "def stop_q_test():\n",
    "    global running\n",
    "    global t\n",
    "\n",
    "    # use `running` to stop loop in thread so thread will end\n",
    "    running = False\n",
    "\n",
    "    # wait for thread's end\n",
    "    t.join()"
   ]
  },
  {
   "cell_type": "code",
   "execution_count": 75,
   "id": "6d5f8dcd",
   "metadata": {},
   "outputs": [],
   "source": [
    "class QuantumCircuit:\n",
    "    \n",
    "    def __init__(self, n_qubits, backend, shots):\n",
    "        self._circuit = qiskit.QuantumCircuit(n_qubits)\n",
    "        \n",
    "        all_qubits = [i for i in range(n_qubits)]\n",
    "        self.theta = qiskit.circuit.Parameter('theta')\n",
    "        \n",
    "        self._circuit.h(all_qubits)\n",
    "        self._circuit.barrier()\n",
    "        self._circuit.ry(self.theta, all_qubits)\n",
    "        \n",
    "        self._circuit.measure_all()\n",
    "\n",
    "        self.backend = backend\n",
    "        self.shots = shots\n",
    "    \n",
    "    def run(self, thetas):\n",
    "        t_qc = transpile(self._circuit,\n",
    "                         self.backend)\n",
    "        qobj = assemble(t_qc,\n",
    "                        shots=self.shots,\n",
    "                        parameter_binds = [{self.theta: theta} for theta in thetas])\n",
    "        job = self.backend.run(qobj)\n",
    "        result = job.result().get_counts()\n",
    "        \n",
    "        counts = np.array(list(result.values()))\n",
    "        states = np.array(list(result.keys())).astype(float)\n",
    "        probabilities = counts / self.shots\n",
    "        expectation = np.sum(states * probabilities)\n",
    "        \n",
    "        return np.array([expectation])\n"
   ]
  },
  {
   "cell_type": "code",
   "execution_count": 76,
   "id": "fb717743",
   "metadata": {},
   "outputs": [],
   "source": [
    "class HybridFunction(Function):\n",
    "    \n",
    "    @staticmethod\n",
    "    def forward(ctx, inputs, quantum_circuit, shift):\n",
    "        ctx.shift = shift\n",
    "        ctx.quantum_circuit = quantum_circuit\n",
    "\n",
    "        expectation_z = []\n",
    "        for input in inputs:\n",
    "            expectation_z.append(ctx.quantum_circuit.run(input.tolist()))\n",
    "        result = torch.tensor(expectation_z)\n",
    "        \n",
    "        ctx.save_for_backward(inputs, result)\n",
    "        return result\n",
    "        \n",
    "    @staticmethod\n",
    "    def backward(ctx, grad_output):\n",
    "        input, expectation_z = ctx.saved_tensors\n",
    "        input_list = np.array(input.tolist())\n",
    "        \n",
    "        shift_right = input_list + np.ones(input_list.shape) * ctx.shift\n",
    "        shift_left = input_list - np.ones(input_list.shape) * ctx.shift\n",
    "        \n",
    "        gradients = np.zeros_like(input_list)\n",
    "        for i in range(len(input_list)):\n",
    "            expectation_right = ctx.quantum_circuit.run(shift_right[i])\n",
    "            expectation_left  = ctx.quantum_circuit.run(shift_left[i])\n",
    "\n",
    "            gradient = torch.tensor([expectation_right]) - torch.tensor([expectation_left])\n",
    "            gradients[i] = gradient\n",
    "\n",
    "        return torch.tensor([gradients]).float() * grad_output.float(), None, None\n",
    "\n",
    "class Hybrid(nn.Module):\n",
    "    \n",
    "    def __init__(self, backend, shots, shift):\n",
    "        super(Hybrid, self).__init__()\n",
    "        self.quantum_circuit = QuantumCircuit(4, backend, shots)\n",
    "        self.shift = shift\n",
    "        \n",
    "    def forward(self, input):\n",
    "        return HybridFunction.apply(input, self.quantum_circuit, self.shift)\n"
   ]
  },
  {
   "cell_type": "code",
   "execution_count": 78,
   "id": "d99278be",
   "metadata": {},
   "outputs": [],
   "source": [
    "from torchvision import datasets, transforms\n",
    "n_samples = None\n",
    "batch_size = 32\n",
    "\n",
    "X_train = datasets.MNIST(root='./data', train=True, download=True,\n",
    "                         transform=transforms.Compose([transforms.ToTensor()]))\n",
    "\n",
    "idx_3 = np.where(X_train.targets == 3)[0][:n_samples]\n",
    "idx_6 = np.where(X_train.targets == 6)[0][:n_samples]\n",
    "idx_9 = np.where(X_train.targets == 9)[0][:n_samples]\n",
    "idx = np.concatenate((idx_3, idx_6, idx_9), axis=0)\n",
    "\n",
    "X_train.data = X_train.data[idx]\n",
    "X_train.targets = X_train.targets[idx]\n",
    "X_train.targets[X_train.targets == 3] = 0\n",
    "X_train.targets[X_train.targets == 6] = 1\n",
    "X_train.targets[X_train.targets == 9] = 2\n",
    "\n",
    "X_train.data = torch.nn.functional.interpolate(X_train.data.unsqueeze(1).float(), size=(4,4)).squeeze()\n",
    "\n",
    "X_train.data = X_train.data/255.0\n",
    "\n",
    "train_loader = torch.utils.data.DataLoader(X_train, batch_size=batch_size, shuffle=True)"
   ]
  },
  {
   "cell_type": "code",
   "execution_count": 79,
   "id": "aa9e41e3",
   "metadata": {},
   "outputs": [],
   "source": [
    "X_test = datasets.MNIST(root='./data', train=False, download=True,\n",
    "                        transform=transforms.Compose([transforms.ToTensor()]))\n",
    "\n",
    "idy_3 = np.where(X_test.targets == 3)[0][:n_samples]\n",
    "idy_6 = np.where(X_test.targets == 6)[0][:n_samples]\n",
    "idy_9 = np.where(X_test.targets == 9)[0][:n_samples]\n",
    "idy = np.concatenate((idy_3, idy_6, idy_9), axis=0)\n",
    "\n",
    "X_test.data = X_test.data[idy]\n",
    "X_test.targets = X_test.targets[idy]\n",
    "X_test.targets[X_test.targets == 3] = 0\n",
    "X_test.targets[X_test.targets == 6] = 1\n",
    "X_test.targets[X_test.targets == 9] = 2\n",
    "\n",
    "X_test.data = torch.nn.functional.interpolate(X_test.data.unsqueeze(1).float(), size=(4,4)).squeeze()\n",
    "\n",
    "X_test.data = X_test.data/255.0\n",
    "\n",
    "test_loader = torch.utils.data.DataLoader(X_test, batch_size=batch_size, shuffle=True)"
   ]
  },
  {
   "cell_type": "code",
   "execution_count": 80,
   "id": "7c7f9867",
   "metadata": {},
   "outputs": [],
   "source": [
    "X_train_numpy = np.array(X_train.data)\n",
    "y_train_numpy = np.array(X_train.targets)\n",
    "X_train = torch.from_numpy(X_train_numpy).float()\n",
    "y_train = torch.from_numpy(y_train_numpy)\n",
    "\n",
    "X_test_numpy = np.array(X_test.data)\n",
    "y_test_numpy = np.array(X_test.targets)\n",
    "X_test = torch.from_numpy(X_test_numpy).float()\n",
    "y_test = torch.from_numpy(y_test_numpy)"
   ]
  },
  {
   "cell_type": "code",
   "execution_count": 81,
   "id": "cee54286",
   "metadata": {},
   "outputs": [],
   "source": [
    "class Net(nn.Module):\n",
    "    def __init__(self):\n",
    "        super(Net, self).__init__()\n",
    "        self.conv1 = nn.Conv2d(1, 12, kernel_size=2, padding=1)\n",
    "        self.conv2 = nn.Conv2d(12, 24, kernel_size=2, padding=1)\n",
    "        self.dropout = nn.Dropout2d()\n",
    "        self.fc1 = nn.Linear(24, 16)\n",
    "        self.fc2 = nn.Linear(16, 3)  # Cambiar a 3 neuronas de salida\n",
    "        self.hybrid = [Hybrid(qiskit.Aer.get_backend('qasm_simulator'), 100, np.pi / 2) for i in range(10)]\n",
    "\n",
    "    def forward(self, x):\n",
    "        x = F.relu(self.conv1(x))\n",
    "        x = F.max_pool2d(x, 2) # cambiar el tamaño de la agrupación máxima de 1 a 2\n",
    "        x = F.relu(self.conv2(x))\n",
    "        x = F.max_pool2d(x, 2) # cambiar el tamaño de la agrupación máxima de 1 a 2\n",
    "        x = self.dropout(x)\n",
    "        x = torch.flatten(x, start_dim=1)\n",
    "        x = F.relu(self.fc1(x))\n",
    "        x = self.fc2(x)\n",
    "        x = torch.chunk(x, 10, dim=1)\n",
    "        x = tuple([hy(x_) for hy, x_ in zip(self.hybrid, x)])\n",
    "        return torch.cat(x, -1)\n"
   ]
  },
  {
   "cell_type": "code",
   "execution_count": 84,
   "id": "235a21de",
   "metadata": {},
   "outputs": [],
   "source": [
    "model_q = Net()"
   ]
  },
  {
   "cell_type": "code",
   "execution_count": 85,
   "id": "9cf5d39c",
   "metadata": {
    "scrolled": false
   },
   "outputs": [
    {
     "name": "stderr",
     "output_type": "stream",
     "text": [
      "/tmp/ipykernel_11067/4047060668.py:11: UserWarning:\n",
      "\n",
      "Creating a tensor from a list of numpy.ndarrays is extremely slow. Please consider converting the list to a single numpy.ndarray with numpy.array() before converting to a tensor. (Triggered internally at ../torch/csrc/utils/tensor_new.cpp:230.)\n",
      "\n"
     ]
    },
    {
     "name": "stdout",
     "output_type": "stream",
     "text": [
      "Training [10%]\tLoss: 71.0167\n",
      "Training [20%]\tLoss: 48.2801\n",
      "Training [30%]\tLoss: 45.6448\n",
      "Training [40%]\tLoss: 44.3264\n",
      "Training [50%]\tLoss: 43.2812\n",
      "Training [60%]\tLoss: 43.5713\n",
      "Training [70%]\tLoss: 42.7230\n",
      "Training [80%]\tLoss: 43.0182\n",
      "Training [90%]\tLoss: 43.2566\n",
      "Training [100%]\tLoss: 42.9460\n"
     ]
    }
   ],
   "source": [
    "optimizer = optim.Adam(model_q.parameters(), lr=0.0001)\n",
    "loss_func = nn.CrossEntropyLoss()\n",
    "\n",
    "epochs = 10\n",
    "loss_list = []\n",
    "\n",
    "start_q_train()\n",
    "model_q.train()\n",
    "for epoch in range(epochs):\n",
    "    total_loss = []\n",
    "    for batch_idx, (data, target) in enumerate(train_loader):\n",
    "        optimizer.zero_grad()\n",
    "  \n",
    "        output = model_q(data)\n",
    "\n",
    "        # Calculating loss\n",
    "        loss = loss_func(output, target)\n",
    "\n",
    "        # Backward pass\n",
    "        loss.backward()\n",
    "\n",
    "        # Optimize the weights\n",
    "        optimizer.step()\n",
    "        \n",
    "        total_loss.append(loss.item())\n",
    "    loss_list.append(sum(total_loss)/len(total_loss))\n",
    "    print('Training [{:.0f}%]\\tLoss: {:.4f}'.format(\n",
    "        100. * (epoch + 1) / epochs, loss_list[-1]))\n",
    "\n",
    "stop_q_train()"
   ]
  },
  {
   "cell_type": "code",
   "execution_count": 119,
   "id": "fbd65de3",
   "metadata": {},
   "outputs": [
    {
     "name": "stdout",
     "output_type": "stream",
     "text": [
      "Performance on test data:\n",
      "\tLoss: 42.6326\n",
      "\tAccuracy: 34.1%\n"
     ]
    }
   ],
   "source": [
    "model_q.eval()\n",
    "start_q_test()\n",
    "with torch.no_grad():\n",
    "    \n",
    "    correct = 0\n",
    "    for batch_idx, (data, target) in enumerate(test_loader):\n",
    "        output = model_q(data)\n",
    "        \n",
    "        pred = output.argmax(dim=1, keepdim=True)\n",
    "        correct += pred.eq(target.view_as(pred)).sum().item()\n",
    "        \n",
    "        loss = loss_func(output, target)\n",
    "        total_loss.append(loss.item())\n",
    "        #ESTO PUEDE ESTAR MAL, MIRAR DE NUEVO\n",
    "        accuracy = correct / len(test_loader) * 100 / batch_size\n",
    "        \n",
    "    print('Performance on test data:\\n\\tLoss: {:.4f}\\n\\tAccuracy: {:.1f}%'.format(\n",
    "        sum(total_loss) / len(total_loss),\n",
    "        correct / len(test_loader) * 100 / batch_size)\n",
    "        )\n",
    "    \n",
    "stop_q_test()\n",
    "        "
   ]
  },
  {
   "cell_type": "markdown",
   "id": "df3951c5",
   "metadata": {},
   "source": [
    "# 5. Comparaciones"
   ]
  },
  {
   "cell_type": "code",
   "execution_count": 101,
   "id": "9c065e8e",
   "metadata": {},
   "outputs": [],
   "source": [
    "list_classifiers = ['MLP','Keras','TFQ','Qiskit']\n",
    "val_scores = [resultados_mlp[0], score[1]*100,test_acc*100,accuracy]"
   ]
  },
  {
   "cell_type": "code",
   "execution_count": 102,
   "id": "fbbe5bba",
   "metadata": {},
   "outputs": [
    {
     "data": {
      "application/vnd.plotly.v1+json": {
       "config": {
        "linkText": "Export to plot.ly",
        "plotlyServerURL": "https://plot.ly",
        "showLink": false
       },
       "data": [
        {
         "name": "Validation",
         "text": [
          "MLP",
          "Keras",
          "TFQ",
          "Qiskit"
         ],
         "type": "scatter",
         "x": [
          "MLP",
          "Keras",
          "TFQ",
          "Qiskit"
         ],
         "y": [
          93.65132683909977,
          76.78871154785156,
          50.1847505569458,
          32.97872340425532
         ]
        }
       ],
       "layout": {
        "autosize": false,
        "height": 500,
        "legend": {
         "orientation": "v",
         "x": 1.05,
         "y": 1
        },
        "template": {
         "data": {
          "bar": [
           {
            "error_x": {
             "color": "#2a3f5f"
            },
            "error_y": {
             "color": "#2a3f5f"
            },
            "marker": {
             "line": {
              "color": "#E5ECF6",
              "width": 0.5
             },
             "pattern": {
              "fillmode": "overlay",
              "size": 10,
              "solidity": 0.2
             }
            },
            "type": "bar"
           }
          ],
          "barpolar": [
           {
            "marker": {
             "line": {
              "color": "#E5ECF6",
              "width": 0.5
             },
             "pattern": {
              "fillmode": "overlay",
              "size": 10,
              "solidity": 0.2
             }
            },
            "type": "barpolar"
           }
          ],
          "carpet": [
           {
            "aaxis": {
             "endlinecolor": "#2a3f5f",
             "gridcolor": "white",
             "linecolor": "white",
             "minorgridcolor": "white",
             "startlinecolor": "#2a3f5f"
            },
            "baxis": {
             "endlinecolor": "#2a3f5f",
             "gridcolor": "white",
             "linecolor": "white",
             "minorgridcolor": "white",
             "startlinecolor": "#2a3f5f"
            },
            "type": "carpet"
           }
          ],
          "choropleth": [
           {
            "colorbar": {
             "outlinewidth": 0,
             "ticks": ""
            },
            "type": "choropleth"
           }
          ],
          "contour": [
           {
            "colorbar": {
             "outlinewidth": 0,
             "ticks": ""
            },
            "colorscale": [
             [
              0,
              "#0d0887"
             ],
             [
              0.1111111111111111,
              "#46039f"
             ],
             [
              0.2222222222222222,
              "#7201a8"
             ],
             [
              0.3333333333333333,
              "#9c179e"
             ],
             [
              0.4444444444444444,
              "#bd3786"
             ],
             [
              0.5555555555555556,
              "#d8576b"
             ],
             [
              0.6666666666666666,
              "#ed7953"
             ],
             [
              0.7777777777777778,
              "#fb9f3a"
             ],
             [
              0.8888888888888888,
              "#fdca26"
             ],
             [
              1,
              "#f0f921"
             ]
            ],
            "type": "contour"
           }
          ],
          "contourcarpet": [
           {
            "colorbar": {
             "outlinewidth": 0,
             "ticks": ""
            },
            "type": "contourcarpet"
           }
          ],
          "heatmap": [
           {
            "colorbar": {
             "outlinewidth": 0,
             "ticks": ""
            },
            "colorscale": [
             [
              0,
              "#0d0887"
             ],
             [
              0.1111111111111111,
              "#46039f"
             ],
             [
              0.2222222222222222,
              "#7201a8"
             ],
             [
              0.3333333333333333,
              "#9c179e"
             ],
             [
              0.4444444444444444,
              "#bd3786"
             ],
             [
              0.5555555555555556,
              "#d8576b"
             ],
             [
              0.6666666666666666,
              "#ed7953"
             ],
             [
              0.7777777777777778,
              "#fb9f3a"
             ],
             [
              0.8888888888888888,
              "#fdca26"
             ],
             [
              1,
              "#f0f921"
             ]
            ],
            "type": "heatmap"
           }
          ],
          "heatmapgl": [
           {
            "colorbar": {
             "outlinewidth": 0,
             "ticks": ""
            },
            "colorscale": [
             [
              0,
              "#0d0887"
             ],
             [
              0.1111111111111111,
              "#46039f"
             ],
             [
              0.2222222222222222,
              "#7201a8"
             ],
             [
              0.3333333333333333,
              "#9c179e"
             ],
             [
              0.4444444444444444,
              "#bd3786"
             ],
             [
              0.5555555555555556,
              "#d8576b"
             ],
             [
              0.6666666666666666,
              "#ed7953"
             ],
             [
              0.7777777777777778,
              "#fb9f3a"
             ],
             [
              0.8888888888888888,
              "#fdca26"
             ],
             [
              1,
              "#f0f921"
             ]
            ],
            "type": "heatmapgl"
           }
          ],
          "histogram": [
           {
            "marker": {
             "pattern": {
              "fillmode": "overlay",
              "size": 10,
              "solidity": 0.2
             }
            },
            "type": "histogram"
           }
          ],
          "histogram2d": [
           {
            "colorbar": {
             "outlinewidth": 0,
             "ticks": ""
            },
            "colorscale": [
             [
              0,
              "#0d0887"
             ],
             [
              0.1111111111111111,
              "#46039f"
             ],
             [
              0.2222222222222222,
              "#7201a8"
             ],
             [
              0.3333333333333333,
              "#9c179e"
             ],
             [
              0.4444444444444444,
              "#bd3786"
             ],
             [
              0.5555555555555556,
              "#d8576b"
             ],
             [
              0.6666666666666666,
              "#ed7953"
             ],
             [
              0.7777777777777778,
              "#fb9f3a"
             ],
             [
              0.8888888888888888,
              "#fdca26"
             ],
             [
              1,
              "#f0f921"
             ]
            ],
            "type": "histogram2d"
           }
          ],
          "histogram2dcontour": [
           {
            "colorbar": {
             "outlinewidth": 0,
             "ticks": ""
            },
            "colorscale": [
             [
              0,
              "#0d0887"
             ],
             [
              0.1111111111111111,
              "#46039f"
             ],
             [
              0.2222222222222222,
              "#7201a8"
             ],
             [
              0.3333333333333333,
              "#9c179e"
             ],
             [
              0.4444444444444444,
              "#bd3786"
             ],
             [
              0.5555555555555556,
              "#d8576b"
             ],
             [
              0.6666666666666666,
              "#ed7953"
             ],
             [
              0.7777777777777778,
              "#fb9f3a"
             ],
             [
              0.8888888888888888,
              "#fdca26"
             ],
             [
              1,
              "#f0f921"
             ]
            ],
            "type": "histogram2dcontour"
           }
          ],
          "mesh3d": [
           {
            "colorbar": {
             "outlinewidth": 0,
             "ticks": ""
            },
            "type": "mesh3d"
           }
          ],
          "parcoords": [
           {
            "line": {
             "colorbar": {
              "outlinewidth": 0,
              "ticks": ""
             }
            },
            "type": "parcoords"
           }
          ],
          "pie": [
           {
            "automargin": true,
            "type": "pie"
           }
          ],
          "scatter": [
           {
            "fillpattern": {
             "fillmode": "overlay",
             "size": 10,
             "solidity": 0.2
            },
            "type": "scatter"
           }
          ],
          "scatter3d": [
           {
            "line": {
             "colorbar": {
              "outlinewidth": 0,
              "ticks": ""
             }
            },
            "marker": {
             "colorbar": {
              "outlinewidth": 0,
              "ticks": ""
             }
            },
            "type": "scatter3d"
           }
          ],
          "scattercarpet": [
           {
            "marker": {
             "colorbar": {
              "outlinewidth": 0,
              "ticks": ""
             }
            },
            "type": "scattercarpet"
           }
          ],
          "scattergeo": [
           {
            "marker": {
             "colorbar": {
              "outlinewidth": 0,
              "ticks": ""
             }
            },
            "type": "scattergeo"
           }
          ],
          "scattergl": [
           {
            "marker": {
             "colorbar": {
              "outlinewidth": 0,
              "ticks": ""
             }
            },
            "type": "scattergl"
           }
          ],
          "scattermapbox": [
           {
            "marker": {
             "colorbar": {
              "outlinewidth": 0,
              "ticks": ""
             }
            },
            "type": "scattermapbox"
           }
          ],
          "scatterpolar": [
           {
            "marker": {
             "colorbar": {
              "outlinewidth": 0,
              "ticks": ""
             }
            },
            "type": "scatterpolar"
           }
          ],
          "scatterpolargl": [
           {
            "marker": {
             "colorbar": {
              "outlinewidth": 0,
              "ticks": ""
             }
            },
            "type": "scatterpolargl"
           }
          ],
          "scatterternary": [
           {
            "marker": {
             "colorbar": {
              "outlinewidth": 0,
              "ticks": ""
             }
            },
            "type": "scatterternary"
           }
          ],
          "surface": [
           {
            "colorbar": {
             "outlinewidth": 0,
             "ticks": ""
            },
            "colorscale": [
             [
              0,
              "#0d0887"
             ],
             [
              0.1111111111111111,
              "#46039f"
             ],
             [
              0.2222222222222222,
              "#7201a8"
             ],
             [
              0.3333333333333333,
              "#9c179e"
             ],
             [
              0.4444444444444444,
              "#bd3786"
             ],
             [
              0.5555555555555556,
              "#d8576b"
             ],
             [
              0.6666666666666666,
              "#ed7953"
             ],
             [
              0.7777777777777778,
              "#fb9f3a"
             ],
             [
              0.8888888888888888,
              "#fdca26"
             ],
             [
              1,
              "#f0f921"
             ]
            ],
            "type": "surface"
           }
          ],
          "table": [
           {
            "cells": {
             "fill": {
              "color": "#EBF0F8"
             },
             "line": {
              "color": "white"
             }
            },
            "header": {
             "fill": {
              "color": "#C8D4E3"
             },
             "line": {
              "color": "white"
             }
            },
            "type": "table"
           }
          ]
         },
         "layout": {
          "annotationdefaults": {
           "arrowcolor": "#2a3f5f",
           "arrowhead": 0,
           "arrowwidth": 1
          },
          "autotypenumbers": "strict",
          "coloraxis": {
           "colorbar": {
            "outlinewidth": 0,
            "ticks": ""
           }
          },
          "colorscale": {
           "diverging": [
            [
             0,
             "#8e0152"
            ],
            [
             0.1,
             "#c51b7d"
            ],
            [
             0.2,
             "#de77ae"
            ],
            [
             0.3,
             "#f1b6da"
            ],
            [
             0.4,
             "#fde0ef"
            ],
            [
             0.5,
             "#f7f7f7"
            ],
            [
             0.6,
             "#e6f5d0"
            ],
            [
             0.7,
             "#b8e186"
            ],
            [
             0.8,
             "#7fbc41"
            ],
            [
             0.9,
             "#4d9221"
            ],
            [
             1,
             "#276419"
            ]
           ],
           "sequential": [
            [
             0,
             "#0d0887"
            ],
            [
             0.1111111111111111,
             "#46039f"
            ],
            [
             0.2222222222222222,
             "#7201a8"
            ],
            [
             0.3333333333333333,
             "#9c179e"
            ],
            [
             0.4444444444444444,
             "#bd3786"
            ],
            [
             0.5555555555555556,
             "#d8576b"
            ],
            [
             0.6666666666666666,
             "#ed7953"
            ],
            [
             0.7777777777777778,
             "#fb9f3a"
            ],
            [
             0.8888888888888888,
             "#fdca26"
            ],
            [
             1,
             "#f0f921"
            ]
           ],
           "sequentialminus": [
            [
             0,
             "#0d0887"
            ],
            [
             0.1111111111111111,
             "#46039f"
            ],
            [
             0.2222222222222222,
             "#7201a8"
            ],
            [
             0.3333333333333333,
             "#9c179e"
            ],
            [
             0.4444444444444444,
             "#bd3786"
            ],
            [
             0.5555555555555556,
             "#d8576b"
            ],
            [
             0.6666666666666666,
             "#ed7953"
            ],
            [
             0.7777777777777778,
             "#fb9f3a"
            ],
            [
             0.8888888888888888,
             "#fdca26"
            ],
            [
             1,
             "#f0f921"
            ]
           ]
          },
          "colorway": [
           "#636efa",
           "#EF553B",
           "#00cc96",
           "#ab63fa",
           "#FFA15A",
           "#19d3f3",
           "#FF6692",
           "#B6E880",
           "#FF97FF",
           "#FECB52"
          ],
          "font": {
           "color": "#2a3f5f"
          },
          "geo": {
           "bgcolor": "white",
           "lakecolor": "white",
           "landcolor": "#E5ECF6",
           "showlakes": true,
           "showland": true,
           "subunitcolor": "white"
          },
          "hoverlabel": {
           "align": "left"
          },
          "hovermode": "closest",
          "mapbox": {
           "style": "light"
          },
          "paper_bgcolor": "white",
          "plot_bgcolor": "#E5ECF6",
          "polar": {
           "angularaxis": {
            "gridcolor": "white",
            "linecolor": "white",
            "ticks": ""
           },
           "bgcolor": "#E5ECF6",
           "radialaxis": {
            "gridcolor": "white",
            "linecolor": "white",
            "ticks": ""
           }
          },
          "scene": {
           "xaxis": {
            "backgroundcolor": "#E5ECF6",
            "gridcolor": "white",
            "gridwidth": 2,
            "linecolor": "white",
            "showbackground": true,
            "ticks": "",
            "zerolinecolor": "white"
           },
           "yaxis": {
            "backgroundcolor": "#E5ECF6",
            "gridcolor": "white",
            "gridwidth": 2,
            "linecolor": "white",
            "showbackground": true,
            "ticks": "",
            "zerolinecolor": "white"
           },
           "zaxis": {
            "backgroundcolor": "#E5ECF6",
            "gridcolor": "white",
            "gridwidth": 2,
            "linecolor": "white",
            "showbackground": true,
            "ticks": "",
            "zerolinecolor": "white"
           }
          },
          "shapedefaults": {
           "line": {
            "color": "#2a3f5f"
           }
          },
          "ternary": {
           "aaxis": {
            "gridcolor": "white",
            "linecolor": "white",
            "ticks": ""
           },
           "baxis": {
            "gridcolor": "white",
            "linecolor": "white",
            "ticks": ""
           },
           "bgcolor": "#E5ECF6",
           "caxis": {
            "gridcolor": "white",
            "linecolor": "white",
            "ticks": ""
           }
          },
          "title": {
           "x": 0.05
          },
          "xaxis": {
           "automargin": true,
           "gridcolor": "white",
           "linecolor": "white",
           "ticks": "",
           "title": {
            "standoff": 15
           },
           "zerolinecolor": "white",
           "zerolinewidth": 2
          },
          "yaxis": {
           "automargin": true,
           "gridcolor": "white",
           "linecolor": "white",
           "ticks": "",
           "title": {
            "standoff": 15
           },
           "zerolinecolor": "white",
           "zerolinewidth": 2
          }
         }
        },
        "title": {
         "text": "Validation and Submission Scores"
        },
        "width": 750,
        "xaxis": {
         "ticklen": 10,
         "zeroline": false
        },
        "yaxis": {
         "side": "left",
         "ticklen": 10,
         "title": {
          "text": "Accuracy"
         }
        }
       }
      },
      "text/html": [
       "<div>                            <div id=\"38661764-413e-4e66-aabd-5de715f42310\" class=\"plotly-graph-div\" style=\"height:500px; width:750px;\"></div>            <script type=\"text/javascript\">                require([\"plotly\"], function(Plotly) {                    window.PLOTLYENV=window.PLOTLYENV || {};                                    if (document.getElementById(\"38661764-413e-4e66-aabd-5de715f42310\")) {                    Plotly.newPlot(                        \"38661764-413e-4e66-aabd-5de715f42310\",                        [{\"name\":\"Validation\",\"text\":[\"MLP\",\"Keras\",\"TFQ\",\"Qiskit\"],\"x\":[\"MLP\",\"Keras\",\"TFQ\",\"Qiskit\"],\"y\":[93.65132683909977,76.78871154785156,50.1847505569458,32.97872340425532],\"type\":\"scatter\"}],                        {\"autosize\":false,\"height\":500,\"legend\":{\"orientation\":\"v\",\"x\":1.05,\"y\":1.0},\"template\":{\"data\":{\"barpolar\":[{\"marker\":{\"line\":{\"color\":\"#E5ECF6\",\"width\":0.5},\"pattern\":{\"fillmode\":\"overlay\",\"size\":10,\"solidity\":0.2}},\"type\":\"barpolar\"}],\"bar\":[{\"error_x\":{\"color\":\"#2a3f5f\"},\"error_y\":{\"color\":\"#2a3f5f\"},\"marker\":{\"line\":{\"color\":\"#E5ECF6\",\"width\":0.5},\"pattern\":{\"fillmode\":\"overlay\",\"size\":10,\"solidity\":0.2}},\"type\":\"bar\"}],\"carpet\":[{\"aaxis\":{\"endlinecolor\":\"#2a3f5f\",\"gridcolor\":\"white\",\"linecolor\":\"white\",\"minorgridcolor\":\"white\",\"startlinecolor\":\"#2a3f5f\"},\"baxis\":{\"endlinecolor\":\"#2a3f5f\",\"gridcolor\":\"white\",\"linecolor\":\"white\",\"minorgridcolor\":\"white\",\"startlinecolor\":\"#2a3f5f\"},\"type\":\"carpet\"}],\"choropleth\":[{\"colorbar\":{\"outlinewidth\":0,\"ticks\":\"\"},\"type\":\"choropleth\"}],\"contourcarpet\":[{\"colorbar\":{\"outlinewidth\":0,\"ticks\":\"\"},\"type\":\"contourcarpet\"}],\"contour\":[{\"colorbar\":{\"outlinewidth\":0,\"ticks\":\"\"},\"colorscale\":[[0.0,\"#0d0887\"],[0.1111111111111111,\"#46039f\"],[0.2222222222222222,\"#7201a8\"],[0.3333333333333333,\"#9c179e\"],[0.4444444444444444,\"#bd3786\"],[0.5555555555555556,\"#d8576b\"],[0.6666666666666666,\"#ed7953\"],[0.7777777777777778,\"#fb9f3a\"],[0.8888888888888888,\"#fdca26\"],[1.0,\"#f0f921\"]],\"type\":\"contour\"}],\"heatmapgl\":[{\"colorbar\":{\"outlinewidth\":0,\"ticks\":\"\"},\"colorscale\":[[0.0,\"#0d0887\"],[0.1111111111111111,\"#46039f\"],[0.2222222222222222,\"#7201a8\"],[0.3333333333333333,\"#9c179e\"],[0.4444444444444444,\"#bd3786\"],[0.5555555555555556,\"#d8576b\"],[0.6666666666666666,\"#ed7953\"],[0.7777777777777778,\"#fb9f3a\"],[0.8888888888888888,\"#fdca26\"],[1.0,\"#f0f921\"]],\"type\":\"heatmapgl\"}],\"heatmap\":[{\"colorbar\":{\"outlinewidth\":0,\"ticks\":\"\"},\"colorscale\":[[0.0,\"#0d0887\"],[0.1111111111111111,\"#46039f\"],[0.2222222222222222,\"#7201a8\"],[0.3333333333333333,\"#9c179e\"],[0.4444444444444444,\"#bd3786\"],[0.5555555555555556,\"#d8576b\"],[0.6666666666666666,\"#ed7953\"],[0.7777777777777778,\"#fb9f3a\"],[0.8888888888888888,\"#fdca26\"],[1.0,\"#f0f921\"]],\"type\":\"heatmap\"}],\"histogram2dcontour\":[{\"colorbar\":{\"outlinewidth\":0,\"ticks\":\"\"},\"colorscale\":[[0.0,\"#0d0887\"],[0.1111111111111111,\"#46039f\"],[0.2222222222222222,\"#7201a8\"],[0.3333333333333333,\"#9c179e\"],[0.4444444444444444,\"#bd3786\"],[0.5555555555555556,\"#d8576b\"],[0.6666666666666666,\"#ed7953\"],[0.7777777777777778,\"#fb9f3a\"],[0.8888888888888888,\"#fdca26\"],[1.0,\"#f0f921\"]],\"type\":\"histogram2dcontour\"}],\"histogram2d\":[{\"colorbar\":{\"outlinewidth\":0,\"ticks\":\"\"},\"colorscale\":[[0.0,\"#0d0887\"],[0.1111111111111111,\"#46039f\"],[0.2222222222222222,\"#7201a8\"],[0.3333333333333333,\"#9c179e\"],[0.4444444444444444,\"#bd3786\"],[0.5555555555555556,\"#d8576b\"],[0.6666666666666666,\"#ed7953\"],[0.7777777777777778,\"#fb9f3a\"],[0.8888888888888888,\"#fdca26\"],[1.0,\"#f0f921\"]],\"type\":\"histogram2d\"}],\"histogram\":[{\"marker\":{\"pattern\":{\"fillmode\":\"overlay\",\"size\":10,\"solidity\":0.2}},\"type\":\"histogram\"}],\"mesh3d\":[{\"colorbar\":{\"outlinewidth\":0,\"ticks\":\"\"},\"type\":\"mesh3d\"}],\"parcoords\":[{\"line\":{\"colorbar\":{\"outlinewidth\":0,\"ticks\":\"\"}},\"type\":\"parcoords\"}],\"pie\":[{\"automargin\":true,\"type\":\"pie\"}],\"scatter3d\":[{\"line\":{\"colorbar\":{\"outlinewidth\":0,\"ticks\":\"\"}},\"marker\":{\"colorbar\":{\"outlinewidth\":0,\"ticks\":\"\"}},\"type\":\"scatter3d\"}],\"scattercarpet\":[{\"marker\":{\"colorbar\":{\"outlinewidth\":0,\"ticks\":\"\"}},\"type\":\"scattercarpet\"}],\"scattergeo\":[{\"marker\":{\"colorbar\":{\"outlinewidth\":0,\"ticks\":\"\"}},\"type\":\"scattergeo\"}],\"scattergl\":[{\"marker\":{\"colorbar\":{\"outlinewidth\":0,\"ticks\":\"\"}},\"type\":\"scattergl\"}],\"scattermapbox\":[{\"marker\":{\"colorbar\":{\"outlinewidth\":0,\"ticks\":\"\"}},\"type\":\"scattermapbox\"}],\"scatterpolargl\":[{\"marker\":{\"colorbar\":{\"outlinewidth\":0,\"ticks\":\"\"}},\"type\":\"scatterpolargl\"}],\"scatterpolar\":[{\"marker\":{\"colorbar\":{\"outlinewidth\":0,\"ticks\":\"\"}},\"type\":\"scatterpolar\"}],\"scatter\":[{\"fillpattern\":{\"fillmode\":\"overlay\",\"size\":10,\"solidity\":0.2},\"type\":\"scatter\"}],\"scatterternary\":[{\"marker\":{\"colorbar\":{\"outlinewidth\":0,\"ticks\":\"\"}},\"type\":\"scatterternary\"}],\"surface\":[{\"colorbar\":{\"outlinewidth\":0,\"ticks\":\"\"},\"colorscale\":[[0.0,\"#0d0887\"],[0.1111111111111111,\"#46039f\"],[0.2222222222222222,\"#7201a8\"],[0.3333333333333333,\"#9c179e\"],[0.4444444444444444,\"#bd3786\"],[0.5555555555555556,\"#d8576b\"],[0.6666666666666666,\"#ed7953\"],[0.7777777777777778,\"#fb9f3a\"],[0.8888888888888888,\"#fdca26\"],[1.0,\"#f0f921\"]],\"type\":\"surface\"}],\"table\":[{\"cells\":{\"fill\":{\"color\":\"#EBF0F8\"},\"line\":{\"color\":\"white\"}},\"header\":{\"fill\":{\"color\":\"#C8D4E3\"},\"line\":{\"color\":\"white\"}},\"type\":\"table\"}]},\"layout\":{\"annotationdefaults\":{\"arrowcolor\":\"#2a3f5f\",\"arrowhead\":0,\"arrowwidth\":1},\"autotypenumbers\":\"strict\",\"coloraxis\":{\"colorbar\":{\"outlinewidth\":0,\"ticks\":\"\"}},\"colorscale\":{\"diverging\":[[0,\"#8e0152\"],[0.1,\"#c51b7d\"],[0.2,\"#de77ae\"],[0.3,\"#f1b6da\"],[0.4,\"#fde0ef\"],[0.5,\"#f7f7f7\"],[0.6,\"#e6f5d0\"],[0.7,\"#b8e186\"],[0.8,\"#7fbc41\"],[0.9,\"#4d9221\"],[1,\"#276419\"]],\"sequential\":[[0.0,\"#0d0887\"],[0.1111111111111111,\"#46039f\"],[0.2222222222222222,\"#7201a8\"],[0.3333333333333333,\"#9c179e\"],[0.4444444444444444,\"#bd3786\"],[0.5555555555555556,\"#d8576b\"],[0.6666666666666666,\"#ed7953\"],[0.7777777777777778,\"#fb9f3a\"],[0.8888888888888888,\"#fdca26\"],[1.0,\"#f0f921\"]],\"sequentialminus\":[[0.0,\"#0d0887\"],[0.1111111111111111,\"#46039f\"],[0.2222222222222222,\"#7201a8\"],[0.3333333333333333,\"#9c179e\"],[0.4444444444444444,\"#bd3786\"],[0.5555555555555556,\"#d8576b\"],[0.6666666666666666,\"#ed7953\"],[0.7777777777777778,\"#fb9f3a\"],[0.8888888888888888,\"#fdca26\"],[1.0,\"#f0f921\"]]},\"colorway\":[\"#636efa\",\"#EF553B\",\"#00cc96\",\"#ab63fa\",\"#FFA15A\",\"#19d3f3\",\"#FF6692\",\"#B6E880\",\"#FF97FF\",\"#FECB52\"],\"font\":{\"color\":\"#2a3f5f\"},\"geo\":{\"bgcolor\":\"white\",\"lakecolor\":\"white\",\"landcolor\":\"#E5ECF6\",\"showlakes\":true,\"showland\":true,\"subunitcolor\":\"white\"},\"hoverlabel\":{\"align\":\"left\"},\"hovermode\":\"closest\",\"mapbox\":{\"style\":\"light\"},\"paper_bgcolor\":\"white\",\"plot_bgcolor\":\"#E5ECF6\",\"polar\":{\"angularaxis\":{\"gridcolor\":\"white\",\"linecolor\":\"white\",\"ticks\":\"\"},\"bgcolor\":\"#E5ECF6\",\"radialaxis\":{\"gridcolor\":\"white\",\"linecolor\":\"white\",\"ticks\":\"\"}},\"scene\":{\"xaxis\":{\"backgroundcolor\":\"#E5ECF6\",\"gridcolor\":\"white\",\"gridwidth\":2,\"linecolor\":\"white\",\"showbackground\":true,\"ticks\":\"\",\"zerolinecolor\":\"white\"},\"yaxis\":{\"backgroundcolor\":\"#E5ECF6\",\"gridcolor\":\"white\",\"gridwidth\":2,\"linecolor\":\"white\",\"showbackground\":true,\"ticks\":\"\",\"zerolinecolor\":\"white\"},\"zaxis\":{\"backgroundcolor\":\"#E5ECF6\",\"gridcolor\":\"white\",\"gridwidth\":2,\"linecolor\":\"white\",\"showbackground\":true,\"ticks\":\"\",\"zerolinecolor\":\"white\"}},\"shapedefaults\":{\"line\":{\"color\":\"#2a3f5f\"}},\"ternary\":{\"aaxis\":{\"gridcolor\":\"white\",\"linecolor\":\"white\",\"ticks\":\"\"},\"baxis\":{\"gridcolor\":\"white\",\"linecolor\":\"white\",\"ticks\":\"\"},\"bgcolor\":\"#E5ECF6\",\"caxis\":{\"gridcolor\":\"white\",\"linecolor\":\"white\",\"ticks\":\"\"}},\"title\":{\"x\":0.05},\"xaxis\":{\"automargin\":true,\"gridcolor\":\"white\",\"linecolor\":\"white\",\"ticks\":\"\",\"title\":{\"standoff\":15},\"zerolinecolor\":\"white\",\"zerolinewidth\":2},\"yaxis\":{\"automargin\":true,\"gridcolor\":\"white\",\"linecolor\":\"white\",\"ticks\":\"\",\"title\":{\"standoff\":15},\"zerolinecolor\":\"white\",\"zerolinewidth\":2}}},\"title\":{\"text\":\"Validation and Submission Scores\"},\"width\":750,\"xaxis\":{\"ticklen\":10,\"zeroline\":false},\"yaxis\":{\"side\":\"left\",\"ticklen\":10,\"title\":{\"text\":\"Accuracy\"}}},                        {\"responsive\": true}                    ).then(function(){\n",
       "                            \n",
       "var gd = document.getElementById('38661764-413e-4e66-aabd-5de715f42310');\n",
       "var x = new MutationObserver(function (mutations, observer) {{\n",
       "        var display = window.getComputedStyle(gd).display;\n",
       "        if (!display || display === 'none') {{\n",
       "            console.log([gd, 'removed!']);\n",
       "            Plotly.purge(gd);\n",
       "            observer.disconnect();\n",
       "        }}\n",
       "}});\n",
       "\n",
       "// Listen for the removal of the full notebook cells\n",
       "var notebookContainer = gd.closest('#notebook-container');\n",
       "if (notebookContainer) {{\n",
       "    x.observe(notebookContainer, {childList: true});\n",
       "}}\n",
       "\n",
       "// Listen for the clearing of the current output cell\n",
       "var outputEl = gd.closest('.output');\n",
       "if (outputEl) {{\n",
       "    x.observe(outputEl, {childList: true});\n",
       "}}\n",
       "\n",
       "                        })                };                });            </script>        </div>"
      ]
     },
     "metadata": {},
     "output_type": "display_data"
    }
   ],
   "source": [
    "trace1 = go.Scatter(x = list_classifiers, y = val_scores,\n",
    "                   name=\"Validation\", text = list_classifiers)\n",
    "\n",
    "data = [trace1]\n",
    "\n",
    "layout = dict(title = \"Validation and Submission Scores\", \n",
    "              xaxis=dict(ticklen=10, zeroline= False),\n",
    "              yaxis=dict(title = \"Accuracy\", side='left', ticklen=10,),                                  \n",
    "              legend=dict(orientation=\"v\", x=1.05, y=1.0),\n",
    "              autosize=False, width=750, height=500,\n",
    "              )\n",
    "\n",
    "fig = dict(data = data, layout = layout)\n",
    "iplot(fig)"
   ]
  },
  {
   "cell_type": "code",
   "execution_count": 103,
   "id": "1265f38b",
   "metadata": {},
   "outputs": [
    {
     "data": {
      "text/plain": [
       "<AxesSubplot: >"
      ]
     },
     "execution_count": 103,
     "metadata": {},
     "output_type": "execute_result"
    },
    {
     "data": {
      "image/png": "[encoded data removed]",
      "text/plain": [
       "<Figure size 640x480 with 1 Axes>"
      ]
     },
     "metadata": {},
     "output_type": "display_data"
    }
   ],
   "source": [
    "#seaborn.barplot(x=[\"SVC\", \"MPL\",\"TFQ\"],\n",
    "            #y=[resultados_svc[0], resultados_mlp[0],qnn_accuracy])\n",
    "    \n",
    "seaborn.barplot(x=[\"MPL\",\"Keras\",\"TFQ\",\"Qiskit\"],y=[resultados_mlp[0], score[1]*100,test_acc*100,accuracy])"
   ]
  },
  {
   "cell_type": "code",
   "execution_count": 125,
   "id": "8a43189e",
   "metadata": {},
   "outputs": [
    {
     "data": {
      "image/png": "[encoded data removed]",
      "text/plain": [
       "<Figure size 1000x1000 with 8 Axes>"
      ]
     },
     "metadata": {},
     "output_type": "display_data"
    }
   ],
   "source": [
    "media_uso_cpu_entrenamiento_mlp = np.mean(cpu_percent_list_train_mlp)\n",
    "media_uso_cpu_entrenamiento_keras = np.mean(cpu_percent_list_train_keras)\n",
    "media_uso_cpu_entrenamiento_tfq = np.mean(cpu_percent_list_train_tfq)\n",
    "media_uso_cpu_entrenamiento_q = np.mean(cpu_percent_list_train_q)\n",
    "\n",
    "media_uso_cpu_test_mlp = np.mean(cpu_percent_list_test_mlp)\n",
    "media_uso_cpu_test_keras = np.mean(cpu_percent_list_test_keras)\n",
    "media_uso_cpu_test_tfq = np.mean(cpu_percent_list_test_tfq)\n",
    "media_uso_cpu_test_q = np.mean(cpu_percent_list_test_q)\n",
    "\n",
    "nombres = ['media_uso_cpu_entrenamiento_mlp','media_uso_cpu_entrenamiento_keras',\n",
    "           'media_uso_cpu_entrenamiento_tfq','media_uso_cpu_entrenamiento_qiskit',\n",
    "           'media_uso_cpu_test_mlp','media_uso_cpu_test_keras',\n",
    "          'media_uso_cpu_test_tfq','media_uso_cpu_test_qiskit']\n",
    "\n",
    "porcentajes = [media_uso_cpu_entrenamiento_mlp, media_uso_cpu_entrenamiento_keras,media_uso_cpu_entrenamiento_tfq\n",
    "               ,media_uso_cpu_entrenamiento_q,media_uso_cpu_test_mlp,media_uso_cpu_test_keras, \n",
    "               media_uso_cpu_test_tfq,media_uso_cpu_test_q]\n",
    "\n",
    "\n",
    "num_plots = len(porcentajes)\n",
    "num_cols = min(num_plots, 2)\n",
    "num_rows = (num_plots + num_cols - 1) // num_cols\n",
    "\n",
    "# Create figure and subplots\n",
    "fig, axs = plt.subplots(num_rows, num_cols, figsize=(10, 10))\n",
    "\n",
    "# Iterate over subplots and percentages\n",
    "for i, (porcentaje, nombre) in enumerate(zip(porcentajes, nombres)):\n",
    "    row = i // num_cols\n",
    "    col = i % num_cols\n",
    "    \n",
    "    # Create pie chart with percentage and remaining percentage\n",
    "    restante = 100 - porcentaje\n",
    "    datos = [porcentaje, restante]\n",
    "    axs[row, col].pie(datos, colors=['blue', 'white'], startangle=90, counterclock=False, wedgeprops={'width': 0.5, 'edgecolor': 'white'})\n",
    "    \n",
    "    # Add percentage as text in center of pie chart\n",
    "    axs[row, col].text(0, 0, f'{np.around(porcentaje, 1)}%', ha='center', va='center', fontsize=20)\n",
    "    axs[row, col].axis('equal')\n",
    "    \n",
    "    # Add title to subplot\n",
    "    axs[row, col].set_title(nombre)\n",
    "\n",
    "# Add spacing between subplots\n",
    "fig.tight_layout()\n",
    "\n",
    "# Show plot\n",
    "plt.show()"
   ]
  },
  {
   "cell_type": "code",
   "execution_count": 126,
   "id": "ab51d94c",
   "metadata": {},
   "outputs": [
    {
     "data": {
      "image/png": "[encoded data removed]",
      "text/plain": [
       "<Figure size 1000x1000 with 8 Axes>"
      ]
     },
     "metadata": {},
     "output_type": "display_data"
    }
   ],
   "source": [
    "media_uso_ram_entrenamiento_mlp = np.mean(memory_usage_list_train_mlp)\n",
    "media_uso_ram_entrenamiento_keras = np.mean(memory_usage_list_train_keras)\n",
    "media_uso_ram_entrenamiento_tfq = np.mean(memory_usage_list_train_tfq)\n",
    "media_uso_ram_entrenamiento_q = np.mean(memory_usage_list_train_q)\n",
    "\n",
    "media_uso_ram_test_mlp = np.mean(memory_usage_list_test_mlp)\n",
    "media_uso_ram_test_keras = np.mean(memory_usage_list_test_keras)\n",
    "media_uso_ram_test_tfq = np.mean(memory_usage_list_test_tfq)\n",
    "media_uso_ram_test_q = np.mean(memory_usage_list_test_q)\n",
    "\n",
    "nombres = ['media_uso_ram_entrenamiento_mlp','media_uso_ram_entrenamiento_keras',\n",
    "           'media_uso_ram_entrenamiento_tfq','media_uso_ram_entrenamiento_qiskit',\n",
    "           'media_uso_ram_test_mlp','media_uso_ram_test_keras',\n",
    "          'media_uso_ram_test_tfq','media_uso_ram_test_qiskit']\n",
    "\n",
    "porcentajes = [media_uso_ram_entrenamiento_mlp, media_uso_ram_entrenamiento_keras,media_uso_ram_entrenamiento_tfq\n",
    "               ,media_uso_ram_entrenamiento_q,media_uso_ram_test_mlp,media_uso_ram_test_keras, \n",
    "               media_uso_ram_test_tfq,media_uso_ram_test_q]\n",
    "\n",
    "\n",
    "num_plots = len(porcentajes)\n",
    "num_cols = min(num_plots, 2)\n",
    "num_rows = (num_plots + num_cols - 1) // num_cols\n",
    "\n",
    "# Create figure and subplots\n",
    "fig, axs = plt.subplots(num_rows, num_cols, figsize=(10, 10))\n",
    "\n",
    "# Iterate over subplots and percentages\n",
    "for i, (porcentaje, nombre) in enumerate(zip(porcentajes, nombres)):\n",
    "    row = i // num_cols\n",
    "    col = i % num_cols\n",
    "    \n",
    "    # Create pie chart with percentage and remaining percentage\n",
    "    restante = 100 - porcentaje\n",
    "    datos = [porcentaje, restante]\n",
    "    axs[row, col].pie(datos, colors=['blue', 'white'], startangle=90, counterclock=False, wedgeprops={'width': 0.5, 'edgecolor': 'white'})\n",
    "    \n",
    "    # Add percentage as text in center of pie chart\n",
    "    axs[row, col].text(0, 0, f'{np.around(porcentaje, 1)}%', ha='center', va='center', fontsize=20)\n",
    "    axs[row, col].axis('equal')\n",
    "    \n",
    "    # Add title to subplot\n",
    "    axs[row, col].set_title(nombre)\n",
    "\n",
    "# Add spacing between subplots\n",
    "fig.tight_layout()\n",
    "\n",
    "# Show plot\n",
    "plt.show()"
   ]
  },
  {
   "cell_type": "code",
   "execution_count": 127,
   "id": "2edc3379",
   "metadata": {},
   "outputs": [
    {
     "data": {
      "text/plain": [
       "Text(0.5, 1.0, 'Tiempo de entrenamiento')"
      ]
     },
     "execution_count": 127,
     "metadata": {},
     "output_type": "execute_result"
    },
    {
     "data": {
      "image/png": "[encoded data removed]",
      "text/plain": [
       "<Figure size 1000x500 with 1 Axes>"
      ]
     },
     "metadata": {},
     "output_type": "display_data"
    }
   ],
   "source": [
    "#PONER TIEMPOS ENTRENAMIENTO EN LOS ALGORITMOS, FALTA, IGUAL CON EL TESTEO, AHORA MISMO SOLO DE EJEMPLO\n",
    "modelos = [\"MPL\", \"Keras\",\"TFQ\",\"Qiskit\"]\n",
    "counts = [tiempo_entrenamieno_mlp,5,2400,5400]\n",
    "fig = plt.figure(dpi=100, figsize=(10,5))\n",
    "ax = fig.gca()\n",
    "seaborn.barplot(x=modelos, y=counts, ax=ax, orient=\"v\")\n",
    "ax.set_ylabel(\"Tiempo en segundos\")\n",
    "ax.set_xlabel(\"Modelo\")\n",
    "ax.set_title(f\"Tiempo de entrenamiento\")"
   ]
  },
  {
   "cell_type": "code",
   "execution_count": 165,
   "id": "e1806691",
   "metadata": {},
   "outputs": [
    {
     "data": {
      "text/plain": [
       "Text(0.5, 1.0, 'Tiempo de entrenamiento')"
      ]
     },
     "execution_count": 165,
     "metadata": {},
     "output_type": "execute_result"
    },
    {
     "data": {
      "image/png": "[encoded data removed]",
      "text/plain": [
       "<Figure size 1000x500 with 1 Axes>"
      ]
     },
     "metadata": {},
     "output_type": "display_data"
    }
   ],
   "source": [
    "modelos = [\"MPL\", \"Keras\",\"TFQ\",\"Qiskit\"]\n",
    "counts = [tiempo_testeo_mlp,8,5,9]\n",
    "fig = plt.figure(dpi=100, figsize=(10,5))\n",
    "ax = fig.gca()\n",
    "seaborn.barplot(x=modelos, y=counts, ax=ax, orient=\"v\")\n",
    "ax.set_ylabel(\"Tiempo en segundos\")\n",
    "ax.set_xlabel(\"Modelo\")\n",
    "ax.set_title(f\"Tiempo de entrenamiento\")"
   ]
  },
  {
   "cell_type": "code",
   "execution_count": null,
   "id": "322c66e3",
   "metadata": {},
   "outputs": [],
   "source": []
  }
 ],
 "metadata": {
  "kernelspec": {
   "display_name": "Python 3 (ipykernel)",
   "language": "python",
   "name": "python3"
  },
  "language_info": {
   "codemirror_mode": {
    "name": "ipython",
    "version": 3
   },
   "file_extension": ".py",
   "mimetype": "text/x-python",
   "name": "python",
   "nbconvert_exporter": "python",
   "pygments_lexer": "ipython3",
   "version": "3.8.16"
  }
 },
 "nbformat": 4,
 "nbformat_minor": 5
}
